{
 "cells": [
  {
   "cell_type": "code",
   "execution_count": 1,
   "metadata": {},
   "outputs": [],
   "source": [
    "import numpy as np\n",
    "import pandas as pd\n",
    "import numpy as np # linear algebra\n",
    "import pandas as pd # data processing, CSV file I/O (e.g. pd.read_csv)\n",
    "import seaborn as sns\n",
    "import math\n",
    "import matplotlib.pyplot as plt\n",
    "from matplotlib.pylab import rcParams\n",
    "\n",
    "from sklearn.preprocessing import MinMaxScaler, StandardScaler\n",
    "from sklearn.linear_model import ElasticNet, Lasso, LinearRegression\n",
    "from sklearn.ensemble import RandomForestRegressor\n",
    "from sklearn.svm import SVR\n",
    "from sklearn.model_selection import train_test_split, GridSearchCV\n",
    "from bayes_opt import BayesianOptimization\n",
    "from xgboost import XGBRegressor\n",
    "import lightgbm as lgb\n",
    "from sklearn.metrics import mean_squared_error, r2_score\n",
    "\n",
    "pd.options.display.max_columns = 50\n",
    "pd.options.display.max_rows = 20\n",
    "pd.options.display.min_rows = 20"
   ]
  },
  {
   "cell_type": "code",
   "execution_count": 2,
   "metadata": {},
   "outputs": [],
   "source": [
    "data = pd.read_csv('prepared_baseball_data.csv')"
   ]
  },
  {
   "cell_type": "markdown",
   "metadata": {},
   "source": [
    "## Explore the Data"
   ]
  },
  {
   "cell_type": "code",
   "execution_count": 3,
   "metadata": {},
   "outputs": [
    {
     "data": {
      "text/html": [
       "<div>\n",
       "<style scoped>\n",
       "    .dataframe tbody tr th:only-of-type {\n",
       "        vertical-align: middle;\n",
       "    }\n",
       "\n",
       "    .dataframe tbody tr th {\n",
       "        vertical-align: top;\n",
       "    }\n",
       "\n",
       "    .dataframe thead th {\n",
       "        text-align: right;\n",
       "    }\n",
       "</style>\n",
       "<table border=\"1\" class=\"dataframe\">\n",
       "  <thead>\n",
       "    <tr style=\"text-align: right;\">\n",
       "      <th></th>\n",
       "      <th>Season</th>\n",
       "      <th>Name</th>\n",
       "      <th>Team</th>\n",
       "      <th>G</th>\n",
       "      <th>Age</th>\n",
       "      <th>PA</th>\n",
       "      <th>HR</th>\n",
       "      <th>R</th>\n",
       "      <th>RBI</th>\n",
       "      <th>SB</th>\n",
       "      <th>BB%</th>\n",
       "      <th>K%</th>\n",
       "      <th>ISO</th>\n",
       "      <th>BABIP</th>\n",
       "      <th>AVG</th>\n",
       "      <th>OBP</th>\n",
       "      <th>SLG</th>\n",
       "      <th>wOBA</th>\n",
       "      <th>wRC+</th>\n",
       "      <th>EV</th>\n",
       "      <th>BsR</th>\n",
       "      <th>Off</th>\n",
       "      <th>O-Swing%</th>\n",
       "      <th>Z-Swing%</th>\n",
       "      <th>O-Contact%</th>\n",
       "      <th>Z-Contact%</th>\n",
       "      <th>GB/FB</th>\n",
       "      <th>LD%</th>\n",
       "      <th>GB%</th>\n",
       "      <th>HR/FB</th>\n",
       "      <th>playerid</th>\n",
       "      <th>HR_rate</th>\n",
       "      <th>R_rate</th>\n",
       "      <th>RBI_rate</th>\n",
       "      <th>SB_rate</th>\n",
       "      <th>HR_rate_std</th>\n",
       "      <th>R_rate_std</th>\n",
       "      <th>RBI_rate_std</th>\n",
       "      <th>SB_rate_std</th>\n",
       "      <th>AVG_std</th>\n",
       "      <th>f_val_std</th>\n",
       "      <th>ny_f_val</th>\n",
       "    </tr>\n",
       "  </thead>\n",
       "  <tbody>\n",
       "    <tr>\n",
       "      <th>0</th>\n",
       "      <td>2017</td>\n",
       "      <td>Mike Trout</td>\n",
       "      <td>Angels</td>\n",
       "      <td>114</td>\n",
       "      <td>25</td>\n",
       "      <td>507</td>\n",
       "      <td>33</td>\n",
       "      <td>92</td>\n",
       "      <td>72</td>\n",
       "      <td>22</td>\n",
       "      <td>0.185</td>\n",
       "      <td>0.178</td>\n",
       "      <td>0.323</td>\n",
       "      <td>0.318</td>\n",
       "      <td>0.306</td>\n",
       "      <td>0.442</td>\n",
       "      <td>0.629</td>\n",
       "      <td>0.437</td>\n",
       "      <td>180</td>\n",
       "      <td>88.8</td>\n",
       "      <td>4.0</td>\n",
       "      <td>54.4</td>\n",
       "      <td>0.197</td>\n",
       "      <td>0.615</td>\n",
       "      <td>0.681</td>\n",
       "      <td>0.901</td>\n",
       "      <td>0.82</td>\n",
       "      <td>0.184</td>\n",
       "      <td>0.367</td>\n",
       "      <td>0.232</td>\n",
       "      <td>10155</td>\n",
       "      <td>0.289474</td>\n",
       "      <td>0.807018</td>\n",
       "      <td>0.631579</td>\n",
       "      <td>0.192982</td>\n",
       "      <td>2.061054</td>\n",
       "      <td>2.497973</td>\n",
       "      <td>0.957319</td>\n",
       "      <td>1.866089</td>\n",
       "      <td>1.364350</td>\n",
       "      <td>8.746785</td>\n",
       "      <td>8.953784</td>\n",
       "    </tr>\n",
       "    <tr>\n",
       "      <th>1</th>\n",
       "      <td>2017</td>\n",
       "      <td>J.D. Martinez</td>\n",
       "      <td>- - -</td>\n",
       "      <td>119</td>\n",
       "      <td>29</td>\n",
       "      <td>489</td>\n",
       "      <td>45</td>\n",
       "      <td>85</td>\n",
       "      <td>104</td>\n",
       "      <td>4</td>\n",
       "      <td>0.108</td>\n",
       "      <td>0.262</td>\n",
       "      <td>0.387</td>\n",
       "      <td>0.327</td>\n",
       "      <td>0.303</td>\n",
       "      <td>0.376</td>\n",
       "      <td>0.690</td>\n",
       "      <td>0.430</td>\n",
       "      <td>167</td>\n",
       "      <td>90.9</td>\n",
       "      <td>-5.8</td>\n",
       "      <td>35.3</td>\n",
       "      <td>0.321</td>\n",
       "      <td>0.764</td>\n",
       "      <td>0.541</td>\n",
       "      <td>0.805</td>\n",
       "      <td>0.89</td>\n",
       "      <td>0.185</td>\n",
       "      <td>0.383</td>\n",
       "      <td>0.338</td>\n",
       "      <td>6184</td>\n",
       "      <td>0.378151</td>\n",
       "      <td>0.714286</td>\n",
       "      <td>0.873950</td>\n",
       "      <td>0.033613</td>\n",
       "      <td>3.387659</td>\n",
       "      <td>1.682132</td>\n",
       "      <td>2.818576</td>\n",
       "      <td>-0.372138</td>\n",
       "      <td>1.260631</td>\n",
       "      <td>8.776860</td>\n",
       "      <td>10.084667</td>\n",
       "    </tr>\n",
       "  </tbody>\n",
       "</table>\n",
       "</div>"
      ],
      "text/plain": [
       "   Season           Name    Team    G  Age   PA  HR   R  RBI  SB    BB%  \\\n",
       "0    2017     Mike Trout  Angels  114   25  507  33  92   72  22  0.185   \n",
       "1    2017  J.D. Martinez   - - -  119   29  489  45  85  104   4  0.108   \n",
       "\n",
       "      K%    ISO  BABIP    AVG    OBP    SLG   wOBA  wRC+    EV  BsR   Off  \\\n",
       "0  0.178  0.323  0.318  0.306  0.442  0.629  0.437   180  88.8  4.0  54.4   \n",
       "1  0.262  0.387  0.327  0.303  0.376  0.690  0.430   167  90.9 -5.8  35.3   \n",
       "\n",
       "   O-Swing%  Z-Swing%  O-Contact%  Z-Contact%  GB/FB    LD%    GB%  HR/FB  \\\n",
       "0     0.197     0.615       0.681       0.901   0.82  0.184  0.367  0.232   \n",
       "1     0.321     0.764       0.541       0.805   0.89  0.185  0.383  0.338   \n",
       "\n",
       "   playerid   HR_rate    R_rate  RBI_rate   SB_rate  HR_rate_std  R_rate_std  \\\n",
       "0     10155  0.289474  0.807018  0.631579  0.192982     2.061054    2.497973   \n",
       "1      6184  0.378151  0.714286  0.873950  0.033613     3.387659    1.682132   \n",
       "\n",
       "   RBI_rate_std  SB_rate_std   AVG_std  f_val_std   ny_f_val  \n",
       "0      0.957319     1.866089  1.364350   8.746785   8.953784  \n",
       "1      2.818576    -0.372138  1.260631   8.776860  10.084667  "
      ]
     },
     "execution_count": 3,
     "metadata": {},
     "output_type": "execute_result"
    }
   ],
   "source": [
    "data.head(2)"
   ]
  },
  {
   "cell_type": "code",
   "execution_count": 4,
   "metadata": {},
   "outputs": [
    {
     "data": {
      "text/html": [
       "<div>\n",
       "<style scoped>\n",
       "    .dataframe tbody tr th:only-of-type {\n",
       "        vertical-align: middle;\n",
       "    }\n",
       "\n",
       "    .dataframe tbody tr th {\n",
       "        vertical-align: top;\n",
       "    }\n",
       "\n",
       "    .dataframe thead th {\n",
       "        text-align: right;\n",
       "    }\n",
       "</style>\n",
       "<table border=\"1\" class=\"dataframe\">\n",
       "  <thead>\n",
       "    <tr style=\"text-align: right;\">\n",
       "      <th></th>\n",
       "      <th>Season</th>\n",
       "      <th>G</th>\n",
       "      <th>Age</th>\n",
       "      <th>PA</th>\n",
       "      <th>HR</th>\n",
       "      <th>R</th>\n",
       "      <th>RBI</th>\n",
       "      <th>SB</th>\n",
       "      <th>BB%</th>\n",
       "      <th>K%</th>\n",
       "      <th>ISO</th>\n",
       "      <th>BABIP</th>\n",
       "      <th>AVG</th>\n",
       "      <th>OBP</th>\n",
       "      <th>SLG</th>\n",
       "      <th>wOBA</th>\n",
       "      <th>wRC+</th>\n",
       "      <th>EV</th>\n",
       "      <th>BsR</th>\n",
       "      <th>Off</th>\n",
       "      <th>O-Swing%</th>\n",
       "      <th>Z-Swing%</th>\n",
       "      <th>O-Contact%</th>\n",
       "      <th>Z-Contact%</th>\n",
       "      <th>GB/FB</th>\n",
       "      <th>LD%</th>\n",
       "      <th>GB%</th>\n",
       "      <th>HR/FB</th>\n",
       "      <th>playerid</th>\n",
       "      <th>HR_rate</th>\n",
       "      <th>R_rate</th>\n",
       "      <th>RBI_rate</th>\n",
       "      <th>SB_rate</th>\n",
       "      <th>HR_rate_std</th>\n",
       "      <th>R_rate_std</th>\n",
       "      <th>RBI_rate_std</th>\n",
       "      <th>SB_rate_std</th>\n",
       "      <th>AVG_std</th>\n",
       "      <th>f_val_std</th>\n",
       "      <th>ny_f_val</th>\n",
       "    </tr>\n",
       "  </thead>\n",
       "  <tbody>\n",
       "    <tr>\n",
       "      <th>count</th>\n",
       "      <td>1154.000000</td>\n",
       "      <td>1154.000000</td>\n",
       "      <td>1154.000000</td>\n",
       "      <td>1154.000000</td>\n",
       "      <td>1154.000000</td>\n",
       "      <td>1154.000000</td>\n",
       "      <td>1154.000000</td>\n",
       "      <td>1154.000000</td>\n",
       "      <td>1154.000000</td>\n",
       "      <td>1154.000000</td>\n",
       "      <td>1154.000000</td>\n",
       "      <td>1154.000000</td>\n",
       "      <td>1154.000000</td>\n",
       "      <td>1154.000000</td>\n",
       "      <td>1154.000000</td>\n",
       "      <td>1154.000000</td>\n",
       "      <td>1154.000000</td>\n",
       "      <td>449.000000</td>\n",
       "      <td>1154.000000</td>\n",
       "      <td>1154.000000</td>\n",
       "      <td>1154.000000</td>\n",
       "      <td>1154.000000</td>\n",
       "      <td>1154.000000</td>\n",
       "      <td>1154.000000</td>\n",
       "      <td>1154.00000</td>\n",
       "      <td>1154.000000</td>\n",
       "      <td>1154.000000</td>\n",
       "      <td>1154.000000</td>\n",
       "      <td>1154.000000</td>\n",
       "      <td>1154.000000</td>\n",
       "      <td>1154.000000</td>\n",
       "      <td>1154.000000</td>\n",
       "      <td>1154.000000</td>\n",
       "      <td>1154.000000</td>\n",
       "      <td>1154.000000</td>\n",
       "      <td>1154.000000</td>\n",
       "      <td>1154.000000</td>\n",
       "      <td>1154.000000</td>\n",
       "      <td>1154.000000</td>\n",
       "      <td>1154.000000</td>\n",
       "    </tr>\n",
       "    <tr>\n",
       "      <th>mean</th>\n",
       "      <td>2013.550260</td>\n",
       "      <td>141.068458</td>\n",
       "      <td>28.214038</td>\n",
       "      <td>579.262565</td>\n",
       "      <td>18.353553</td>\n",
       "      <td>72.337955</td>\n",
       "      <td>69.570191</td>\n",
       "      <td>10.006932</td>\n",
       "      <td>0.085828</td>\n",
       "      <td>0.183038</td>\n",
       "      <td>0.170980</td>\n",
       "      <td>0.307451</td>\n",
       "      <td>0.271214</td>\n",
       "      <td>0.338454</td>\n",
       "      <td>0.442179</td>\n",
       "      <td>0.337785</td>\n",
       "      <td>111.353553</td>\n",
       "      <td>88.689532</td>\n",
       "      <td>0.228163</td>\n",
       "      <td>8.568024</td>\n",
       "      <td>0.301638</td>\n",
       "      <td>0.665718</td>\n",
       "      <td>0.675543</td>\n",
       "      <td>0.878173</td>\n",
       "      <td>1.30279</td>\n",
       "      <td>0.206412</td>\n",
       "      <td>0.435131</td>\n",
       "      <td>0.122771</td>\n",
       "      <td>6137.699307</td>\n",
       "      <td>0.129186</td>\n",
       "      <td>0.510617</td>\n",
       "      <td>0.490342</td>\n",
       "      <td>0.070484</td>\n",
       "      <td>0.106325</td>\n",
       "      <td>0.175683</td>\n",
       "      <td>0.127233</td>\n",
       "      <td>0.043953</td>\n",
       "      <td>0.127756</td>\n",
       "      <td>0.580950</td>\n",
       "      <td>0.260431</td>\n",
       "    </tr>\n",
       "    <tr>\n",
       "      <th>std</th>\n",
       "      <td>2.314325</td>\n",
       "      <td>16.168980</td>\n",
       "      <td>3.662962</td>\n",
       "      <td>86.555025</td>\n",
       "      <td>9.940838</td>\n",
       "      <td>18.773729</td>\n",
       "      <td>22.253659</td>\n",
       "      <td>11.004136</td>\n",
       "      <td>0.030436</td>\n",
       "      <td>0.056472</td>\n",
       "      <td>0.055039</td>\n",
       "      <td>0.032555</td>\n",
       "      <td>0.027323</td>\n",
       "      <td>0.032595</td>\n",
       "      <td>0.064192</td>\n",
       "      <td>0.033987</td>\n",
       "      <td>23.063804</td>\n",
       "      <td>2.083910</td>\n",
       "      <td>3.945887</td>\n",
       "      <td>16.564309</td>\n",
       "      <td>0.055111</td>\n",
       "      <td>0.060580</td>\n",
       "      <td>0.088121</td>\n",
       "      <td>0.047097</td>\n",
       "      <td>0.50797</td>\n",
       "      <td>0.029168</td>\n",
       "      <td>0.064962</td>\n",
       "      <td>0.059330</td>\n",
       "      <td>3922.249952</td>\n",
       "      <td>0.066243</td>\n",
       "      <td>0.109458</td>\n",
       "      <td>0.136274</td>\n",
       "      <td>0.077018</td>\n",
       "      <td>1.014324</td>\n",
       "      <td>0.979923</td>\n",
       "      <td>1.005649</td>\n",
       "      <td>1.013864</td>\n",
       "      <td>0.970153</td>\n",
       "      <td>3.073591</td>\n",
       "      <td>3.243115</td>\n",
       "    </tr>\n",
       "    <tr>\n",
       "      <th>min</th>\n",
       "      <td>2010.000000</td>\n",
       "      <td>93.000000</td>\n",
       "      <td>19.000000</td>\n",
       "      <td>400.000000</td>\n",
       "      <td>0.000000</td>\n",
       "      <td>26.000000</td>\n",
       "      <td>17.000000</td>\n",
       "      <td>0.000000</td>\n",
       "      <td>0.021000</td>\n",
       "      <td>0.058000</td>\n",
       "      <td>0.036000</td>\n",
       "      <td>0.196000</td>\n",
       "      <td>0.159000</td>\n",
       "      <td>0.252000</td>\n",
       "      <td>0.277000</td>\n",
       "      <td>0.247000</td>\n",
       "      <td>49.000000</td>\n",
       "      <td>80.500000</td>\n",
       "      <td>-12.600000</td>\n",
       "      <td>-34.000000</td>\n",
       "      <td>0.158000</td>\n",
       "      <td>0.448000</td>\n",
       "      <td>0.417000</td>\n",
       "      <td>0.695000</td>\n",
       "      <td>0.48000</td>\n",
       "      <td>0.106000</td>\n",
       "      <td>0.263000</td>\n",
       "      <td>0.000000</td>\n",
       "      <td>97.000000</td>\n",
       "      <td>0.000000</td>\n",
       "      <td>0.202703</td>\n",
       "      <td>0.116438</td>\n",
       "      <td>0.000000</td>\n",
       "      <td>-2.080068</td>\n",
       "      <td>-2.711601</td>\n",
       "      <td>-2.742317</td>\n",
       "      <td>-0.978881</td>\n",
       "      <td>-3.887086</td>\n",
       "      <td>-7.881853</td>\n",
       "      <td>-7.881853</td>\n",
       "    </tr>\n",
       "    <tr>\n",
       "      <th>25%</th>\n",
       "      <td>2012.000000</td>\n",
       "      <td>130.000000</td>\n",
       "      <td>26.000000</td>\n",
       "      <td>511.000000</td>\n",
       "      <td>11.000000</td>\n",
       "      <td>58.000000</td>\n",
       "      <td>52.000000</td>\n",
       "      <td>2.000000</td>\n",
       "      <td>0.063000</td>\n",
       "      <td>0.142000</td>\n",
       "      <td>0.130000</td>\n",
       "      <td>0.286000</td>\n",
       "      <td>0.253000</td>\n",
       "      <td>0.315000</td>\n",
       "      <td>0.397250</td>\n",
       "      <td>0.315000</td>\n",
       "      <td>96.000000</td>\n",
       "      <td>87.300000</td>\n",
       "      <td>-2.400000</td>\n",
       "      <td>-2.350000</td>\n",
       "      <td>0.261000</td>\n",
       "      <td>0.624250</td>\n",
       "      <td>0.612250</td>\n",
       "      <td>0.848000</td>\n",
       "      <td>0.97000</td>\n",
       "      <td>0.186000</td>\n",
       "      <td>0.389000</td>\n",
       "      <td>0.078250</td>\n",
       "      <td>3057.000000</td>\n",
       "      <td>0.076923</td>\n",
       "      <td>0.432432</td>\n",
       "      <td>0.390209</td>\n",
       "      <td>0.015297</td>\n",
       "      <td>-0.692392</td>\n",
       "      <td>-0.529614</td>\n",
       "      <td>-0.629631</td>\n",
       "      <td>-0.667362</td>\n",
       "      <td>-0.535804</td>\n",
       "      <td>-1.691809</td>\n",
       "      <td>-2.168150</td>\n",
       "    </tr>\n",
       "    <tr>\n",
       "      <th>50%</th>\n",
       "      <td>2014.000000</td>\n",
       "      <td>145.000000</td>\n",
       "      <td>28.000000</td>\n",
       "      <td>587.500000</td>\n",
       "      <td>17.000000</td>\n",
       "      <td>71.500000</td>\n",
       "      <td>68.000000</td>\n",
       "      <td>6.000000</td>\n",
       "      <td>0.083000</td>\n",
       "      <td>0.179000</td>\n",
       "      <td>0.169000</td>\n",
       "      <td>0.308000</td>\n",
       "      <td>0.271000</td>\n",
       "      <td>0.336000</td>\n",
       "      <td>0.439000</td>\n",
       "      <td>0.335000</td>\n",
       "      <td>110.000000</td>\n",
       "      <td>88.700000</td>\n",
       "      <td>0.200000</td>\n",
       "      <td>7.000000</td>\n",
       "      <td>0.298500</td>\n",
       "      <td>0.666000</td>\n",
       "      <td>0.676000</td>\n",
       "      <td>0.884000</td>\n",
       "      <td>1.19000</td>\n",
       "      <td>0.206000</td>\n",
       "      <td>0.432500</td>\n",
       "      <td>0.119000</td>\n",
       "      <td>5352.000000</td>\n",
       "      <td>0.126582</td>\n",
       "      <td>0.504819</td>\n",
       "      <td>0.486696</td>\n",
       "      <td>0.043910</td>\n",
       "      <td>0.062385</td>\n",
       "      <td>0.141844</td>\n",
       "      <td>0.120294</td>\n",
       "      <td>-0.298715</td>\n",
       "      <td>0.133656</td>\n",
       "      <td>0.413503</td>\n",
       "      <td>0.045613</td>\n",
       "    </tr>\n",
       "    <tr>\n",
       "      <th>75%</th>\n",
       "      <td>2016.000000</td>\n",
       "      <td>155.000000</td>\n",
       "      <td>31.000000</td>\n",
       "      <td>652.000000</td>\n",
       "      <td>25.000000</td>\n",
       "      <td>85.000000</td>\n",
       "      <td>85.000000</td>\n",
       "      <td>14.000000</td>\n",
       "      <td>0.105000</td>\n",
       "      <td>0.219000</td>\n",
       "      <td>0.209000</td>\n",
       "      <td>0.330000</td>\n",
       "      <td>0.289000</td>\n",
       "      <td>0.359000</td>\n",
       "      <td>0.482000</td>\n",
       "      <td>0.358000</td>\n",
       "      <td>125.750000</td>\n",
       "      <td>90.000000</td>\n",
       "      <td>2.700000</td>\n",
       "      <td>17.675000</td>\n",
       "      <td>0.338750</td>\n",
       "      <td>0.707000</td>\n",
       "      <td>0.739000</td>\n",
       "      <td>0.912000</td>\n",
       "      <td>1.50000</td>\n",
       "      <td>0.225000</td>\n",
       "      <td>0.476000</td>\n",
       "      <td>0.162000</td>\n",
       "      <td>9219.000000</td>\n",
       "      <td>0.175118</td>\n",
       "      <td>0.583333</td>\n",
       "      <td>0.583722</td>\n",
       "      <td>0.103104</td>\n",
       "      <td>0.822267</td>\n",
       "      <td>0.810970</td>\n",
       "      <td>0.808571</td>\n",
       "      <td>0.457275</td>\n",
       "      <td>0.772286</td>\n",
       "      <td>2.541982</td>\n",
       "      <td>2.436074</td>\n",
       "    </tr>\n",
       "    <tr>\n",
       "      <th>max</th>\n",
       "      <td>2017.000000</td>\n",
       "      <td>162.000000</td>\n",
       "      <td>40.000000</td>\n",
       "      <td>754.000000</td>\n",
       "      <td>59.000000</td>\n",
       "      <td>137.000000</td>\n",
       "      <td>139.000000</td>\n",
       "      <td>68.000000</td>\n",
       "      <td>0.206000</td>\n",
       "      <td>0.372000</td>\n",
       "      <td>0.387000</td>\n",
       "      <td>0.404000</td>\n",
       "      <td>0.359000</td>\n",
       "      <td>0.474000</td>\n",
       "      <td>0.690000</td>\n",
       "      <td>0.461000</td>\n",
       "      <td>197.000000</td>\n",
       "      <td>94.900000</td>\n",
       "      <td>14.300000</td>\n",
       "      <td>77.700000</td>\n",
       "      <td>0.479000</td>\n",
       "      <td>0.857000</td>\n",
       "      <td>0.908000</td>\n",
       "      <td>0.980000</td>\n",
       "      <td>5.91000</td>\n",
       "      <td>0.310000</td>\n",
       "      <td>0.685000</td>\n",
       "      <td>0.356000</td>\n",
       "      <td>19198.000000</td>\n",
       "      <td>0.378151</td>\n",
       "      <td>0.928058</td>\n",
       "      <td>0.925676</td>\n",
       "      <td>0.500000</td>\n",
       "      <td>3.665980</td>\n",
       "      <td>3.964376</td>\n",
       "      <td>3.489644</td>\n",
       "      <td>6.202451</td>\n",
       "      <td>3.459139</td>\n",
       "      <td>11.551089</td>\n",
       "      <td>12.516023</td>\n",
       "    </tr>\n",
       "  </tbody>\n",
       "</table>\n",
       "</div>"
      ],
      "text/plain": [
       "            Season            G          Age           PA           HR  \\\n",
       "count  1154.000000  1154.000000  1154.000000  1154.000000  1154.000000   \n",
       "mean   2013.550260   141.068458    28.214038   579.262565    18.353553   \n",
       "std       2.314325    16.168980     3.662962    86.555025     9.940838   \n",
       "min    2010.000000    93.000000    19.000000   400.000000     0.000000   \n",
       "25%    2012.000000   130.000000    26.000000   511.000000    11.000000   \n",
       "50%    2014.000000   145.000000    28.000000   587.500000    17.000000   \n",
       "75%    2016.000000   155.000000    31.000000   652.000000    25.000000   \n",
       "max    2017.000000   162.000000    40.000000   754.000000    59.000000   \n",
       "\n",
       "                 R          RBI           SB          BB%           K%  \\\n",
       "count  1154.000000  1154.000000  1154.000000  1154.000000  1154.000000   \n",
       "mean     72.337955    69.570191    10.006932     0.085828     0.183038   \n",
       "std      18.773729    22.253659    11.004136     0.030436     0.056472   \n",
       "min      26.000000    17.000000     0.000000     0.021000     0.058000   \n",
       "25%      58.000000    52.000000     2.000000     0.063000     0.142000   \n",
       "50%      71.500000    68.000000     6.000000     0.083000     0.179000   \n",
       "75%      85.000000    85.000000    14.000000     0.105000     0.219000   \n",
       "max     137.000000   139.000000    68.000000     0.206000     0.372000   \n",
       "\n",
       "               ISO        BABIP          AVG          OBP          SLG  \\\n",
       "count  1154.000000  1154.000000  1154.000000  1154.000000  1154.000000   \n",
       "mean      0.170980     0.307451     0.271214     0.338454     0.442179   \n",
       "std       0.055039     0.032555     0.027323     0.032595     0.064192   \n",
       "min       0.036000     0.196000     0.159000     0.252000     0.277000   \n",
       "25%       0.130000     0.286000     0.253000     0.315000     0.397250   \n",
       "50%       0.169000     0.308000     0.271000     0.336000     0.439000   \n",
       "75%       0.209000     0.330000     0.289000     0.359000     0.482000   \n",
       "max       0.387000     0.404000     0.359000     0.474000     0.690000   \n",
       "\n",
       "              wOBA         wRC+          EV          BsR          Off  \\\n",
       "count  1154.000000  1154.000000  449.000000  1154.000000  1154.000000   \n",
       "mean      0.337785   111.353553   88.689532     0.228163     8.568024   \n",
       "std       0.033987    23.063804    2.083910     3.945887    16.564309   \n",
       "min       0.247000    49.000000   80.500000   -12.600000   -34.000000   \n",
       "25%       0.315000    96.000000   87.300000    -2.400000    -2.350000   \n",
       "50%       0.335000   110.000000   88.700000     0.200000     7.000000   \n",
       "75%       0.358000   125.750000   90.000000     2.700000    17.675000   \n",
       "max       0.461000   197.000000   94.900000    14.300000    77.700000   \n",
       "\n",
       "          O-Swing%     Z-Swing%   O-Contact%   Z-Contact%       GB/FB  \\\n",
       "count  1154.000000  1154.000000  1154.000000  1154.000000  1154.00000   \n",
       "mean      0.301638     0.665718     0.675543     0.878173     1.30279   \n",
       "std       0.055111     0.060580     0.088121     0.047097     0.50797   \n",
       "min       0.158000     0.448000     0.417000     0.695000     0.48000   \n",
       "25%       0.261000     0.624250     0.612250     0.848000     0.97000   \n",
       "50%       0.298500     0.666000     0.676000     0.884000     1.19000   \n",
       "75%       0.338750     0.707000     0.739000     0.912000     1.50000   \n",
       "max       0.479000     0.857000     0.908000     0.980000     5.91000   \n",
       "\n",
       "               LD%          GB%        HR/FB      playerid      HR_rate  \\\n",
       "count  1154.000000  1154.000000  1154.000000   1154.000000  1154.000000   \n",
       "mean      0.206412     0.435131     0.122771   6137.699307     0.129186   \n",
       "std       0.029168     0.064962     0.059330   3922.249952     0.066243   \n",
       "min       0.106000     0.263000     0.000000     97.000000     0.000000   \n",
       "25%       0.186000     0.389000     0.078250   3057.000000     0.076923   \n",
       "50%       0.206000     0.432500     0.119000   5352.000000     0.126582   \n",
       "75%       0.225000     0.476000     0.162000   9219.000000     0.175118   \n",
       "max       0.310000     0.685000     0.356000  19198.000000     0.378151   \n",
       "\n",
       "            R_rate     RBI_rate      SB_rate  HR_rate_std   R_rate_std  \\\n",
       "count  1154.000000  1154.000000  1154.000000  1154.000000  1154.000000   \n",
       "mean      0.510617     0.490342     0.070484     0.106325     0.175683   \n",
       "std       0.109458     0.136274     0.077018     1.014324     0.979923   \n",
       "min       0.202703     0.116438     0.000000    -2.080068    -2.711601   \n",
       "25%       0.432432     0.390209     0.015297    -0.692392    -0.529614   \n",
       "50%       0.504819     0.486696     0.043910     0.062385     0.141844   \n",
       "75%       0.583333     0.583722     0.103104     0.822267     0.810970   \n",
       "max       0.928058     0.925676     0.500000     3.665980     3.964376   \n",
       "\n",
       "       RBI_rate_std  SB_rate_std      AVG_std    f_val_std     ny_f_val  \n",
       "count   1154.000000  1154.000000  1154.000000  1154.000000  1154.000000  \n",
       "mean       0.127233     0.043953     0.127756     0.580950     0.260431  \n",
       "std        1.005649     1.013864     0.970153     3.073591     3.243115  \n",
       "min       -2.742317    -0.978881    -3.887086    -7.881853    -7.881853  \n",
       "25%       -0.629631    -0.667362    -0.535804    -1.691809    -2.168150  \n",
       "50%        0.120294    -0.298715     0.133656     0.413503     0.045613  \n",
       "75%        0.808571     0.457275     0.772286     2.541982     2.436074  \n",
       "max        3.489644     6.202451     3.459139    11.551089    12.516023  "
      ]
     },
     "execution_count": 4,
     "metadata": {},
     "output_type": "execute_result"
    }
   ],
   "source": [
    "data.describe()"
   ]
  },
  {
   "cell_type": "code",
   "execution_count": 5,
   "metadata": {},
   "outputs": [
    {
     "data": {
      "text/plain": [
       "Index(['Season', 'Name', 'Team', 'G', 'Age', 'PA', 'HR', 'R', 'RBI', 'SB',\n",
       "       'BB%', 'K%', 'ISO', 'BABIP', 'AVG', 'OBP', 'SLG', 'wOBA', 'wRC+', 'EV',\n",
       "       'BsR', 'Off', 'O-Swing%', 'Z-Swing%', 'O-Contact%', 'Z-Contact%',\n",
       "       'GB/FB', 'LD%', 'GB%', 'HR/FB', 'playerid', 'HR_rate', 'R_rate',\n",
       "       'RBI_rate', 'SB_rate', 'HR_rate_std', 'R_rate_std', 'RBI_rate_std',\n",
       "       'SB_rate_std', 'AVG_std', 'f_val_std', 'ny_f_val'],\n",
       "      dtype='object')"
      ]
     },
     "execution_count": 5,
     "metadata": {},
     "output_type": "execute_result"
    }
   ],
   "source": [
    "data.columns"
   ]
  },
  {
   "cell_type": "markdown",
   "metadata": {},
   "source": [
    "## Create data structures for use in models"
   ]
  },
  {
   "cell_type": "code",
   "execution_count": 6,
   "metadata": {},
   "outputs": [],
   "source": [
    "# define columns that won't be used in predictive modeling\n",
    "drop_cols = ['Name', 'Team', 'HR', 'R', 'RBI', 'SB','HR_rate_std', 'R_rate_std', \n",
    "             'RBI_rate_std','SB_rate_std', 'AVG_std', 'f_val_std']\n",
    "\n",
    "# create DataFrame for use in data visualization\n",
    "data2 = data.drop(drop_cols, axis=1)"
   ]
  },
  {
   "cell_type": "code",
   "execution_count": 7,
   "metadata": {},
   "outputs": [],
   "source": [
    "# drop column EV due to missing entries (shows in in-depth data exploration notebook)\n",
    "data2 = data2.drop('EV', axis=1)"
   ]
  },
  {
   "cell_type": "code",
   "execution_count": 8,
   "metadata": {},
   "outputs": [],
   "source": [
    "# dropping columns using methodology from in-depth data exploration notebook\n",
    "drop_cols2 = ['G', 'Age', 'BB%', 'K%', 'BABIP', 'BsR', 'O-Swing%', \n",
    "           'Z-Swing%', 'O-Contact%', 'Z-Contact%', 'GB/FB', 'LD%', \n",
    "           'GB%', 'SB_rate', 'ISO', 'OBP', 'wOBA', 'wRC+', 'SLG', 'HR/FB']\n",
    "\n",
    "data3 = data2.drop(drop_cols2, axis=1)"
   ]
  },
  {
   "cell_type": "code",
   "execution_count": 9,
   "metadata": {},
   "outputs": [],
   "source": [
    "# test on 2 most recent years of data (index 300 is cut off)\n",
    "# used for all models except Elastic Net\n",
    "df_train = data3[300:]\n",
    "df_test = data3[:300]\n",
    "\n",
    "# use to retain more features for Elastic Net\n",
    "df_train_enet = data2[300:]\n",
    "df_test_enet = data2[:300]"
   ]
  },
  {
   "cell_type": "code",
   "execution_count": 10,
   "metadata": {},
   "outputs": [],
   "source": [
    "# remove target from X\n",
    "X_train = df_train.drop('ny_f_val', axis=1)\n",
    "X_test = df_test.drop('ny_f_val', axis=1)\n",
    "\n",
    "# use for Elastic Net\n",
    "X_train_enet = df_train_enet.drop('ny_f_val', axis=1)\n",
    "X_test_enet = df_test_enet.drop('ny_f_val', axis=1)\n",
    "\n",
    "# create target y\n",
    "y_train = df_train['ny_f_val']\n",
    "y_test = df_test['ny_f_val']"
   ]
  },
  {
   "cell_type": "code",
   "execution_count": 11,
   "metadata": {},
   "outputs": [],
   "source": [
    "# hold onto season column\n",
    "train_season = X_train['Season']\n",
    "test_season = X_test['Season']\n",
    "\n",
    "#hold onto playerid column\n",
    "train_ID = X_train['playerid']\n",
    "test_ID = X_test['playerid']\n",
    "\n",
    "#Now drop the  'playerid' and 'Season' columns since they are unnecessary for the prediction process\n",
    "X_train.drop([\"playerid\", \"Season\"], axis=1, inplace = True)\n",
    "X_test.drop([\"playerid\", \"Season\"], axis=1, inplace = True)\n",
    "X_train_enet.drop([\"playerid\", \"Season\"], axis=1, inplace = True)\n",
    "X_test_enet.drop([\"playerid\", \"Season\"], axis=1, inplace = True)"
   ]
  },
  {
   "cell_type": "code",
   "execution_count": 12,
   "metadata": {},
   "outputs": [
    {
     "data": {
      "text/html": [
       "<div>\n",
       "<style scoped>\n",
       "    .dataframe tbody tr th:only-of-type {\n",
       "        vertical-align: middle;\n",
       "    }\n",
       "\n",
       "    .dataframe tbody tr th {\n",
       "        vertical-align: top;\n",
       "    }\n",
       "\n",
       "    .dataframe thead th {\n",
       "        text-align: right;\n",
       "    }\n",
       "</style>\n",
       "<table border=\"1\" class=\"dataframe\">\n",
       "  <thead>\n",
       "    <tr style=\"text-align: right;\">\n",
       "      <th></th>\n",
       "      <th>PA</th>\n",
       "      <th>AVG</th>\n",
       "      <th>Off</th>\n",
       "      <th>HR_rate</th>\n",
       "      <th>R_rate</th>\n",
       "      <th>RBI_rate</th>\n",
       "    </tr>\n",
       "  </thead>\n",
       "  <tbody>\n",
       "    <tr>\n",
       "      <th>300</th>\n",
       "      <td>654</td>\n",
       "      <td>0.33</td>\n",
       "      <td>77.7</td>\n",
       "      <td>0.27451</td>\n",
       "      <td>0.771242</td>\n",
       "      <td>0.647059</td>\n",
       "    </tr>\n",
       "  </tbody>\n",
       "</table>\n",
       "</div>"
      ],
      "text/plain": [
       "      PA   AVG   Off  HR_rate    R_rate  RBI_rate\n",
       "300  654  0.33  77.7  0.27451  0.771242  0.647059"
      ]
     },
     "execution_count": 12,
     "metadata": {},
     "output_type": "execute_result"
    }
   ],
   "source": [
    "X_train.head(1)"
   ]
  },
  {
   "cell_type": "code",
   "execution_count": 13,
   "metadata": {},
   "outputs": [
    {
     "data": {
      "text/plain": [
       "300    1.803493\n",
       "301    4.763963\n",
       "302    5.482066\n",
       "303    7.607345\n",
       "304    4.595530\n",
       "Name: ny_f_val, dtype: float64"
      ]
     },
     "execution_count": 13,
     "metadata": {},
     "output_type": "execute_result"
    }
   ],
   "source": [
    "y_train.head()"
   ]
  },
  {
   "cell_type": "markdown",
   "metadata": {},
   "source": [
    "### Scale the data"
   ]
  },
  {
   "cell_type": "code",
   "execution_count": 14,
   "metadata": {},
   "outputs": [],
   "source": [
    "# retain column names before changing data structure\n",
    "X_train_cols = X_train.columns\n",
    "X_train_enet_cols = X_train_enet.columns\n",
    "\n",
    "# Create normalized inputs for LinearRegression, XGBoost, and LGBoost\n",
    "norm_scaler = MinMaxScaler()\n",
    "X_train_normal = norm_scaler.fit_transform(X_train)\n",
    "X_test_normal = norm_scaler.transform(X_test)\n",
    "\n",
    "# create standardized inputs for ENet\n",
    "stand_scaler = StandardScaler()\n",
    "X_train_standard = stand_scaler.fit_transform(X_train_enet)\n",
    "X_test_standard = stand_scaler.transform(X_test_enet)"
   ]
  },
  {
   "cell_type": "markdown",
   "metadata": {},
   "source": [
    "## Modeling"
   ]
  },
  {
   "cell_type": "markdown",
   "metadata": {},
   "source": [
    "#### Baseline Model"
   ]
  },
  {
   "cell_type": "code",
   "execution_count": 15,
   "metadata": {},
   "outputs": [
    {
     "name": "stdout",
     "output_type": "stream",
     "text": [
      "Lin MSE: 8.635735709936744\n",
      "R2: 0.23771603677002073\n"
     ]
    }
   ],
   "source": [
    "lin_model = LinearRegression()\n",
    "\n",
    "lin_model.fit(X_train_normal, y_train)\n",
    "lin_preds = lin_model.predict(X_test_normal)\n",
    "\n",
    "lin_resids = (y_test - lin_preds)\n",
    "\n",
    "lin_MSE = mean_squared_error(y_test, lin_preds)\n",
    "lin_r2 = r2_score(y_test, lin_preds)\n",
    "\n",
    "print('Lin MSE:', lin_MSE)\n",
    "print('R2:', lin_r2)"
   ]
  },
  {
   "cell_type": "code",
   "execution_count": 16,
   "metadata": {},
   "outputs": [
    {
     "data": {
      "image/png": "[encoded data removed]",
      "text/plain": [
       "<Figure size 1008x360 with 2 Axes>"
      ]
     },
     "metadata": {
      "needs_background": "light"
     },
     "output_type": "display_data"
    }
   ],
   "source": [
    "figure, axes = plt.subplots(ncols=2, figsize=(14,5))\n",
    "\n",
    "sns.scatterplot(x=lin_preds, y=lin_resids, ax=axes[0])\n",
    "axes[0].set_title('Residual Plot')\n",
    "axes[0].set(xlabel='Predictions', ylabel='Residuals')\n",
    "sns.scatterplot(x=lin_preds, y=y_test, ax=axes[1])\n",
    "axes[1].set_title('Predications v. Actuals')\n",
    "axes[1].set(xlabel='Predictions', ylabel='Actuals')\n",
    "\n",
    "plt.setp(axes, yticks=[])\n",
    "plt.tight_layout()"
   ]
  },
  {
   "cell_type": "code",
   "execution_count": 17,
   "metadata": {},
   "outputs": [],
   "source": [
    "# # can use to see coefficients of features\n",
    "# lin_coef_dict = {}\n",
    "# for coef, feat in zip(lin_model.coef_,X_train_cols):\n",
    "#     lin_coef_dict[feat] = coef\n",
    "# lin_coef_dict"
   ]
  },
  {
   "cell_type": "markdown",
   "metadata": {},
   "source": [
    "#### Random Forest Model"
   ]
  },
  {
   "cell_type": "code",
   "execution_count": 18,
   "metadata": {},
   "outputs": [
    {
     "data": {
      "text/plain": [
       "{'max_depth': 3, 'min_samples_split': 14, 'n_estimators': 144}"
      ]
     },
     "execution_count": 18,
     "metadata": {},
     "output_type": "execute_result"
    }
   ],
   "source": [
    "#run once to find optimal params (takes awhile)\n",
    "rf_model = RandomForestRegressor(random_state=35, criterion='mse')\n",
    "\n",
    "params = {\n",
    "        'n_estimators': range(135,150,1),\n",
    "        'min_samples_split': range(6,15,1),\n",
    "        'max_depth': [2, 3, 4]\n",
    "        }\n",
    "\n",
    "# use GridSearchCV for finding optimal hyperparams\n",
    "search_rf = GridSearchCV(estimator=rf_model, param_grid=params,scoring='neg_mean_squared_error',n_jobs=1,refit=True,cv=5)\n",
    "\n",
    "search_rf.fit(X_train, y_train)\n",
    "search_rf.best_params_"
   ]
  },
  {
   "cell_type": "code",
   "execution_count": 19,
   "metadata": {},
   "outputs": [
    {
     "data": {
      "text/plain": [
       "RandomForestRegressor(max_depth=3, min_samples_split=14, n_estimators=144,\n",
       "                      random_state=35)"
      ]
     },
     "execution_count": 19,
     "metadata": {},
     "output_type": "execute_result"
    }
   ],
   "source": [
    "rf_model = search_rf.best_estimator_\n",
    "rf_model.fit(X_train_normal, y_train)"
   ]
  },
  {
   "cell_type": "code",
   "execution_count": 20,
   "metadata": {},
   "outputs": [
    {
     "name": "stdout",
     "output_type": "stream",
     "text": [
      "MSE: 8.645913194815623\n",
      "R2: 0.23681766125578874\n"
     ]
    }
   ],
   "source": [
    "rf_preds = rf_model.predict(X_test_normal)\n",
    "\n",
    "rf_resids = (y_test - rf_preds)\n",
    "\n",
    "rf_MSE = mean_squared_error(y_test, rf_preds)\n",
    "rf_r2 = r2_score(y_test, rf_preds)\n",
    "print('MSE:', rf_MSE)\n",
    "print('R2:', rf_r2)"
   ]
  },
  {
   "cell_type": "markdown",
   "metadata": {},
   "source": [
    "#### XGB Model"
   ]
  },
  {
   "cell_type": "code",
   "execution_count": 21,
   "metadata": {},
   "outputs": [
    {
     "data": {
      "text/plain": [
       "{'colsample_bytree': 0.8,\n",
       " 'gamma': 1.5,\n",
       " 'max_depth': 3,\n",
       " 'min_child_weight': 15,\n",
       " 'n_estimators': 50,\n",
       " 'subsample': 0.4}"
      ]
     },
     "execution_count": 21,
     "metadata": {},
     "output_type": "execute_result"
    }
   ],
   "source": [
    "#run once to find optimal params (takes awhile)\n",
    "xgb_reg = XGBRegressor(learning_rate=0.05, random_state=35, objective='reg:squarederror')\n",
    "\n",
    "params = {\n",
    "        'n_estimators': [25, 50, 100],\n",
    "        'min_child_weight': [5, 10, 15],\n",
    "        'gamma': [1.5, 2, 5],\n",
    "        'subsample': [0.4, 0.6],\n",
    "        'colsample_bytree': [0.6, 0.8],\n",
    "        'max_depth': [3, 4]\n",
    "        }\n",
    "\n",
    "# use GridSearchCV for finding optimal hyperparams\n",
    "search_xgb = GridSearchCV(estimator=xgb_reg, param_grid=params,scoring='neg_mean_squared_error',n_jobs=1,refit=True,cv=5)\n",
    "\n",
    "search_xgb.fit(X_train, y_train)\n",
    "search_xgb.best_params_"
   ]
  },
  {
   "cell_type": "code",
   "execution_count": 22,
   "metadata": {},
   "outputs": [
    {
     "data": {
      "text/plain": [
       "XGBRegressor(colsample_bytree=0.8, gamma=1.5, learning_rate=0.05,\n",
       "             min_child_weight=15, n_estimators=50, objective='reg:squarederror',\n",
       "             random_state=35, subsample=0.4)"
      ]
     },
     "execution_count": 22,
     "metadata": {},
     "output_type": "execute_result"
    }
   ],
   "source": [
    "xgb_reg = search_xgb.best_estimator_\n",
    "xgb_reg.fit(X_train_normal, y_train)"
   ]
  },
  {
   "cell_type": "code",
   "execution_count": 23,
   "metadata": {},
   "outputs": [
    {
     "name": "stdout",
     "output_type": "stream",
     "text": [
      "MSE: 8.738069845635938\n",
      "R2: 0.22868291288171838\n"
     ]
    }
   ],
   "source": [
    "xgb_preds = xgb_reg.predict(X_test_normal)\n",
    "\n",
    "xgb_resids = (y_test - xgb_preds)\n",
    "\n",
    "xgb_MSE = mean_squared_error(y_test, xgb_preds)\n",
    "xgb_r2 = r2_score(y_test, xgb_preds)\n",
    "print('MSE:', xgb_MSE)\n",
    "print('R2:', xgb_r2)"
   ]
  },
  {
   "cell_type": "code",
   "execution_count": 24,
   "metadata": {},
   "outputs": [
    {
     "data": {
      "image/png": "[encoded data removed]",
      "text/plain": [
       "<Figure size 1008x360 with 2 Axes>"
      ]
     },
     "metadata": {
      "needs_background": "light"
     },
     "output_type": "display_data"
    }
   ],
   "source": [
    "figure, axes = plt.subplots(ncols=2, figsize=(14,5))\n",
    "\n",
    "sns.scatterplot(x=xgb_preds, y=xgb_resids, ax=axes[0])\n",
    "axes[0].set_title('XGB Residual Plot')\n",
    "axes[0].set(xlabel='Predictions', ylabel='Residuals')\n",
    "sns.scatterplot(x=xgb_preds, y=y_test, ax=axes[1])\n",
    "axes[1].set_title('XGB Predications v. Actuals')\n",
    "axes[1].set(xlabel='Predictions', ylabel='Actuals')\n",
    "\n",
    "plt.setp(axes, yticks=[])\n",
    "plt.tight_layout()"
   ]
  },
  {
   "cell_type": "markdown",
   "metadata": {},
   "source": [
    "#### Elastic Net Model"
   ]
  },
  {
   "cell_type": "code",
   "execution_count": 25,
   "metadata": {},
   "outputs": [],
   "source": [
    "# use standardized inputs for ENet\n",
    "\n",
    "# use GridSearchCV for finding optimal hyperparams\n",
    "search = GridSearchCV(ElasticNet(max_iter=5000, random_state=35, tol=0.1), param_grid={'alpha':np.logspace(-5, 2, 8), 'l1_ratio':[.2, .4, .6, .8,]},\n",
    "                      scoring='neg_mean_squared_error',n_jobs=1,refit=True,cv=10, verbose=1)"
   ]
  },
  {
   "cell_type": "code",
   "execution_count": 26,
   "metadata": {},
   "outputs": [
    {
     "name": "stdout",
     "output_type": "stream",
     "text": [
      "Fitting 10 folds for each of 32 candidates, totalling 320 fits\n"
     ]
    },
    {
     "name": "stderr",
     "output_type": "stream",
     "text": [
      "[Parallel(n_jobs=1)]: Using backend SequentialBackend with 1 concurrent workers.\n",
      "C:\\Users\\nkraj\\Anaconda3\\lib\\site-packages\\sklearn\\linear_model\\_coordinate_descent.py:531: ConvergenceWarning: Objective did not converge. You might want to increase the number of iterations. Duality gap: 2507.378779853964, tolerance: 778.0042799883331\n",
      "  positive)\n",
      "C:\\Users\\nkraj\\Anaconda3\\lib\\site-packages\\sklearn\\linear_model\\_coordinate_descent.py:531: ConvergenceWarning: Objective did not converge. You might want to increase the number of iterations. Duality gap: 2504.1260177749873, tolerance: 778.945922588647\n",
      "  positive)\n",
      "C:\\Users\\nkraj\\Anaconda3\\lib\\site-packages\\sklearn\\linear_model\\_coordinate_descent.py:531: ConvergenceWarning: Objective did not converge. You might want to increase the number of iterations. Duality gap: 2506.347625065408, tolerance: 795.3832952978\n",
      "  positive)\n",
      "C:\\Users\\nkraj\\Anaconda3\\lib\\site-packages\\sklearn\\linear_model\\_coordinate_descent.py:531: ConvergenceWarning: Objective did not converge. You might want to increase the number of iterations. Duality gap: 2525.035122054419, tolerance: 785.0214570311055\n",
      "  positive)\n",
      "C:\\Users\\nkraj\\Anaconda3\\lib\\site-packages\\sklearn\\linear_model\\_coordinate_descent.py:531: ConvergenceWarning: Objective did not converge. You might want to increase the number of iterations. Duality gap: 2484.292949845702, tolerance: 795.8614203297293\n",
      "  positive)\n",
      "C:\\Users\\nkraj\\Anaconda3\\lib\\site-packages\\sklearn\\linear_model\\_coordinate_descent.py:531: ConvergenceWarning: Objective did not converge. You might want to increase the number of iterations. Duality gap: 2532.0314182492043, tolerance: 776.1480174054766\n",
      "  positive)\n",
      "C:\\Users\\nkraj\\Anaconda3\\lib\\site-packages\\sklearn\\linear_model\\_coordinate_descent.py:531: ConvergenceWarning: Objective did not converge. You might want to increase the number of iterations. Duality gap: 2490.864911271432, tolerance: 782.8560038668163\n",
      "  positive)\n",
      "C:\\Users\\nkraj\\Anaconda3\\lib\\site-packages\\sklearn\\linear_model\\_coordinate_descent.py:531: ConvergenceWarning: Objective did not converge. You might want to increase the number of iterations. Duality gap: 2464.5375528957393, tolerance: 807.0414137052089\n",
      "  positive)\n",
      "C:\\Users\\nkraj\\Anaconda3\\lib\\site-packages\\sklearn\\linear_model\\_coordinate_descent.py:531: ConvergenceWarning: Objective did not converge. You might want to increase the number of iterations. Duality gap: 2459.5140948450644, tolerance: 766.0396732088803\n",
      "  positive)\n",
      "C:\\Users\\nkraj\\Anaconda3\\lib\\site-packages\\sklearn\\linear_model\\_coordinate_descent.py:531: ConvergenceWarning: Objective did not converge. You might want to increase the number of iterations. Duality gap: 2485.800536540659, tolerance: 787.1131475048804\n",
      "  positive)\n",
      "C:\\Users\\nkraj\\Anaconda3\\lib\\site-packages\\sklearn\\linear_model\\_coordinate_descent.py:531: ConvergenceWarning: Objective did not converge. You might want to increase the number of iterations. Duality gap: 2479.1113082966153, tolerance: 778.0042799883331\n",
      "  positive)\n",
      "C:\\Users\\nkraj\\Anaconda3\\lib\\site-packages\\sklearn\\linear_model\\_coordinate_descent.py:531: ConvergenceWarning: Objective did not converge. You might want to increase the number of iterations. Duality gap: 2457.1405324043653, tolerance: 778.945922588647\n",
      "  positive)\n",
      "C:\\Users\\nkraj\\Anaconda3\\lib\\site-packages\\sklearn\\linear_model\\_coordinate_descent.py:531: ConvergenceWarning: Objective did not converge. You might want to increase the number of iterations. Duality gap: 2467.3767772721, tolerance: 795.3832952978\n",
      "  positive)\n",
      "C:\\Users\\nkraj\\Anaconda3\\lib\\site-packages\\sklearn\\linear_model\\_coordinate_descent.py:531: ConvergenceWarning: Objective did not converge. You might want to increase the number of iterations. Duality gap: 2486.0418267571163, tolerance: 785.0214570311055\n",
      "  positive)\n",
      "C:\\Users\\nkraj\\Anaconda3\\lib\\site-packages\\sklearn\\linear_model\\_coordinate_descent.py:531: ConvergenceWarning: Objective did not converge. You might want to increase the number of iterations. Duality gap: 2464.2966065085534, tolerance: 795.8614203297293\n",
      "  positive)\n",
      "C:\\Users\\nkraj\\Anaconda3\\lib\\site-packages\\sklearn\\linear_model\\_coordinate_descent.py:531: ConvergenceWarning: Objective did not converge. You might want to increase the number of iterations. Duality gap: 2510.0968580726726, tolerance: 776.1480174054766\n",
      "  positive)\n",
      "C:\\Users\\nkraj\\Anaconda3\\lib\\site-packages\\sklearn\\linear_model\\_coordinate_descent.py:531: ConvergenceWarning: Objective did not converge. You might want to increase the number of iterations. Duality gap: 2431.174772173918, tolerance: 782.8560038668163\n",
      "  positive)\n",
      "C:\\Users\\nkraj\\Anaconda3\\lib\\site-packages\\sklearn\\linear_model\\_coordinate_descent.py:531: ConvergenceWarning: Objective did not converge. You might want to increase the number of iterations. Duality gap: 2440.543179605638, tolerance: 807.0414137052089\n",
      "  positive)\n",
      "C:\\Users\\nkraj\\Anaconda3\\lib\\site-packages\\sklearn\\linear_model\\_coordinate_descent.py:531: ConvergenceWarning: Objective did not converge. You might want to increase the number of iterations. Duality gap: 2430.8519616141393, tolerance: 766.0396732088803\n",
      "  positive)\n",
      "C:\\Users\\nkraj\\Anaconda3\\lib\\site-packages\\sklearn\\linear_model\\_coordinate_descent.py:531: ConvergenceWarning: Objective did not converge. You might want to increase the number of iterations. Duality gap: 2442.223484938014, tolerance: 787.1131475048804\n",
      "  positive)\n",
      "C:\\Users\\nkraj\\Anaconda3\\lib\\site-packages\\sklearn\\linear_model\\_coordinate_descent.py:531: ConvergenceWarning: Objective did not converge. You might want to increase the number of iterations. Duality gap: 2451.7646314429994, tolerance: 778.0042799883331\n",
      "  positive)\n",
      "C:\\Users\\nkraj\\Anaconda3\\lib\\site-packages\\sklearn\\linear_model\\_coordinate_descent.py:531: ConvergenceWarning: Objective did not converge. You might want to increase the number of iterations. Duality gap: 2410.752249795889, tolerance: 778.945922588647\n",
      "  positive)\n",
      "C:\\Users\\nkraj\\Anaconda3\\lib\\site-packages\\sklearn\\linear_model\\_coordinate_descent.py:531: ConvergenceWarning: Objective did not converge. You might want to increase the number of iterations. Duality gap: 2429.2490406187735, tolerance: 795.3832952978\n",
      "  positive)\n",
      "C:\\Users\\nkraj\\Anaconda3\\lib\\site-packages\\sklearn\\linear_model\\_coordinate_descent.py:531: ConvergenceWarning: Objective did not converge. You might want to increase the number of iterations. Duality gap: 2447.875106745369, tolerance: 785.0214570311055\n",
      "  positive)\n",
      "C:\\Users\\nkraj\\Anaconda3\\lib\\site-packages\\sklearn\\linear_model\\_coordinate_descent.py:531: ConvergenceWarning: Objective did not converge. You might want to increase the number of iterations. Duality gap: 2445.01751491156, tolerance: 795.8614203297293\n",
      "  positive)\n",
      "C:\\Users\\nkraj\\Anaconda3\\lib\\site-packages\\sklearn\\linear_model\\_coordinate_descent.py:531: ConvergenceWarning: Objective did not converge. You might want to increase the number of iterations. Duality gap: 2488.879229253713, tolerance: 776.1480174054766\n",
      "  positive)\n",
      "C:\\Users\\nkraj\\Anaconda3\\lib\\site-packages\\sklearn\\linear_model\\_coordinate_descent.py:531: ConvergenceWarning: Objective did not converge. You might want to increase the number of iterations. Duality gap: 2372.019143004627, tolerance: 782.8560038668163\n",
      "  positive)\n",
      "C:\\Users\\nkraj\\Anaconda3\\lib\\site-packages\\sklearn\\linear_model\\_coordinate_descent.py:531: ConvergenceWarning: Objective did not converge. You might want to increase the number of iterations. Duality gap: 2417.222017694302, tolerance: 807.0414137052089\n",
      "  positive)\n",
      "C:\\Users\\nkraj\\Anaconda3\\lib\\site-packages\\sklearn\\linear_model\\_coordinate_descent.py:531: ConvergenceWarning: Objective did not converge. You might want to increase the number of iterations. Duality gap: 2403.4024797350403, tolerance: 766.0396732088803\n",
      "  positive)\n",
      "C:\\Users\\nkraj\\Anaconda3\\lib\\site-packages\\sklearn\\linear_model\\_coordinate_descent.py:531: ConvergenceWarning: Objective did not converge. You might want to increase the number of iterations. Duality gap: 2399.7702957531947, tolerance: 787.1131475048804\n",
      "  positive)\n",
      "C:\\Users\\nkraj\\Anaconda3\\lib\\site-packages\\sklearn\\linear_model\\_coordinate_descent.py:531: ConvergenceWarning: Objective did not converge. You might want to increase the number of iterations. Duality gap: 2425.299449267839, tolerance: 778.0042799883331\n",
      "  positive)\n"
     ]
    },
    {
     "name": "stderr",
     "output_type": "stream",
     "text": [
      "C:\\Users\\nkraj\\Anaconda3\\lib\\site-packages\\sklearn\\linear_model\\_coordinate_descent.py:531: ConvergenceWarning: Objective did not converge. You might want to increase the number of iterations. Duality gap: 2364.9491835671565, tolerance: 778.945922588647\n",
      "  positive)\n",
      "C:\\Users\\nkraj\\Anaconda3\\lib\\site-packages\\sklearn\\linear_model\\_coordinate_descent.py:531: ConvergenceWarning: Objective did not converge. You might want to increase the number of iterations. Duality gap: 2391.9367897493694, tolerance: 795.3832952978\n",
      "  positive)\n",
      "C:\\Users\\nkraj\\Anaconda3\\lib\\site-packages\\sklearn\\linear_model\\_coordinate_descent.py:531: ConvergenceWarning: Objective did not converge. You might want to increase the number of iterations. Duality gap: 2410.513853306084, tolerance: 785.0214570311055\n",
      "  positive)\n",
      "C:\\Users\\nkraj\\Anaconda3\\lib\\site-packages\\sklearn\\linear_model\\_coordinate_descent.py:531: ConvergenceWarning: Objective did not converge. You might want to increase the number of iterations. Duality gap: 2426.4254855446175, tolerance: 795.8614203297293\n",
      "  positive)\n",
      "C:\\Users\\nkraj\\Anaconda3\\lib\\site-packages\\sklearn\\linear_model\\_coordinate_descent.py:531: ConvergenceWarning: Objective did not converge. You might want to increase the number of iterations. Duality gap: 2468.3495073750487, tolerance: 776.1480174054766\n",
      "  positive)\n",
      "C:\\Users\\nkraj\\Anaconda3\\lib\\site-packages\\sklearn\\linear_model\\_coordinate_descent.py:531: ConvergenceWarning: Objective did not converge. You might want to increase the number of iterations. Duality gap: 2313.413611047505, tolerance: 782.8560038668163\n",
      "  positive)\n",
      "C:\\Users\\nkraj\\Anaconda3\\lib\\site-packages\\sklearn\\linear_model\\_coordinate_descent.py:531: ConvergenceWarning: Objective did not converge. You might want to increase the number of iterations. Duality gap: 2394.5498174101167, tolerance: 807.0414137052089\n",
      "  positive)\n",
      "C:\\Users\\nkraj\\Anaconda3\\lib\\site-packages\\sklearn\\linear_model\\_coordinate_descent.py:531: ConvergenceWarning: Objective did not converge. You might want to increase the number of iterations. Duality gap: 2377.101608658771, tolerance: 766.0396732088803\n",
      "  positive)\n",
      "C:\\Users\\nkraj\\Anaconda3\\lib\\site-packages\\sklearn\\linear_model\\_coordinate_descent.py:531: ConvergenceWarning: Objective did not converge. You might want to increase the number of iterations. Duality gap: 2358.399498067075, tolerance: 787.1131475048804\n",
      "  positive)\n",
      "C:\\Users\\nkraj\\Anaconda3\\lib\\site-packages\\sklearn\\linear_model\\_coordinate_descent.py:531: ConvergenceWarning: Objective did not converge. You might want to increase the number of iterations. Duality gap: 2017.241183115338, tolerance: 778.0042799883331\n",
      "  positive)\n",
      "C:\\Users\\nkraj\\Anaconda3\\lib\\site-packages\\sklearn\\linear_model\\_coordinate_descent.py:531: ConvergenceWarning: Objective did not converge. You might want to increase the number of iterations. Duality gap: 1789.283622878548, tolerance: 778.945922588647\n",
      "  positive)\n",
      "C:\\Users\\nkraj\\Anaconda3\\lib\\site-packages\\sklearn\\linear_model\\_coordinate_descent.py:531: ConvergenceWarning: Objective did not converge. You might want to increase the number of iterations. Duality gap: 1890.5469346665595, tolerance: 795.3832952978\n",
      "  positive)\n",
      "C:\\Users\\nkraj\\Anaconda3\\lib\\site-packages\\sklearn\\linear_model\\_coordinate_descent.py:531: ConvergenceWarning: Objective did not converge. You might want to increase the number of iterations. Duality gap: 1882.3322845823914, tolerance: 785.0214570311055\n",
      "  positive)\n",
      "C:\\Users\\nkraj\\Anaconda3\\lib\\site-packages\\sklearn\\linear_model\\_coordinate_descent.py:531: ConvergenceWarning: Objective did not converge. You might want to increase the number of iterations. Duality gap: 2119.8940323756788, tolerance: 795.8614203297293\n",
      "  positive)\n",
      "C:\\Users\\nkraj\\Anaconda3\\lib\\site-packages\\sklearn\\linear_model\\_coordinate_descent.py:531: ConvergenceWarning: Objective did not converge. You might want to increase the number of iterations. Duality gap: 2147.643909200522, tolerance: 776.1480174054766\n",
      "  positive)\n",
      "C:\\Users\\nkraj\\Anaconda3\\lib\\site-packages\\sklearn\\linear_model\\_coordinate_descent.py:531: ConvergenceWarning: Objective did not converge. You might want to increase the number of iterations. Duality gap: 1606.2384479376262, tolerance: 782.8560038668163\n",
      "  positive)\n",
      "C:\\Users\\nkraj\\Anaconda3\\lib\\site-packages\\sklearn\\linear_model\\_coordinate_descent.py:531: ConvergenceWarning: Objective did not converge. You might want to increase the number of iterations. Duality gap: 2069.654341337106, tolerance: 807.0414137052089\n",
      "  positive)\n",
      "C:\\Users\\nkraj\\Anaconda3\\lib\\site-packages\\sklearn\\linear_model\\_coordinate_descent.py:531: ConvergenceWarning: Objective did not converge. You might want to increase the number of iterations. Duality gap: 1888.6214433815358, tolerance: 766.0396732088803\n",
      "  positive)\n",
      "C:\\Users\\nkraj\\Anaconda3\\lib\\site-packages\\sklearn\\linear_model\\_coordinate_descent.py:531: ConvergenceWarning: Objective did not converge. You might want to increase the number of iterations. Duality gap: 1745.6611320086904, tolerance: 787.1131475048804\n",
      "  positive)\n",
      "C:\\Users\\nkraj\\Anaconda3\\lib\\site-packages\\sklearn\\linear_model\\_coordinate_descent.py:531: ConvergenceWarning: Objective did not converge. You might want to increase the number of iterations. Duality gap: 1683.1774003664536, tolerance: 778.0042799883331\n",
      "  positive)\n",
      "C:\\Users\\nkraj\\Anaconda3\\lib\\site-packages\\sklearn\\linear_model\\_coordinate_descent.py:531: ConvergenceWarning: Objective did not converge. You might want to increase the number of iterations. Duality gap: 1163.3643593707284, tolerance: 778.945922588647\n",
      "  positive)\n",
      "C:\\Users\\nkraj\\Anaconda3\\lib\\site-packages\\sklearn\\linear_model\\_coordinate_descent.py:531: ConvergenceWarning: Objective did not converge. You might want to increase the number of iterations. Duality gap: 1403.0167441699336, tolerance: 795.3832952978\n",
      "  positive)\n",
      "C:\\Users\\nkraj\\Anaconda3\\lib\\site-packages\\sklearn\\linear_model\\_coordinate_descent.py:531: ConvergenceWarning: Objective did not converge. You might want to increase the number of iterations. Duality gap: 1374.9202002253105, tolerance: 785.0214570311055\n",
      "  positive)\n",
      "C:\\Users\\nkraj\\Anaconda3\\lib\\site-packages\\sklearn\\linear_model\\_coordinate_descent.py:531: ConvergenceWarning: Objective did not converge. You might want to increase the number of iterations. Duality gap: 1877.2739214815629, tolerance: 795.8614203297293\n",
      "  positive)\n",
      "C:\\Users\\nkraj\\Anaconda3\\lib\\site-packages\\sklearn\\linear_model\\_coordinate_descent.py:531: ConvergenceWarning: Objective did not converge. You might want to increase the number of iterations. Duality gap: 1881.3036195918585, tolerance: 776.1480174054766\n",
      "  positive)\n",
      "C:\\Users\\nkraj\\Anaconda3\\lib\\site-packages\\sklearn\\linear_model\\_coordinate_descent.py:531: ConvergenceWarning: Objective did not converge. You might want to increase the number of iterations. Duality gap: 829.586476146827, tolerance: 782.8560038668163\n",
      "  positive)\n",
      "C:\\Users\\nkraj\\Anaconda3\\lib\\site-packages\\sklearn\\linear_model\\_coordinate_descent.py:531: ConvergenceWarning: Objective did not converge. You might want to increase the number of iterations. Duality gap: 1778.1258521013433, tolerance: 807.0414137052089\n",
      "  positive)\n",
      "C:\\Users\\nkraj\\Anaconda3\\lib\\site-packages\\sklearn\\linear_model\\_coordinate_descent.py:531: ConvergenceWarning: Objective did not converge. You might want to increase the number of iterations. Duality gap: 1556.8460641847114, tolerance: 766.0396732088803\n",
      "  positive)\n",
      "C:\\Users\\nkraj\\Anaconda3\\lib\\site-packages\\sklearn\\linear_model\\_coordinate_descent.py:531: ConvergenceWarning: Objective did not converge. You might want to increase the number of iterations. Duality gap: 1197.5581901720159, tolerance: 787.1131475048804\n",
      "  positive)\n",
      "C:\\Users\\nkraj\\Anaconda3\\lib\\site-packages\\sklearn\\linear_model\\_coordinate_descent.py:531: ConvergenceWarning: Objective did not converge. You might want to increase the number of iterations. Duality gap: 1452.908058433409, tolerance: 778.0042799883331\n",
      "  positive)\n",
      "C:\\Users\\nkraj\\Anaconda3\\lib\\site-packages\\sklearn\\linear_model\\_coordinate_descent.py:531: ConvergenceWarning: Objective did not converge. You might want to increase the number of iterations. Duality gap: 1033.5294300275375, tolerance: 795.3832952978\n",
      "  positive)\n"
     ]
    },
    {
     "name": "stderr",
     "output_type": "stream",
     "text": [
      "C:\\Users\\nkraj\\Anaconda3\\lib\\site-packages\\sklearn\\linear_model\\_coordinate_descent.py:531: ConvergenceWarning: Objective did not converge. You might want to increase the number of iterations. Duality gap: 999.3748660573726, tolerance: 785.0214570311055\n",
      "  positive)\n",
      "C:\\Users\\nkraj\\Anaconda3\\lib\\site-packages\\sklearn\\linear_model\\_coordinate_descent.py:531: ConvergenceWarning: Objective did not converge. You might want to increase the number of iterations. Duality gap: 1717.2815050601862, tolerance: 795.8614203297293\n",
      "  positive)\n",
      "C:\\Users\\nkraj\\Anaconda3\\lib\\site-packages\\sklearn\\linear_model\\_coordinate_descent.py:531: ConvergenceWarning: Objective did not converge. You might want to increase the number of iterations. Duality gap: 1698.257196354951, tolerance: 776.1480174054766\n",
      "  positive)\n",
      "C:\\Users\\nkraj\\Anaconda3\\lib\\site-packages\\sklearn\\linear_model\\_coordinate_descent.py:531: ConvergenceWarning: Objective did not converge. You might want to increase the number of iterations. Duality gap: 1567.0501431773291, tolerance: 807.0414137052089\n",
      "  positive)\n",
      "C:\\Users\\nkraj\\Anaconda3\\lib\\site-packages\\sklearn\\linear_model\\_coordinate_descent.py:531: ConvergenceWarning: Objective did not converge. You might want to increase the number of iterations. Duality gap: 1353.3172749883786, tolerance: 766.0396732088803\n",
      "  positive)\n",
      "C:\\Users\\nkraj\\Anaconda3\\lib\\site-packages\\sklearn\\linear_model\\_coordinate_descent.py:531: ConvergenceWarning: Objective did not converge. You might want to increase the number of iterations. Duality gap: 813.3864255008898, tolerance: 787.1131475048804\n",
      "  positive)\n",
      "C:\\Users\\nkraj\\Anaconda3\\lib\\site-packages\\sklearn\\linear_model\\_coordinate_descent.py:531: ConvergenceWarning: Objective did not converge. You might want to increase the number of iterations. Duality gap: 1284.805073663593, tolerance: 778.0042799883331\n",
      "  positive)\n",
      "C:\\Users\\nkraj\\Anaconda3\\lib\\site-packages\\sklearn\\linear_model\\_coordinate_descent.py:531: ConvergenceWarning: Objective did not converge. You might want to increase the number of iterations. Duality gap: 1608.6370283633214, tolerance: 795.8614203297293\n",
      "  positive)\n",
      "C:\\Users\\nkraj\\Anaconda3\\lib\\site-packages\\sklearn\\linear_model\\_coordinate_descent.py:531: ConvergenceWarning: Objective did not converge. You might want to increase the number of iterations. Duality gap: 1567.6692702246994, tolerance: 776.1480174054766\n",
      "  positive)\n",
      "C:\\Users\\nkraj\\Anaconda3\\lib\\site-packages\\sklearn\\linear_model\\_coordinate_descent.py:531: ConvergenceWarning: Objective did not converge. You might want to increase the number of iterations. Duality gap: 1408.7392184406197, tolerance: 807.0414137052089\n",
      "  positive)\n",
      "C:\\Users\\nkraj\\Anaconda3\\lib\\site-packages\\sklearn\\linear_model\\_coordinate_descent.py:531: ConvergenceWarning: Objective did not converge. You might want to increase the number of iterations. Duality gap: 1218.7216634429717, tolerance: 766.0396732088803\n",
      "  positive)\n",
      "[Parallel(n_jobs=1)]: Done 320 out of 320 | elapsed:    5.3s finished\n"
     ]
    },
    {
     "data": {
      "text/plain": [
       "GridSearchCV(cv=10,\n",
       "             estimator=ElasticNet(max_iter=5000, random_state=35, tol=0.1),\n",
       "             n_jobs=1,\n",
       "             param_grid={'alpha': array([1.e-05, 1.e-04, 1.e-03, 1.e-02, 1.e-01, 1.e+00, 1.e+01, 1.e+02]),\n",
       "                         'l1_ratio': [0.2, 0.4, 0.6, 0.8]},\n",
       "             scoring='neg_mean_squared_error', verbose=1)"
      ]
     },
     "execution_count": 26,
     "metadata": {},
     "output_type": "execute_result"
    }
   ],
   "source": [
    "search.fit(X_train_standard, y_train)"
   ]
  },
  {
   "cell_type": "code",
   "execution_count": 27,
   "metadata": {},
   "outputs": [
    {
     "name": "stdout",
     "output_type": "stream",
     "text": [
      "ENet MSE: 8.0590602996011\n",
      "ENet R2: 0.2886196808894341\n"
     ]
    }
   ],
   "source": [
    "enet_model = search.best_estimator_\n",
    "\n",
    "# use best enet model and save predictions\n",
    "enet_preds=enet_model.predict(X_test_standard)\n",
    "\n",
    "enet_resids = (y_test - enet_preds)\n",
    "\n",
    "enet_MSE = mean_squared_error(y_test, enet_preds)\n",
    "enet_r2 = r2_score(y_test, enet_preds)\n",
    "print('ENet MSE:', enet_MSE)\n",
    "print('ENet R2:', enet_r2)"
   ]
  },
  {
   "cell_type": "code",
   "execution_count": 28,
   "metadata": {},
   "outputs": [
    {
     "data": {
      "image/png": "[encoded data removed]",
      "text/plain": [
       "<Figure size 1008x360 with 2 Axes>"
      ]
     },
     "metadata": {
      "needs_background": "light"
     },
     "output_type": "display_data"
    }
   ],
   "source": [
    "figure, axes = plt.subplots(ncols=2, figsize=(14,5))\n",
    "\n",
    "sns.scatterplot(x=enet_preds, y=enet_resids, ax=axes[0])\n",
    "axes[0].set_title('ENet Residual Plot')\n",
    "axes[0].set(xlabel='Predictions', ylabel='Residuals')\n",
    "sns.scatterplot(x=enet_preds, y=y_test, ax=axes[1])\n",
    "axes[1].set_title('ENet Predications v. Actuals')\n",
    "axes[1].set(xlabel='Predictions', ylabel='Actuals')\n",
    "\n",
    "plt.setp(axes, yticks=[])\n",
    "plt.tight_layout()"
   ]
  },
  {
   "cell_type": "markdown",
   "metadata": {},
   "source": [
    "#### LightGB Model"
   ]
  },
  {
   "cell_type": "code",
   "execution_count": 29,
   "metadata": {},
   "outputs": [],
   "source": [
    "# Tune hyperparamters using Bayesian Hyperparamter Optimization\n",
    "def bayes_parameter_opt_lgb(X, y, init_round=20, opt_round=30, n_folds=5, random_seed=6, \n",
    "                            n_estimators=1000, learning_rate=0.05, output_process=False):\n",
    "  \n",
    "  train_data = lgb.Dataset(data=X, label=y)\n",
    "\n",
    "  def lgb_eval(num_leaves, feature_fraction, bagging_fraction, max_depth,\n",
    "               lambda_l1, lambda_l2, min_split_gain, min_child_weight):\n",
    "    \n",
    "    params = {\n",
    "        'objective':'regression',\n",
    "        'learning_rate':learning_rate, \n",
    "        'metric':'rmse'\n",
    "        }\n",
    "    params[\"num_leaves\"] = int(round(num_leaves))\n",
    "    params['feature_fraction'] = max(min(feature_fraction, 1), 0)\n",
    "    params['bagging_fraction'] = max(min(bagging_fraction, 1), 0)\n",
    "    params['max_depth'] = int(round(max_depth))\n",
    "    params['lambda_l1'] = max(lambda_l1, 0)\n",
    "    params['lambda_l2'] = max(lambda_l2, 0)\n",
    "    params['min_split_gain'] = min_split_gain\n",
    "    params['min_child_weight'] = min_child_weight\n",
    "\n",
    "    cv_result = lgb.cv(params, train_data, num_boost_round=1000, nfold=3, seed=random_seed,\n",
    "                           stratified=False, verbose_eval =200, metrics=['rmse'])\n",
    "\n",
    "    return min(cv_result['rmse-mean'])\n",
    "\n",
    "    # setting range of the parameters\n",
    "  lgbBO = BayesianOptimization(lgb_eval, {'num_leaves': (24, 45),\n",
    "                                          'feature_fraction': (0.1, 0.9),\n",
    "                                          'bagging_fraction': (0.5, 1),\n",
    "                                          'max_depth': (5, 8.99),\n",
    "                                          'lambda_l1': (0, 5),\n",
    "                                          'lambda_l2': (0, 3),\n",
    "                                          'min_split_gain': (0.001, 0.1),\n",
    "                                          'min_child_weight': (5, 25)}, random_state=0)\n",
    "  # optimize\n",
    "  lgbBO.maximize(init_points=init_round, n_iter=opt_round)\n",
    "    \n",
    "  # output optimization process\n",
    "  if output_process==True: lgbBO.points_to_csv(\"bayes_opt_result.csv\")\n",
    "    \n",
    "  # return\n",
    "  return lgbBO"
   ]
  },
  {
   "cell_type": "code",
   "execution_count": 30,
   "metadata": {},
   "outputs": [
    {
     "name": "stdout",
     "output_type": "stream",
     "text": [
      "|   iter    |  target   | baggin... | featur... | lambda_l1 | lambda_l2 | max_depth | min_ch... | min_sp... | num_le... |\n",
      "-------------------------------------------------------------------------------------------------------------------------\n",
      "[200]\tcv_agg's rmse: 2.93074 + 0.0802895\n",
      "[400]\tcv_agg's rmse: 3.02846 + 0.0899403\n",
      "[600]\tcv_agg's rmse: 3.06097 + 0.0771375\n",
      "[800]\tcv_agg's rmse: 3.06097 + 0.0771375\n",
      "[1000]\tcv_agg's rmse: 3.06097 + 0.0771375\n",
      "| \u001b[0m 1       \u001b[0m | \u001b[0m 2.787   \u001b[0m | \u001b[0m 0.7744  \u001b[0m | \u001b[0m 0.6722  \u001b[0m | \u001b[0m 3.014   \u001b[0m | \u001b[0m 1.635   \u001b[0m | \u001b[0m 6.69    \u001b[0m | \u001b[0m 17.92   \u001b[0m | \u001b[0m 0.04432 \u001b[0m | \u001b[0m 42.73   \u001b[0m |\n",
      "[200]\tcv_agg's rmse: 2.89761 + 0.0672103\n",
      "[400]\tcv_agg's rmse: 3.00156 + 0.082962\n",
      "[600]\tcv_agg's rmse: 3.06213 + 0.0828144\n",
      "[800]\tcv_agg's rmse: 3.10346 + 0.0877769\n",
      "[1000]\tcv_agg's rmse: 3.11399 + 0.0901602\n",
      "| \u001b[0m 2       \u001b[0m | \u001b[0m 2.772   \u001b[0m | \u001b[0m 0.9818  \u001b[0m | \u001b[0m 0.4068  \u001b[0m | \u001b[0m 3.959   \u001b[0m | \u001b[0m 1.587   \u001b[0m | \u001b[0m 7.266   \u001b[0m | \u001b[0m 23.51   \u001b[0m | \u001b[0m 0.008033\u001b[0m | \u001b[0m 25.83   \u001b[0m |\n",
      "[200]\tcv_agg's rmse: 2.96684 + 0.0558642\n",
      "[400]\tcv_agg's rmse: 3.04608 + 0.0524843\n",
      "[600]\tcv_agg's rmse: 3.04608 + 0.0524843\n",
      "[800]\tcv_agg's rmse: 3.04608 + 0.0524843\n",
      "[1000]\tcv_agg's rmse: 3.04608 + 0.0524843\n",
      "| \u001b[95m 3       \u001b[0m | \u001b[95m 2.797   \u001b[0m | \u001b[95m 0.5101  \u001b[0m | \u001b[95m 0.7661  \u001b[0m | \u001b[95m 3.891   \u001b[0m | \u001b[95m 2.61    \u001b[0m | \u001b[95m 8.905   \u001b[0m | \u001b[95m 20.98   \u001b[0m | \u001b[95m 0.04669 \u001b[0m | \u001b[95m 40.39   \u001b[0m |\n",
      "[200]\tcv_agg's rmse: 2.93019 + 0.076638\n",
      "[400]\tcv_agg's rmse: 3.0332 + 0.0858982\n",
      "[600]\tcv_agg's rmse: 3.1033 + 0.0897688\n",
      "[800]\tcv_agg's rmse: 3.14985 + 0.0976954\n",
      "[1000]\tcv_agg's rmse: 3.1815 + 0.102979\n",
      "| \u001b[0m 4       \u001b[0m | \u001b[0m 2.794   \u001b[0m | \u001b[0m 0.5591  \u001b[0m | \u001b[0m 0.6119  \u001b[0m | \u001b[0m 0.7168  \u001b[0m | \u001b[0m 2.834   \u001b[0m | \u001b[0m 7.082   \u001b[0m | \u001b[0m 13.29   \u001b[0m | \u001b[0m 0.02719 \u001b[0m | \u001b[0m 40.26   \u001b[0m |\n",
      "[200]\tcv_agg's rmse: 2.92181 + 0.0789158\n",
      "[400]\tcv_agg's rmse: 3.01618 + 0.0975831\n",
      "[600]\tcv_agg's rmse: 3.08413 + 0.0969728\n",
      "[800]\tcv_agg's rmse: 3.12902 + 0.106762\n",
      "[1000]\tcv_agg's rmse: 3.13422 + 0.10895\n",
      "| \u001b[0m 5       \u001b[0m | \u001b[0m 2.78    \u001b[0m | \u001b[0m 0.7281  \u001b[0m | \u001b[0m 0.5547  \u001b[0m | \u001b[0m 0.09395 \u001b[0m | \u001b[0m 1.853   \u001b[0m | \u001b[0m 7.442   \u001b[0m | \u001b[0m 17.34   \u001b[0m | \u001b[0m 0.09443 \u001b[0m | \u001b[0m 38.32   \u001b[0m |\n",
      "[200]\tcv_agg's rmse: 2.95929 + 0.083817\n",
      "[400]\tcv_agg's rmse: 3.05403 + 0.0875952\n",
      "[600]\tcv_agg's rmse: 3.08925 + 0.0840083\n",
      "[800]\tcv_agg's rmse: 3.08925 + 0.0840083\n",
      "[1000]\tcv_agg's rmse: 3.08925 + 0.0840083\n",
      "| \u001b[95m 6       \u001b[0m | \u001b[95m 2.803   \u001b[0m | \u001b[95m 0.8072  \u001b[0m | \u001b[95m 0.7539  \u001b[0m | \u001b[95m 3.548   \u001b[0m | \u001b[95m 2.241   \u001b[0m | \u001b[95m 8.096   \u001b[0m | \u001b[95m 19.07   \u001b[0m | \u001b[95m 0.01252 \u001b[0m | \u001b[95m 31.01   \u001b[0m |\n",
      "[200]\tcv_agg's rmse: 2.93601 + 0.0683667\n",
      "[400]\tcv_agg's rmse: 3.01726 + 0.0756912\n",
      "[600]\tcv_agg's rmse: 3.01749 + 0.0759692\n",
      "[800]\tcv_agg's rmse: 3.01749 + 0.0759692\n",
      "[1000]\tcv_agg's rmse: 3.01749 + 0.0759692\n",
      "| \u001b[0m 7       \u001b[0m | \u001b[0m 2.78    \u001b[0m | \u001b[0m 0.8829  \u001b[0m | \u001b[0m 0.6215  \u001b[0m | \u001b[0m 3.512   \u001b[0m | \u001b[0m 1.874   \u001b[0m | \u001b[0m 7.816   \u001b[0m | \u001b[0m 21.22   \u001b[0m | \u001b[0m 0.07113 \u001b[0m | \u001b[0m 41.75   \u001b[0m |\n",
      "[200]\tcv_agg's rmse: 2.941 + 0.0848003\n",
      "[400]\tcv_agg's rmse: 3.04132 + 0.093836\n",
      "[600]\tcv_agg's rmse: 3.06325 + 0.0934555\n",
      "[800]\tcv_agg's rmse: 3.06325 + 0.0934555\n",
      "[1000]\tcv_agg's rmse: 3.06325 + 0.0934555\n",
      "| \u001b[0m 8       \u001b[0m | \u001b[0m 2.781   \u001b[0m | \u001b[0m 0.6822  \u001b[0m | \u001b[0m 0.5144  \u001b[0m | \u001b[0m 3.165   \u001b[0m | \u001b[0m 1.62    \u001b[0m | \u001b[0m 8.711   \u001b[0m | \u001b[0m 20.25   \u001b[0m | \u001b[0m 0.03409 \u001b[0m | \u001b[0m 27.24   \u001b[0m |\n",
      "[200]\tcv_agg's rmse: 2.87765 + 0.0776403\n",
      "[400]\tcv_agg's rmse: 2.98585 + 0.0960619\n",
      "[600]\tcv_agg's rmse: 3.0571 + 0.090202\n",
      "[800]\tcv_agg's rmse: 3.07766 + 0.0811198\n",
      "[1000]\tcv_agg's rmse: 3.07766 + 0.0811198\n",
      "| \u001b[0m 9       \u001b[0m | \u001b[0m 2.772   \u001b[0m | \u001b[0m 0.803   \u001b[0m | \u001b[0m 0.3702  \u001b[0m | \u001b[0m 3.659   \u001b[0m | \u001b[0m 2.989   \u001b[0m | \u001b[0m 6.279   \u001b[0m | \u001b[0m 17.81   \u001b[0m | \u001b[0m 0.02548 \u001b[0m | \u001b[0m 30.52   \u001b[0m |\n",
      "[200]\tcv_agg's rmse: 2.93345 + 0.065842\n",
      "[400]\tcv_agg's rmse: 3.05944 + 0.0836719\n",
      "[600]\tcv_agg's rmse: 3.13221 + 0.0772563\n",
      "[800]\tcv_agg's rmse: 3.18645 + 0.0768525\n",
      "[1000]\tcv_agg's rmse: 3.19878 + 0.0799148\n",
      "| \u001b[0m 10      \u001b[0m | \u001b[0m 2.772   \u001b[0m | \u001b[0m 0.7939  \u001b[0m | \u001b[0m 0.2053  \u001b[0m | \u001b[0m 0.7007  \u001b[0m | \u001b[0m 0.203   \u001b[0m | \u001b[0m 8.891   \u001b[0m | \u001b[0m 21.18   \u001b[0m | \u001b[0m 0.06127 \u001b[0m | \u001b[0m 25.83   \u001b[0m |\n",
      "[200]\tcv_agg's rmse: 2.91765 + 0.0861487\n",
      "[400]\tcv_agg's rmse: 3.0211 + 0.0911291\n",
      "[600]\tcv_agg's rmse: 3.09214 + 0.0936622\n",
      "[800]\tcv_agg's rmse: 3.10348 + 0.0926978\n",
      "[1000]\tcv_agg's rmse: 3.10348 + 0.0926978\n",
      "| \u001b[0m 11      \u001b[0m | \u001b[0m 2.777   \u001b[0m | \u001b[0m 0.9306  \u001b[0m | \u001b[0m 0.4481  \u001b[0m | \u001b[0m 1.993   \u001b[0m | \u001b[0m 1.737   \u001b[0m | \u001b[0m 7.396   \u001b[0m | \u001b[0m 12.86   \u001b[0m | \u001b[0m 0.03566 \u001b[0m | \u001b[0m 42.06   \u001b[0m |\n",
      "[200]\tcv_agg's rmse: 2.98205 + 0.0822966\n",
      "[400]\tcv_agg's rmse: 3.05822 + 0.0766478\n",
      "[600]\tcv_agg's rmse: 3.05822 + 0.0766478\n",
      "[800]\tcv_agg's rmse: 3.05822 + 0.0766478\n",
      "[1000]\tcv_agg's rmse: 3.05822 + 0.0766478\n",
      "| \u001b[95m 12      \u001b[0m | \u001b[95m 2.811   \u001b[0m | \u001b[95m 0.793   \u001b[0m | \u001b[95m 0.8446  \u001b[0m | \u001b[95m 2.612   \u001b[0m | \u001b[95m 0.9115  \u001b[0m | \u001b[95m 8.531   \u001b[0m | \u001b[95m 8.942   \u001b[0m | \u001b[95m 0.06858 \u001b[0m | \u001b[95m 31.82   \u001b[0m |\n",
      "[200]\tcv_agg's rmse: 2.9471 + 0.0913183\n",
      "[400]\tcv_agg's rmse: 3.05315 + 0.0955554\n",
      "[600]\tcv_agg's rmse: 3.10876 + 0.0962252\n",
      "[800]\tcv_agg's rmse: 3.11518 + 0.0948966\n",
      "[1000]\tcv_agg's rmse: 3.11518 + 0.0948966\n",
      "| \u001b[0m 13      \u001b[0m | \u001b[0m 2.785   \u001b[0m | \u001b[0m 0.8856  \u001b[0m | \u001b[0m 0.5156  \u001b[0m | \u001b[0m 2.529   \u001b[0m | \u001b[0m 1.091   \u001b[0m | \u001b[0m 8.788   \u001b[0m | \u001b[0m 9.322   \u001b[0m | \u001b[0m 0.00678 \u001b[0m | \u001b[0m 32.27   \u001b[0m |\n",
      "[200]\tcv_agg's rmse: 2.94955 + 0.0693324\n",
      "[400]\tcv_agg's rmse: 3.02972 + 0.0714549\n",
      "[600]\tcv_agg's rmse: 3.03055 + 0.0704942\n",
      "[800]\tcv_agg's rmse: 3.03055 + 0.0704942\n",
      "[1000]\tcv_agg's rmse: 3.03055 + 0.0704942\n",
      "| \u001b[0m 14      \u001b[0m | \u001b[0m 2.802   \u001b[0m | \u001b[0m 0.6554  \u001b[0m | \u001b[0m 0.7722  \u001b[0m | \u001b[0m 4.562   \u001b[0m | \u001b[0m 2.659   \u001b[0m | \u001b[0m 7.382   \u001b[0m | \u001b[0m 17.47   \u001b[0m | \u001b[0m 0.04539 \u001b[0m | \u001b[0m 41.1    \u001b[0m |\n",
      "[200]\tcv_agg's rmse: 2.88906 + 0.0720668\n",
      "[400]\tcv_agg's rmse: 2.99384 + 0.0850639\n",
      "[600]\tcv_agg's rmse: 3.06479 + 0.0849015\n",
      "[800]\tcv_agg's rmse: 3.12225 + 0.0874598\n",
      "[1000]\tcv_agg's rmse: 3.16935 + 0.0860199\n",
      "| \u001b[0m 15      \u001b[0m | \u001b[0m 2.775   \u001b[0m | \u001b[0m 0.9669  \u001b[0m | \u001b[0m 0.2938  \u001b[0m | \u001b[0m 1.71    \u001b[0m | \u001b[0m 2.05    \u001b[0m | \u001b[0m 6.263   \u001b[0m | \u001b[0m 21.74   \u001b[0m | \u001b[0m 0.0229  \u001b[0m | \u001b[0m 27.79   \u001b[0m |\n",
      "=========================================================================================================================\n"
     ]
    }
   ],
   "source": [
    "opt_params = bayes_parameter_opt_lgb(X_train_normal, y_train, init_round=5, opt_round=10, n_folds=5, random_seed=35)"
   ]
  },
  {
   "cell_type": "code",
   "execution_count": 31,
   "metadata": {},
   "outputs": [
    {
     "data": {
      "text/plain": [
       "{'bagging_fraction': 0.792985541295224,\n",
       " 'feature_fraction': 0.844599030102194,\n",
       " 'lambda_l1': 2.612234679028655,\n",
       " 'lambda_l2': 0.9115473014290368,\n",
       " 'max_depth': 8.531225140880148,\n",
       " 'min_child_weight': 8.941838114004382,\n",
       " 'min_split_gain': 0.06858011911695182,\n",
       " 'num_leaves': 31.818471309092757}"
      ]
     },
     "execution_count": 31,
     "metadata": {},
     "output_type": "execute_result"
    }
   ],
   "source": [
    "params = opt_params.max['params']\n",
    "params"
   ]
  },
  {
   "cell_type": "code",
   "execution_count": 32,
   "metadata": {},
   "outputs": [],
   "source": [
    "# set params for model based on optimal params\n",
    "params = {\n",
    "    \"objective\" : \"regression\",\n",
    "    \"metric\" : \"rmse\",\n",
    "    \"bagging_frequency\" : 5,\n",
    "    \"bagging_seed\" : 2018,\n",
    "    \"verbosity\" : -1,\n",
    "    'bagging_fraction': 0.8,\n",
    "    'feature_fraction': 0.8,\n",
    "    'lambda_l1': 3.5,\n",
    "    'lambda_l2': 2.2,\n",
    "    'max_depth': 8,\n",
    "    'min_child_weight': 19,\n",
    "    'min_split_gain': 0.0,\n",
    "    'num_leaves': 31\n",
    "\n",
    "}"
   ]
  },
  {
   "cell_type": "code",
   "execution_count": 33,
   "metadata": {},
   "outputs": [],
   "source": [
    "lgb_model = lgb.LGBMRegressor(**params)"
   ]
  },
  {
   "cell_type": "code",
   "execution_count": 34,
   "metadata": {},
   "outputs": [
    {
     "name": "stdout",
     "output_type": "stream",
     "text": [
      "LGB MSE: 9.950689032114909\n",
      "LGB R2: 0.12164395402447992\n"
     ]
    }
   ],
   "source": [
    "lgb_model.fit(X_train_normal, y_train)\n",
    "lgb_preds = lgb_model.predict(X_test_normal)\n",
    "\n",
    "lgb_resids = (y_test - lgb_preds)\n",
    "\n",
    "lgb_MSE = mean_squared_error(y_test, lgb_preds)\n",
    "lgb_r2 = r2_score(y_test, lgb_preds)\n",
    "print('LGB MSE:', lgb_MSE)\n",
    "print('LGB R2:', lgb_r2)"
   ]
  },
  {
   "cell_type": "code",
   "execution_count": 35,
   "metadata": {},
   "outputs": [
    {
     "data": {
      "image/png": "[encoded data removed]",
      "text/plain": [
       "<Figure size 1008x360 with 2 Axes>"
      ]
     },
     "metadata": {
      "needs_background": "light"
     },
     "output_type": "display_data"
    }
   ],
   "source": [
    "figure, axes = plt.subplots(ncols=2, figsize=(14,5))\n",
    "\n",
    "sns.scatterplot(x=lgb_preds, y=lgb_resids, ax=axes[0])\n",
    "axes[0].set_title('LGB Residual Plot')\n",
    "axes[0].set(xlabel='Predictions', ylabel='Residuals')\n",
    "sns.scatterplot(x=lgb_preds, y=y_test, ax=axes[1])\n",
    "axes[1].set_title('LGB Predications v. Actuals')\n",
    "axes[1].set(xlabel='Predictions', ylabel='Actuals')\n",
    "\n",
    "plt.setp(axes, yticks=[])\n",
    "plt.tight_layout()"
   ]
  },
  {
   "cell_type": "markdown",
   "metadata": {},
   "source": [
    "#### SVM Model"
   ]
  },
  {
   "cell_type": "code",
   "execution_count": 36,
   "metadata": {},
   "outputs": [
    {
     "name": "stdout",
     "output_type": "stream",
     "text": [
      "Fitting 5 folds for each of 40 candidates, totalling 200 fits\n",
      "[CV] C=0.1, gamma=1, kernel=linear ...................................\n",
      "[CV] ...... C=0.1, gamma=1, kernel=linear, score=-7.694, total=   0.0s\n",
      "[CV] C=0.1, gamma=1, kernel=linear ...................................\n",
      "[CV] ...... C=0.1, gamma=1, kernel=linear, score=-7.663, total=   0.0s\n",
      "[CV] C=0.1, gamma=1, kernel=linear ...................................\n",
      "[CV] ...... C=0.1, gamma=1, kernel=linear, score=-7.892, total=   0.0s\n",
      "[CV] C=0.1, gamma=1, kernel=linear ...................................\n",
      "[CV] ...... C=0.1, gamma=1, kernel=linear, score=-7.151, total=   0.0s\n",
      "[CV] C=0.1, gamma=1, kernel=linear ...................................\n",
      "[CV] ...... C=0.1, gamma=1, kernel=linear, score=-8.658, total=   0.0s\n",
      "[CV] C=0.1, gamma=1, kernel=rbf ......................................\n",
      "[CV] ......... C=0.1, gamma=1, kernel=rbf, score=-7.595, total=   0.0s\n",
      "[CV] C=0.1, gamma=1, kernel=rbf ......................................\n",
      "[CV] ......... C=0.1, gamma=1, kernel=rbf, score=-7.559, total=   0.0s\n",
      "[CV] C=0.1, gamma=1, kernel=rbf ......................................\n",
      "[CV] ......... C=0.1, gamma=1, kernel=rbf, score=-7.830, total=   0.0s\n",
      "[CV] C=0.1, gamma=1, kernel=rbf ......................................\n",
      "[CV] ......... C=0.1, gamma=1, kernel=rbf, score=-7.041, total=   0.0s\n",
      "[CV] C=0.1, gamma=1, kernel=rbf ......................................\n",
      "[CV] ......... C=0.1, gamma=1, kernel=rbf, score=-8.699, total=   0.0s\n",
      "[CV] C=0.1, gamma=0.1, kernel=linear .................................\n",
      "[CV] .... C=0.1, gamma=0.1, kernel=linear, score=-7.694, total=   0.0s\n",
      "[CV] C=0.1, gamma=0.1, kernel=linear .................................\n",
      "[CV] .... C=0.1, gamma=0.1, kernel=linear, score=-7.663, total=   0.0s\n",
      "[CV] C=0.1, gamma=0.1, kernel=linear .................................\n",
      "[CV] .... C=0.1, gamma=0.1, kernel=linear, score=-7.892, total=   0.0s\n",
      "[CV] C=0.1, gamma=0.1, kernel=linear .................................\n",
      "[CV] .... C=0.1, gamma=0.1, kernel=linear, score=-7.151, total=   0.0s\n",
      "[CV] C=0.1, gamma=0.1, kernel=linear .................................\n",
      "[CV] .... C=0.1, gamma=0.1, kernel=linear, score=-8.658, total=   0.0s\n",
      "[CV] C=0.1, gamma=0.1, kernel=rbf ....................................\n",
      "[CV] ....... C=0.1, gamma=0.1, kernel=rbf, score=-9.719, total=   0.0s\n",
      "[CV] C=0.1, gamma=0.1, kernel=rbf ....................................\n"
     ]
    },
    {
     "name": "stderr",
     "output_type": "stream",
     "text": [
      "[Parallel(n_jobs=1)]: Using backend SequentialBackend with 1 concurrent workers.\n",
      "[Parallel(n_jobs=1)]: Done   1 out of   1 | elapsed:    0.0s remaining:    0.0s\n",
      "[Parallel(n_jobs=1)]: Done   2 out of   2 | elapsed:    0.0s remaining:    0.0s\n"
     ]
    },
    {
     "name": "stdout",
     "output_type": "stream",
     "text": [
      "[CV] ....... C=0.1, gamma=0.1, kernel=rbf, score=-8.733, total=   0.0s\n",
      "[CV] C=0.1, gamma=0.1, kernel=rbf ....................................\n",
      "[CV] ....... C=0.1, gamma=0.1, kernel=rbf, score=-9.002, total=   0.0s\n",
      "[CV] C=0.1, gamma=0.1, kernel=rbf ....................................\n",
      "[CV] ....... C=0.1, gamma=0.1, kernel=rbf, score=-8.151, total=   0.0s\n",
      "[CV] C=0.1, gamma=0.1, kernel=rbf ....................................\n",
      "[CV] ....... C=0.1, gamma=0.1, kernel=rbf, score=-9.979, total=   0.0s\n",
      "[CV] C=0.1, gamma=0.01, kernel=linear ................................\n",
      "[CV] ... C=0.1, gamma=0.01, kernel=linear, score=-7.694, total=   0.0s\n",
      "[CV] C=0.1, gamma=0.01, kernel=linear ................................\n",
      "[CV] ... C=0.1, gamma=0.01, kernel=linear, score=-7.663, total=   0.0s\n",
      "[CV] C=0.1, gamma=0.01, kernel=linear ................................\n",
      "[CV] ... C=0.1, gamma=0.01, kernel=linear, score=-7.892, total=   0.0s\n",
      "[CV] C=0.1, gamma=0.01, kernel=linear ................................\n",
      "[CV] ... C=0.1, gamma=0.01, kernel=linear, score=-7.151, total=   0.0s\n",
      "[CV] C=0.1, gamma=0.01, kernel=linear ................................\n",
      "[CV] ... C=0.1, gamma=0.01, kernel=linear, score=-8.658, total=   0.0s\n",
      "[CV] C=0.1, gamma=0.01, kernel=rbf ...................................\n",
      "[CV] ..... C=0.1, gamma=0.01, kernel=rbf, score=-10.979, total=   0.0s\n",
      "[CV] C=0.1, gamma=0.01, kernel=rbf ...................................\n",
      "[CV] ...... C=0.1, gamma=0.01, kernel=rbf, score=-9.614, total=   0.0s\n",
      "[CV] C=0.1, gamma=0.01, kernel=rbf ...................................\n",
      "[CV] ...... C=0.1, gamma=0.01, kernel=rbf, score=-9.915, total=   0.0s\n",
      "[CV] C=0.1, gamma=0.01, kernel=rbf ...................................\n",
      "[CV] ...... C=0.1, gamma=0.01, kernel=rbf, score=-8.963, total=   0.0s\n",
      "[CV] C=0.1, gamma=0.01, kernel=rbf ...................................\n",
      "[CV] ..... C=0.1, gamma=0.01, kernel=rbf, score=-11.081, total=   0.0s\n",
      "[CV] C=0.1, gamma=0.001, kernel=linear ...............................\n",
      "[CV] .. C=0.1, gamma=0.001, kernel=linear, score=-7.694, total=   0.0s\n",
      "[CV] C=0.1, gamma=0.001, kernel=linear ...............................\n",
      "[CV] .. C=0.1, gamma=0.001, kernel=linear, score=-7.663, total=   0.0s\n",
      "[CV] C=0.1, gamma=0.001, kernel=linear ...............................\n",
      "[CV] .. C=0.1, gamma=0.001, kernel=linear, score=-7.892, total=   0.0s\n",
      "[CV] C=0.1, gamma=0.001, kernel=linear ...............................\n",
      "[CV] .. C=0.1, gamma=0.001, kernel=linear, score=-7.151, total=   0.0s\n",
      "[CV] C=0.1, gamma=0.001, kernel=linear ...............................\n",
      "[CV] .. C=0.1, gamma=0.001, kernel=linear, score=-8.658, total=   0.0s\n",
      "[CV] C=0.1, gamma=0.001, kernel=rbf ..................................\n",
      "[CV] .... C=0.1, gamma=0.001, kernel=rbf, score=-11.167, total=   0.0s\n",
      "[CV] C=0.1, gamma=0.001, kernel=rbf ..................................\n",
      "[CV] ..... C=0.1, gamma=0.001, kernel=rbf, score=-9.750, total=   0.0s\n",
      "[CV] C=0.1, gamma=0.001, kernel=rbf ..................................\n",
      "[CV] .... C=0.1, gamma=0.001, kernel=rbf, score=-10.054, total=   0.0s\n",
      "[CV] C=0.1, gamma=0.001, kernel=rbf ..................................\n",
      "[CV] ..... C=0.1, gamma=0.001, kernel=rbf, score=-9.089, total=   0.0s\n",
      "[CV] C=0.1, gamma=0.001, kernel=rbf ..................................\n",
      "[CV] .... C=0.1, gamma=0.001, kernel=rbf, score=-11.242, total=   0.0s\n",
      "[CV] C=0.1, gamma=0.0001, kernel=linear ..............................\n",
      "[CV] . C=0.1, gamma=0.0001, kernel=linear, score=-7.694, total=   0.0s\n",
      "[CV] C=0.1, gamma=0.0001, kernel=linear ..............................\n",
      "[CV] . C=0.1, gamma=0.0001, kernel=linear, score=-7.663, total=   0.0s\n",
      "[CV] C=0.1, gamma=0.0001, kernel=linear ..............................\n",
      "[CV] . C=0.1, gamma=0.0001, kernel=linear, score=-7.892, total=   0.0s\n",
      "[CV] C=0.1, gamma=0.0001, kernel=linear ..............................\n",
      "[CV] . C=0.1, gamma=0.0001, kernel=linear, score=-7.151, total=   0.0s\n",
      "[CV] C=0.1, gamma=0.0001, kernel=linear ..............................\n",
      "[CV] . C=0.1, gamma=0.0001, kernel=linear, score=-8.658, total=   0.0s\n",
      "[CV] C=0.1, gamma=0.0001, kernel=rbf .................................\n",
      "[CV] ... C=0.1, gamma=0.0001, kernel=rbf, score=-11.183, total=   0.0s\n",
      "[CV] C=0.1, gamma=0.0001, kernel=rbf .................................\n",
      "[CV] .... C=0.1, gamma=0.0001, kernel=rbf, score=-9.764, total=   0.0s\n",
      "[CV] C=0.1, gamma=0.0001, kernel=rbf .................................\n",
      "[CV] ... C=0.1, gamma=0.0001, kernel=rbf, score=-10.068, total=   0.0s\n",
      "[CV] C=0.1, gamma=0.0001, kernel=rbf .................................\n",
      "[CV] .... C=0.1, gamma=0.0001, kernel=rbf, score=-9.103, total=   0.0s\n",
      "[CV] C=0.1, gamma=0.0001, kernel=rbf .................................\n",
      "[CV] ... C=0.1, gamma=0.0001, kernel=rbf, score=-11.260, total=   0.0s\n",
      "[CV] C=1, gamma=1, kernel=linear .....................................\n",
      "[CV] ........ C=1, gamma=1, kernel=linear, score=-7.225, total=   0.0s\n",
      "[CV] C=1, gamma=1, kernel=linear .....................................\n",
      "[CV] ........ C=1, gamma=1, kernel=linear, score=-7.610, total=   0.0s\n",
      "[CV] C=1, gamma=1, kernel=linear .....................................\n",
      "[CV] ........ C=1, gamma=1, kernel=linear, score=-7.730, total=   0.0s\n",
      "[CV] C=1, gamma=1, kernel=linear .....................................\n",
      "[CV] ........ C=1, gamma=1, kernel=linear, score=-7.178, total=   0.0s\n",
      "[CV] C=1, gamma=1, kernel=linear .....................................\n",
      "[CV] ........ C=1, gamma=1, kernel=linear, score=-8.556, total=   0.0s\n",
      "[CV] C=1, gamma=1, kernel=rbf ........................................\n",
      "[CV] ........... C=1, gamma=1, kernel=rbf, score=-7.223, total=   0.0s\n",
      "[CV] C=1, gamma=1, kernel=rbf ........................................\n",
      "[CV] ........... C=1, gamma=1, kernel=rbf, score=-7.462, total=   0.0s\n",
      "[CV] C=1, gamma=1, kernel=rbf ........................................\n",
      "[CV] ........... C=1, gamma=1, kernel=rbf, score=-7.607, total=   0.0s\n",
      "[CV] C=1, gamma=1, kernel=rbf ........................................\n",
      "[CV] ........... C=1, gamma=1, kernel=rbf, score=-6.940, total=   0.0s\n",
      "[CV] C=1, gamma=1, kernel=rbf ........................................\n",
      "[CV] ........... C=1, gamma=1, kernel=rbf, score=-8.537, total=   0.0s\n",
      "[CV] C=1, gamma=0.1, kernel=linear ...................................\n",
      "[CV] ...... C=1, gamma=0.1, kernel=linear, score=-7.225, total=   0.0s\n",
      "[CV] C=1, gamma=0.1, kernel=linear ...................................\n",
      "[CV] ...... C=1, gamma=0.1, kernel=linear, score=-7.610, total=   0.0s\n",
      "[CV] C=1, gamma=0.1, kernel=linear ...................................\n",
      "[CV] ...... C=1, gamma=0.1, kernel=linear, score=-7.730, total=   0.0s\n",
      "[CV] C=1, gamma=0.1, kernel=linear ...................................\n",
      "[CV] ...... C=1, gamma=0.1, kernel=linear, score=-7.178, total=   0.0s\n",
      "[CV] C=1, gamma=0.1, kernel=linear ...................................\n",
      "[CV] ...... C=1, gamma=0.1, kernel=linear, score=-8.556, total=   0.0s\n",
      "[CV] C=1, gamma=0.1, kernel=rbf ......................................\n",
      "[CV] ......... C=1, gamma=0.1, kernel=rbf, score=-7.420, total=   0.0s\n",
      "[CV] C=1, gamma=0.1, kernel=rbf ......................................\n",
      "[CV] ......... C=1, gamma=0.1, kernel=rbf, score=-7.515, total=   0.0s\n",
      "[CV] C=1, gamma=0.1, kernel=rbf ......................................\n",
      "[CV] ......... C=1, gamma=0.1, kernel=rbf, score=-7.727, total=   0.0s\n",
      "[CV] C=1, gamma=0.1, kernel=rbf ......................................\n",
      "[CV] ......... C=1, gamma=0.1, kernel=rbf, score=-7.036, total=   0.0s\n",
      "[CV] C=1, gamma=0.1, kernel=rbf ......................................\n",
      "[CV] ......... C=1, gamma=0.1, kernel=rbf, score=-8.494, total=   0.0s\n",
      "[CV] C=1, gamma=0.01, kernel=linear ..................................\n",
      "[CV] ..... C=1, gamma=0.01, kernel=linear, score=-7.225, total=   0.0s\n",
      "[CV] C=1, gamma=0.01, kernel=linear ..................................\n",
      "[CV] ..... C=1, gamma=0.01, kernel=linear, score=-7.610, total=   0.0s\n",
      "[CV] C=1, gamma=0.01, kernel=linear ..................................\n",
      "[CV] ..... C=1, gamma=0.01, kernel=linear, score=-7.730, total=   0.0s\n",
      "[CV] C=1, gamma=0.01, kernel=linear ..................................\n",
      "[CV] ..... C=1, gamma=0.01, kernel=linear, score=-7.178, total=   0.0s\n",
      "[CV] C=1, gamma=0.01, kernel=linear ..................................\n",
      "[CV] ..... C=1, gamma=0.01, kernel=linear, score=-8.556, total=   0.0s\n",
      "[CV] C=1, gamma=0.01, kernel=rbf .....................................\n",
      "[CV] ........ C=1, gamma=0.01, kernel=rbf, score=-9.634, total=   0.0s\n",
      "[CV] C=1, gamma=0.01, kernel=rbf .....................................\n",
      "[CV] ........ C=1, gamma=0.01, kernel=rbf, score=-8.689, total=   0.0s\n",
      "[CV] C=1, gamma=0.01, kernel=rbf .....................................\n",
      "[CV] ........ C=1, gamma=0.01, kernel=rbf, score=-8.953, total=   0.0s\n",
      "[CV] C=1, gamma=0.01, kernel=rbf .....................................\n",
      "[CV] ........ C=1, gamma=0.01, kernel=rbf, score=-8.109, total=   0.0s\n",
      "[CV] C=1, gamma=0.01, kernel=rbf .....................................\n",
      "[CV] ........ C=1, gamma=0.01, kernel=rbf, score=-9.941, total=   0.0s\n",
      "[CV] C=1, gamma=0.001, kernel=linear .................................\n",
      "[CV] .... C=1, gamma=0.001, kernel=linear, score=-7.225, total=   0.0s\n",
      "[CV] C=1, gamma=0.001, kernel=linear .................................\n"
     ]
    },
    {
     "name": "stdout",
     "output_type": "stream",
     "text": [
      "[CV] .... C=1, gamma=0.001, kernel=linear, score=-7.610, total=   0.0s\n",
      "[CV] C=1, gamma=0.001, kernel=linear .................................\n",
      "[CV] .... C=1, gamma=0.001, kernel=linear, score=-7.730, total=   0.0s\n",
      "[CV] C=1, gamma=0.001, kernel=linear .................................\n",
      "[CV] .... C=1, gamma=0.001, kernel=linear, score=-7.178, total=   0.0s\n",
      "[CV] C=1, gamma=0.001, kernel=linear .................................\n",
      "[CV] .... C=1, gamma=0.001, kernel=linear, score=-8.556, total=   0.0s\n",
      "[CV] C=1, gamma=0.001, kernel=rbf ....................................\n",
      "[CV] ...... C=1, gamma=0.001, kernel=rbf, score=-10.978, total=   0.0s\n",
      "[CV] C=1, gamma=0.001, kernel=rbf ....................................\n",
      "[CV] ....... C=1, gamma=0.001, kernel=rbf, score=-9.613, total=   0.0s\n",
      "[CV] C=1, gamma=0.001, kernel=rbf ....................................\n",
      "[CV] ....... C=1, gamma=0.001, kernel=rbf, score=-9.914, total=   0.0s\n",
      "[CV] C=1, gamma=0.001, kernel=rbf ....................................\n",
      "[CV] ....... C=1, gamma=0.001, kernel=rbf, score=-8.962, total=   0.0s\n",
      "[CV] C=1, gamma=0.001, kernel=rbf ....................................\n",
      "[CV] ...... C=1, gamma=0.001, kernel=rbf, score=-11.080, total=   0.0s\n",
      "[CV] C=1, gamma=0.0001, kernel=linear ................................\n",
      "[CV] ... C=1, gamma=0.0001, kernel=linear, score=-7.225, total=   0.0s\n",
      "[CV] C=1, gamma=0.0001, kernel=linear ................................\n",
      "[CV] ... C=1, gamma=0.0001, kernel=linear, score=-7.610, total=   0.0s\n",
      "[CV] C=1, gamma=0.0001, kernel=linear ................................\n",
      "[CV] ... C=1, gamma=0.0001, kernel=linear, score=-7.730, total=   0.0s\n",
      "[CV] C=1, gamma=0.0001, kernel=linear ................................\n",
      "[CV] ... C=1, gamma=0.0001, kernel=linear, score=-7.178, total=   0.0s\n",
      "[CV] C=1, gamma=0.0001, kernel=linear ................................\n",
      "[CV] ... C=1, gamma=0.0001, kernel=linear, score=-8.556, total=   0.0s\n",
      "[CV] C=1, gamma=0.0001, kernel=rbf ...................................\n",
      "[CV] ..... C=1, gamma=0.0001, kernel=rbf, score=-11.167, total=   0.0s\n",
      "[CV] C=1, gamma=0.0001, kernel=rbf ...................................\n",
      "[CV] ...... C=1, gamma=0.0001, kernel=rbf, score=-9.750, total=   0.0s\n",
      "[CV] C=1, gamma=0.0001, kernel=rbf ...................................\n",
      "[CV] ..... C=1, gamma=0.0001, kernel=rbf, score=-10.054, total=   0.0s\n",
      "[CV] C=1, gamma=0.0001, kernel=rbf ...................................\n",
      "[CV] ...... C=1, gamma=0.0001, kernel=rbf, score=-9.089, total=   0.0s\n",
      "[CV] C=1, gamma=0.0001, kernel=rbf ...................................\n",
      "[CV] ..... C=1, gamma=0.0001, kernel=rbf, score=-11.242, total=   0.0s\n",
      "[CV] C=10, gamma=1, kernel=linear ....................................\n",
      "[CV] ....... C=10, gamma=1, kernel=linear, score=-7.238, total=   0.0s\n",
      "[CV] C=10, gamma=1, kernel=linear ....................................\n",
      "[CV] ....... C=10, gamma=1, kernel=linear, score=-7.640, total=   0.0s\n",
      "[CV] C=10, gamma=1, kernel=linear ....................................\n",
      "[CV] ....... C=10, gamma=1, kernel=linear, score=-7.748, total=   0.0s\n",
      "[CV] C=10, gamma=1, kernel=linear ....................................\n",
      "[CV] ....... C=10, gamma=1, kernel=linear, score=-7.356, total=   0.0s\n",
      "[CV] C=10, gamma=1, kernel=linear ....................................\n",
      "[CV] ....... C=10, gamma=1, kernel=linear, score=-8.637, total=   0.0s\n",
      "[CV] C=10, gamma=1, kernel=rbf .......................................\n",
      "[CV] .......... C=10, gamma=1, kernel=rbf, score=-7.495, total=   0.0s\n",
      "[CV] C=10, gamma=1, kernel=rbf .......................................\n",
      "[CV] .......... C=10, gamma=1, kernel=rbf, score=-7.362, total=   0.0s\n",
      "[CV] C=10, gamma=1, kernel=rbf .......................................\n",
      "[CV] .......... C=10, gamma=1, kernel=rbf, score=-7.610, total=   0.0s\n",
      "[CV] C=10, gamma=1, kernel=rbf .......................................\n",
      "[CV] .......... C=10, gamma=1, kernel=rbf, score=-7.124, total=   0.0s\n",
      "[CV] C=10, gamma=1, kernel=rbf .......................................\n",
      "[CV] .......... C=10, gamma=1, kernel=rbf, score=-8.683, total=   0.0s\n",
      "[CV] C=10, gamma=0.1, kernel=linear ..................................\n",
      "[CV] ..... C=10, gamma=0.1, kernel=linear, score=-7.238, total=   0.0s\n",
      "[CV] C=10, gamma=0.1, kernel=linear ..................................\n",
      "[CV] ..... C=10, gamma=0.1, kernel=linear, score=-7.640, total=   0.0s\n",
      "[CV] C=10, gamma=0.1, kernel=linear ..................................\n",
      "[CV] ..... C=10, gamma=0.1, kernel=linear, score=-7.748, total=   0.0s\n",
      "[CV] C=10, gamma=0.1, kernel=linear ..................................\n",
      "[CV] ..... C=10, gamma=0.1, kernel=linear, score=-7.356, total=   0.0s\n",
      "[CV] C=10, gamma=0.1, kernel=linear ..................................\n",
      "[CV] ..... C=10, gamma=0.1, kernel=linear, score=-8.637, total=   0.0s\n",
      "[CV] C=10, gamma=0.1, kernel=rbf .....................................\n",
      "[CV] ........ C=10, gamma=0.1, kernel=rbf, score=-7.206, total=   0.0s\n",
      "[CV] C=10, gamma=0.1, kernel=rbf .....................................\n",
      "[CV] ........ C=10, gamma=0.1, kernel=rbf, score=-7.528, total=   0.0s\n",
      "[CV] C=10, gamma=0.1, kernel=rbf .....................................\n",
      "[CV] ........ C=10, gamma=0.1, kernel=rbf, score=-7.634, total=   0.0s\n",
      "[CV] C=10, gamma=0.1, kernel=rbf .....................................\n",
      "[CV] ........ C=10, gamma=0.1, kernel=rbf, score=-7.100, total=   0.0s\n",
      "[CV] C=10, gamma=0.1, kernel=rbf .....................................\n",
      "[CV] ........ C=10, gamma=0.1, kernel=rbf, score=-8.509, total=   0.0s\n",
      "[CV] C=10, gamma=0.01, kernel=linear .................................\n",
      "[CV] .... C=10, gamma=0.01, kernel=linear, score=-7.238, total=   0.0s\n",
      "[CV] C=10, gamma=0.01, kernel=linear .................................\n",
      "[CV] .... C=10, gamma=0.01, kernel=linear, score=-7.640, total=   0.0s\n",
      "[CV] C=10, gamma=0.01, kernel=linear .................................\n",
      "[CV] .... C=10, gamma=0.01, kernel=linear, score=-7.748, total=   0.0s\n",
      "[CV] C=10, gamma=0.01, kernel=linear .................................\n",
      "[CV] .... C=10, gamma=0.01, kernel=linear, score=-7.356, total=   0.0s\n",
      "[CV] C=10, gamma=0.01, kernel=linear .................................\n",
      "[CV] .... C=10, gamma=0.01, kernel=linear, score=-8.637, total=   0.0s\n",
      "[CV] C=10, gamma=0.01, kernel=rbf ....................................\n",
      "[CV] ....... C=10, gamma=0.01, kernel=rbf, score=-7.415, total=   0.0s\n",
      "[CV] C=10, gamma=0.01, kernel=rbf ....................................\n",
      "[CV] ....... C=10, gamma=0.01, kernel=rbf, score=-7.528, total=   0.0s\n",
      "[CV] C=10, gamma=0.01, kernel=rbf ....................................\n",
      "[CV] ....... C=10, gamma=0.01, kernel=rbf, score=-7.732, total=   0.0s\n",
      "[CV] C=10, gamma=0.01, kernel=rbf ....................................\n",
      "[CV] ....... C=10, gamma=0.01, kernel=rbf, score=-7.060, total=   0.0s\n",
      "[CV] C=10, gamma=0.01, kernel=rbf ....................................\n",
      "[CV] ....... C=10, gamma=0.01, kernel=rbf, score=-8.495, total=   0.0s\n",
      "[CV] C=10, gamma=0.001, kernel=linear ................................\n",
      "[CV] ... C=10, gamma=0.001, kernel=linear, score=-7.238, total=   0.0s\n",
      "[CV] C=10, gamma=0.001, kernel=linear ................................\n",
      "[CV] ... C=10, gamma=0.001, kernel=linear, score=-7.640, total=   0.0s\n",
      "[CV] C=10, gamma=0.001, kernel=linear ................................\n",
      "[CV] ... C=10, gamma=0.001, kernel=linear, score=-7.748, total=   0.0s\n",
      "[CV] C=10, gamma=0.001, kernel=linear ................................\n",
      "[CV] ... C=10, gamma=0.001, kernel=linear, score=-7.356, total=   0.0s\n",
      "[CV] C=10, gamma=0.001, kernel=linear ................................\n",
      "[CV] ... C=10, gamma=0.001, kernel=linear, score=-8.637, total=   0.0s\n",
      "[CV] C=10, gamma=0.001, kernel=rbf ...................................\n",
      "[CV] ...... C=10, gamma=0.001, kernel=rbf, score=-9.625, total=   0.0s\n",
      "[CV] C=10, gamma=0.001, kernel=rbf ...................................\n",
      "[CV] ...... C=10, gamma=0.001, kernel=rbf, score=-8.683, total=   0.0s\n",
      "[CV] C=10, gamma=0.001, kernel=rbf ...................................\n",
      "[CV] ...... C=10, gamma=0.001, kernel=rbf, score=-8.947, total=   0.0s\n",
      "[CV] C=10, gamma=0.001, kernel=rbf ...................................\n",
      "[CV] ...... C=10, gamma=0.001, kernel=rbf, score=-8.104, total=   0.0s\n",
      "[CV] C=10, gamma=0.001, kernel=rbf ...................................\n",
      "[CV] ...... C=10, gamma=0.001, kernel=rbf, score=-9.934, total=   0.0s\n",
      "[CV] C=10, gamma=0.0001, kernel=linear ...............................\n",
      "[CV] .. C=10, gamma=0.0001, kernel=linear, score=-7.238, total=   0.0s\n",
      "[CV] C=10, gamma=0.0001, kernel=linear ...............................\n",
      "[CV] .. C=10, gamma=0.0001, kernel=linear, score=-7.640, total=   0.0s\n",
      "[CV] C=10, gamma=0.0001, kernel=linear ...............................\n",
      "[CV] .. C=10, gamma=0.0001, kernel=linear, score=-7.748, total=   0.0s\n",
      "[CV] C=10, gamma=0.0001, kernel=linear ...............................\n",
      "[CV] .. C=10, gamma=0.0001, kernel=linear, score=-7.356, total=   0.0s\n",
      "[CV] C=10, gamma=0.0001, kernel=linear ...............................\n",
      "[CV] .. C=10, gamma=0.0001, kernel=linear, score=-8.637, total=   0.0s\n",
      "[CV] C=10, gamma=0.0001, kernel=rbf ..................................\n",
      "[CV] .... C=10, gamma=0.0001, kernel=rbf, score=-10.977, total=   0.0s\n",
      "[CV] C=10, gamma=0.0001, kernel=rbf ..................................\n",
      "[CV] ..... C=10, gamma=0.0001, kernel=rbf, score=-9.613, total=   0.0s\n",
      "[CV] C=10, gamma=0.0001, kernel=rbf ..................................\n",
      "[CV] ..... C=10, gamma=0.0001, kernel=rbf, score=-9.914, total=   0.0s\n",
      "[CV] C=10, gamma=0.0001, kernel=rbf ..................................\n"
     ]
    },
    {
     "name": "stdout",
     "output_type": "stream",
     "text": [
      "[CV] ..... C=10, gamma=0.0001, kernel=rbf, score=-8.962, total=   0.0s\n",
      "[CV] C=10, gamma=0.0001, kernel=rbf ..................................\n",
      "[CV] .... C=10, gamma=0.0001, kernel=rbf, score=-11.080, total=   0.0s\n",
      "[CV] C=100, gamma=1, kernel=linear ...................................\n",
      "[CV] ...... C=100, gamma=1, kernel=linear, score=-7.232, total=   0.0s\n",
      "[CV] C=100, gamma=1, kernel=linear ...................................\n",
      "[CV] ...... C=100, gamma=1, kernel=linear, score=-7.667, total=   0.0s\n",
      "[CV] C=100, gamma=1, kernel=linear ...................................\n",
      "[CV] ...... C=100, gamma=1, kernel=linear, score=-7.751, total=   0.0s\n",
      "[CV] C=100, gamma=1, kernel=linear ...................................\n",
      "[CV] ...... C=100, gamma=1, kernel=linear, score=-7.360, total=   0.0s\n",
      "[CV] C=100, gamma=1, kernel=linear ...................................\n",
      "[CV] ...... C=100, gamma=1, kernel=linear, score=-8.664, total=   0.0s\n",
      "[CV] C=100, gamma=1, kernel=rbf ......................................\n",
      "[CV] ......... C=100, gamma=1, kernel=rbf, score=-8.167, total=   0.0s\n",
      "[CV] C=100, gamma=1, kernel=rbf ......................................\n",
      "[CV] ......... C=100, gamma=1, kernel=rbf, score=-7.753, total=   0.0s\n",
      "[CV] C=100, gamma=1, kernel=rbf ......................................\n",
      "[CV] ......... C=100, gamma=1, kernel=rbf, score=-8.061, total=   0.0s\n",
      "[CV] C=100, gamma=1, kernel=rbf ......................................\n",
      "[CV] ......... C=100, gamma=1, kernel=rbf, score=-7.657, total=   0.0s\n",
      "[CV] C=100, gamma=1, kernel=rbf ......................................\n",
      "[CV] ......... C=100, gamma=1, kernel=rbf, score=-9.284, total=   0.0s\n",
      "[CV] C=100, gamma=0.1, kernel=linear .................................\n",
      "[CV] .... C=100, gamma=0.1, kernel=linear, score=-7.232, total=   0.0s\n",
      "[CV] C=100, gamma=0.1, kernel=linear .................................\n",
      "[CV] .... C=100, gamma=0.1, kernel=linear, score=-7.667, total=   0.0s\n",
      "[CV] C=100, gamma=0.1, kernel=linear .................................\n",
      "[CV] .... C=100, gamma=0.1, kernel=linear, score=-7.751, total=   0.0s\n",
      "[CV] C=100, gamma=0.1, kernel=linear .................................\n",
      "[CV] .... C=100, gamma=0.1, kernel=linear, score=-7.360, total=   0.0s\n",
      "[CV] C=100, gamma=0.1, kernel=linear .................................\n",
      "[CV] .... C=100, gamma=0.1, kernel=linear, score=-8.664, total=   0.0s\n",
      "[CV] C=100, gamma=0.1, kernel=rbf ....................................\n",
      "[CV] ....... C=100, gamma=0.1, kernel=rbf, score=-7.295, total=   0.0s\n",
      "[CV] C=100, gamma=0.1, kernel=rbf ....................................\n",
      "[CV] ....... C=100, gamma=0.1, kernel=rbf, score=-7.558, total=   0.0s\n",
      "[CV] C=100, gamma=0.1, kernel=rbf ....................................\n",
      "[CV] ....... C=100, gamma=0.1, kernel=rbf, score=-7.568, total=   0.0s\n",
      "[CV] C=100, gamma=0.1, kernel=rbf ....................................\n",
      "[CV] ....... C=100, gamma=0.1, kernel=rbf, score=-7.065, total=   0.0s\n",
      "[CV] C=100, gamma=0.1, kernel=rbf ....................................\n",
      "[CV] ....... C=100, gamma=0.1, kernel=rbf, score=-8.447, total=   0.0s\n",
      "[CV] C=100, gamma=0.01, kernel=linear ................................\n",
      "[CV] ... C=100, gamma=0.01, kernel=linear, score=-7.232, total=   0.0s\n",
      "[CV] C=100, gamma=0.01, kernel=linear ................................\n",
      "[CV] ... C=100, gamma=0.01, kernel=linear, score=-7.667, total=   0.0s\n",
      "[CV] C=100, gamma=0.01, kernel=linear ................................\n",
      "[CV] ... C=100, gamma=0.01, kernel=linear, score=-7.751, total=   0.0s\n",
      "[CV] C=100, gamma=0.01, kernel=linear ................................\n",
      "[CV] ... C=100, gamma=0.01, kernel=linear, score=-7.360, total=   0.0s\n",
      "[CV] C=100, gamma=0.01, kernel=linear ................................\n",
      "[CV] ... C=100, gamma=0.01, kernel=linear, score=-8.664, total=   0.0s\n",
      "[CV] C=100, gamma=0.01, kernel=rbf ...................................\n",
      "[CV] ...... C=100, gamma=0.01, kernel=rbf, score=-7.260, total=   0.0s\n",
      "[CV] C=100, gamma=0.01, kernel=rbf ...................................\n",
      "[CV] ...... C=100, gamma=0.01, kernel=rbf, score=-7.613, total=   0.0s\n",
      "[CV] C=100, gamma=0.01, kernel=rbf ...................................\n",
      "[CV] ...... C=100, gamma=0.01, kernel=rbf, score=-7.723, total=   0.0s\n",
      "[CV] C=100, gamma=0.01, kernel=rbf ...................................\n",
      "[CV] ...... C=100, gamma=0.01, kernel=rbf, score=-7.226, total=   0.0s\n",
      "[CV] C=100, gamma=0.01, kernel=rbf ...................................\n",
      "[CV] ...... C=100, gamma=0.01, kernel=rbf, score=-8.600, total=   0.0s\n",
      "[CV] C=100, gamma=0.001, kernel=linear ...............................\n",
      "[CV] .. C=100, gamma=0.001, kernel=linear, score=-7.232, total=   0.0s\n",
      "[CV] C=100, gamma=0.001, kernel=linear ...............................\n",
      "[CV] .. C=100, gamma=0.001, kernel=linear, score=-7.667, total=   0.0s\n",
      "[CV] C=100, gamma=0.001, kernel=linear ...............................\n",
      "[CV] .. C=100, gamma=0.001, kernel=linear, score=-7.751, total=   0.0s\n",
      "[CV] C=100, gamma=0.001, kernel=linear ...............................\n",
      "[CV] .. C=100, gamma=0.001, kernel=linear, score=-7.360, total=   0.0s\n",
      "[CV] C=100, gamma=0.001, kernel=linear ...............................\n",
      "[CV] .. C=100, gamma=0.001, kernel=linear, score=-8.664, total=   0.0s\n",
      "[CV] C=100, gamma=0.001, kernel=rbf ..................................\n",
      "[CV] ..... C=100, gamma=0.001, kernel=rbf, score=-7.409, total=   0.0s\n",
      "[CV] C=100, gamma=0.001, kernel=rbf ..................................\n",
      "[CV] ..... C=100, gamma=0.001, kernel=rbf, score=-7.530, total=   0.0s\n",
      "[CV] C=100, gamma=0.001, kernel=rbf ..................................\n",
      "[CV] ..... C=100, gamma=0.001, kernel=rbf, score=-7.734, total=   0.0s\n",
      "[CV] C=100, gamma=0.001, kernel=rbf ..................................\n",
      "[CV] ..... C=100, gamma=0.001, kernel=rbf, score=-7.064, total=   0.0s\n",
      "[CV] C=100, gamma=0.001, kernel=rbf ..................................\n",
      "[CV] ..... C=100, gamma=0.001, kernel=rbf, score=-8.497, total=   0.0s\n",
      "[CV] C=100, gamma=0.0001, kernel=linear ..............................\n",
      "[CV] . C=100, gamma=0.0001, kernel=linear, score=-7.232, total=   0.0s\n",
      "[CV] C=100, gamma=0.0001, kernel=linear ..............................\n",
      "[CV] . C=100, gamma=0.0001, kernel=linear, score=-7.667, total=   0.0s\n",
      "[CV] C=100, gamma=0.0001, kernel=linear ..............................\n",
      "[CV] . C=100, gamma=0.0001, kernel=linear, score=-7.751, total=   0.0s\n",
      "[CV] C=100, gamma=0.0001, kernel=linear ..............................\n",
      "[CV] . C=100, gamma=0.0001, kernel=linear, score=-7.360, total=   0.0s\n",
      "[CV] C=100, gamma=0.0001, kernel=linear ..............................\n",
      "[CV] . C=100, gamma=0.0001, kernel=linear, score=-8.664, total=   0.0s\n",
      "[CV] C=100, gamma=0.0001, kernel=rbf .................................\n",
      "[CV] .... C=100, gamma=0.0001, kernel=rbf, score=-9.624, total=   0.0s\n",
      "[CV] C=100, gamma=0.0001, kernel=rbf .................................\n",
      "[CV] .... C=100, gamma=0.0001, kernel=rbf, score=-8.683, total=   0.0s\n",
      "[CV] C=100, gamma=0.0001, kernel=rbf .................................\n",
      "[CV] .... C=100, gamma=0.0001, kernel=rbf, score=-8.947, total=   0.0s\n",
      "[CV] C=100, gamma=0.0001, kernel=rbf .................................\n",
      "[CV] .... C=100, gamma=0.0001, kernel=rbf, score=-8.103, total=   0.0s\n",
      "[CV] C=100, gamma=0.0001, kernel=rbf .................................\n",
      "[CV] .... C=100, gamma=0.0001, kernel=rbf, score=-9.934, total=   0.0s\n"
     ]
    },
    {
     "name": "stderr",
     "output_type": "stream",
     "text": [
      "[Parallel(n_jobs=1)]: Done 200 out of 200 | elapsed:    3.0s finished\n"
     ]
    },
    {
     "data": {
      "text/plain": [
       "GridSearchCV(cv=5, estimator=SVR(), n_jobs=1,\n",
       "             param_grid={'C': [0.1, 1, 10, 100],\n",
       "                         'gamma': [1, 0.1, 0.01, 0.001, 0.0001],\n",
       "                         'kernel': ['linear', 'rbf']},\n",
       "             scoring='neg_mean_squared_error', verbose=3)"
      ]
     },
     "execution_count": 36,
     "metadata": {},
     "output_type": "execute_result"
    }
   ],
   "source": [
    "# use GridSearchCV for finding optimal hyperparams\n",
    "svm_params = {\n",
    "    'C': [0.1, 1, 10, 100],\n",
    "    'gamma': [1, 0.1, 0.01, 0.001, 0.0001],\n",
    "    'kernel': ['linear', 'rbf']\n",
    "}\n",
    "\n",
    "svm_search = GridSearchCV(SVR(), param_grid=svm_params,verbose=3,\n",
    "                      scoring='neg_mean_squared_error',n_jobs=1,cv=5)\n",
    "\n",
    "svm_search.fit(X_train_normal, y_train)"
   ]
  },
  {
   "cell_type": "code",
   "execution_count": 37,
   "metadata": {},
   "outputs": [
    {
     "name": "stdout",
     "output_type": "stream",
     "text": [
      "SVM MSE: 8.712807259326537\n",
      "SVM R2: 0.23091286352636475\n"
     ]
    }
   ],
   "source": [
    "svm_model = svm_search.best_estimator_\n",
    "\n",
    "svm_preds = svm_model.predict(X_test_normal)\n",
    "\n",
    "svm_resids = (y_test - svm_preds)\n",
    "\n",
    "svm_MSE = mean_squared_error(y_test, svm_preds)\n",
    "svm_r2 = r2_score(y_test, svm_preds)\n",
    "print('SVM MSE:', svm_MSE)\n",
    "print('SVM R2:', svm_r2)"
   ]
  },
  {
   "cell_type": "code",
   "execution_count": 38,
   "metadata": {},
   "outputs": [
    {
     "data": {
      "image/png": "[encoded data removed]",
      "text/plain": [
       "<Figure size 1008x360 with 2 Axes>"
      ]
     },
     "metadata": {
      "needs_background": "light"
     },
     "output_type": "display_data"
    }
   ],
   "source": [
    "figure, axes = plt.subplots(ncols=2, figsize=(14,5))\n",
    "\n",
    "sns.scatterplot(x=svm_preds, y=svm_resids, ax=axes[0])\n",
    "axes[0].set_title('SVM Residual Plot')\n",
    "axes[0].set(xlabel='Predictions', ylabel='Residuals')\n",
    "sns.scatterplot(x=svm_preds, y=y_test, ax=axes[1])\n",
    "axes[1].set_title('SVM Predications v. Actuals')\n",
    "axes[1].set(xlabel='Predictions', ylabel='Actuals')\n",
    "\n",
    "plt.setp(axes, yticks=[])\n",
    "plt.tight_layout()"
   ]
  },
  {
   "cell_type": "markdown",
   "metadata": {},
   "source": [
    "## Model Performance Comparison"
   ]
  },
  {
   "cell_type": "code",
   "execution_count": 39,
   "metadata": {},
   "outputs": [
    {
     "name": "stdout",
     "output_type": "stream",
     "text": [
      "Lin MSE: 8.636\n",
      "RF MSE: 8.646\n",
      "XGB MSE: 8.738\n",
      "ENet MSE: 8.059\n",
      "LGB MSE: 9.951\n",
      "SVM MSE: 8.713\n"
     ]
    }
   ],
   "source": [
    "print('Lin MSE:', round(lin_MSE,3))\n",
    "print('RF MSE:', round(rf_MSE,3))\n",
    "print('XGB MSE:', round(xgb_MSE, 3))\n",
    "print('ENet MSE:', round(enet_MSE, 3))\n",
    "print('LGB MSE:', round(lgb_MSE,3))\n",
    "print('SVM MSE:', round(svm_MSE,3))"
   ]
  },
  {
   "cell_type": "markdown",
   "metadata": {},
   "source": [
    "Best model is Elastic Net. Use this model and its predictions for further analysis."
   ]
  },
  {
   "cell_type": "markdown",
   "metadata": {},
   "source": [
    "## Compare Versus ADP"
   ]
  },
  {
   "cell_type": "markdown",
   "metadata": {},
   "source": [
    "In this section, I will be comparing the results of the Elastic Net model against the pre-season rankings as determined by ADP. The two ranking systems will be compared by placing each player into a group _x_ out of *n* groups based on their Predicted FV or ADP, whichever is applicable. The same will be done for Target FV. The groups will then be compared and scored accordingly:"
   ]
  },
  {
   "cell_type": "markdown",
   "metadata": {},
   "source": [
    "First, the number of correct predictions of players in the top 50% will be calculated:"
   ]
  },
  {
   "cell_type": "code",
   "execution_count": 40,
   "metadata": {},
   "outputs": [
    {
     "data": {
      "text/html": [
       "<style  type=\"text/css\" >\n",
       "</style><table id=\"T_79f13166_eee1_11ea_ae68_645d864cfe59\" ><thead>    <tr>        <th class=\"col_heading level0 col0\" >Result</th>        <th class=\"col_heading level0 col1\" >Score</th>    </tr></thead><tbody>\n",
       "                <tr>\n",
       "                                <td id=\"T_79f13166_eee1_11ea_ae68_645d864cfe59row0_col0\" class=\"data row0 col0\" >Matches Placement</td>\n",
       "                        <td id=\"T_79f13166_eee1_11ea_ae68_645d864cfe59row0_col1\" class=\"data row0 col1\" >+1</td>\n",
       "            </tr>\n",
       "            <tr>\n",
       "                                <td id=\"T_79f13166_eee1_11ea_ae68_645d864cfe59row1_col0\" class=\"data row1 col0\" >Does Not Match</td>\n",
       "                        <td id=\"T_79f13166_eee1_11ea_ae68_645d864cfe59row1_col1\" class=\"data row1 col1\" >0</td>\n",
       "            </tr>\n",
       "    </tbody></table>"
      ],
      "text/plain": [
       "<pandas.io.formats.style.Styler at 0x25500b0a080>"
      ]
     },
     "execution_count": 40,
     "metadata": {},
     "output_type": "execute_result"
    }
   ],
   "source": [
    "scoring = pd.DataFrame(data=[['Matches Placement','+1'], ['Does Not Match', '0']], columns=['Result', 'Score'], index=None)\n",
    "scoring.style.hide_index()"
   ]
  },
  {
   "cell_type": "markdown",
   "metadata": {},
   "source": [
    "Then the ratio of correct predictions versus the total number of the top 50% of players will be calculated:"
   ]
  },
  {
   "cell_type": "markdown",
   "metadata": {},
   "source": [
    "$$\\text{Top Performer Ratio (TPR) = $\\frac{\\text{Correct Predictions}}{\\text{Top Half of Players}}$}$$"
   ]
  },
  {
   "cell_type": "markdown",
   "metadata": {},
   "source": [
    "#### Other Evaluation Metrics"
   ]
  },
  {
   "cell_type": "markdown",
   "metadata": {},
   "source": [
    "- <b>Missed Predictions</b>: The number of predictions that were incorrectly placed inside/outside of the top 50%\n",
    "- <b>Missed Target Value</b>: The total Target Value of the players that were incorrectly predicted outside of the top 50% \n",
    "- <b>Value Found</b>: The total Target Value of players that were correctly predicted inside the top 50%\n",
    "- <b>Total Value</b>: Value Found - Missed Target Value"
   ]
  },
  {
   "cell_type": "markdown",
   "metadata": {},
   "source": [
    "#### Read in ADP Data"
   ]
  },
  {
   "cell_type": "code",
   "execution_count": 74,
   "metadata": {},
   "outputs": [],
   "source": [
    "ADP_data = pd.read_csv('../datasets/baseball/ADP_2018.csv')"
   ]
  },
  {
   "cell_type": "code",
   "execution_count": 75,
   "metadata": {},
   "outputs": [
    {
     "data": {
      "text/html": [
       "<div>\n",
       "<style scoped>\n",
       "    .dataframe tbody tr th:only-of-type {\n",
       "        vertical-align: middle;\n",
       "    }\n",
       "\n",
       "    .dataframe tbody tr th {\n",
       "        vertical-align: top;\n",
       "    }\n",
       "\n",
       "    .dataframe thead th {\n",
       "        text-align: right;\n",
       "    }\n",
       "</style>\n",
       "<table border=\"1\" class=\"dataframe\">\n",
       "  <thead>\n",
       "    <tr style=\"text-align: right;\">\n",
       "      <th></th>\n",
       "      <th>RK</th>\n",
       "      <th>ID</th>\n",
       "      <th>NAME</th>\n",
       "      <th>ADP</th>\n",
       "      <th>New Rank</th>\n",
       "    </tr>\n",
       "  </thead>\n",
       "  <tbody>\n",
       "    <tr>\n",
       "      <th>0</th>\n",
       "      <td>1</td>\n",
       "      <td>10000600</td>\n",
       "      <td>Mike Trout</td>\n",
       "      <td>1</td>\n",
       "      <td>1</td>\n",
       "    </tr>\n",
       "    <tr>\n",
       "      <th>1</th>\n",
       "      <td>2</td>\n",
       "      <td>10000485</td>\n",
       "      <td>Jose Altuve</td>\n",
       "      <td>2</td>\n",
       "      <td>2</td>\n",
       "    </tr>\n",
       "    <tr>\n",
       "      <th>2</th>\n",
       "      <td>3</td>\n",
       "      <td>10000393</td>\n",
       "      <td>Nolan Arenado</td>\n",
       "      <td>3</td>\n",
       "      <td>3</td>\n",
       "    </tr>\n",
       "    <tr>\n",
       "      <th>3</th>\n",
       "      <td>4</td>\n",
       "      <td>10002094</td>\n",
       "      <td>Trea Turner</td>\n",
       "      <td>4</td>\n",
       "      <td>4</td>\n",
       "    </tr>\n",
       "    <tr>\n",
       "      <th>4</th>\n",
       "      <td>5</td>\n",
       "      <td>10000031</td>\n",
       "      <td>Paul Goldschmidt</td>\n",
       "      <td>5</td>\n",
       "      <td>5</td>\n",
       "    </tr>\n",
       "  </tbody>\n",
       "</table>\n",
       "</div>"
      ],
      "text/plain": [
       "   RK        ID              NAME  ADP  New Rank\n",
       "0   1  10000600        Mike Trout    1         1\n",
       "1   2  10000485       Jose Altuve    2         2\n",
       "2   3  10000393     Nolan Arenado    3         3\n",
       "3   4  10002094       Trea Turner    4         4\n",
       "4   5  10000031  Paul Goldschmidt    5         5"
      ]
     },
     "execution_count": 75,
     "metadata": {},
     "output_type": "execute_result"
    }
   ],
   "source": [
    "ADP_data.head()"
   ]
  },
  {
   "cell_type": "code",
   "execution_count": 76,
   "metadata": {},
   "outputs": [],
   "source": [
    "ADP_data.drop(['RK', 'ID'], inplace=True, axis=1)\n",
    "ADP_data.rename(columns={\"NAME\": \"Name\"}, inplace=True)"
   ]
  },
  {
   "cell_type": "markdown",
   "metadata": {},
   "source": [
    "#### Create useful functions"
   ]
  },
  {
   "cell_type": "markdown",
   "metadata": {},
   "source": [
    "Below I will define 2 functions for separating the model predictions and ADP predictions into subgroups. I will also create a function to identify \"missed\" predictions along with some alternative scoring metrics (explained later). "
   ]
  },
  {
   "cell_type": "code",
   "execution_count": 77,
   "metadata": {},
   "outputs": [],
   "source": [
    "def add_sections(df, sections=4):\n",
    "    num_players = len(df)\n",
    "\n",
    "    counter = 0\n",
    "    df.sort_values('Target FV', ascending=False, inplace=True, ignore_index=True)\n",
    "    for n in range(sections):\n",
    "        for i in range(counter, num_players):\n",
    "            if i < math.floor(num_players*((n+1)/sections)):\n",
    "                df.at[i, 'Target Section'] = int(n+1)\n",
    "                last_i = i\n",
    "        counter = last_i+1\n",
    "\n",
    "    counter = 0\n",
    "    df.sort_values('Predicted FV', ascending=False, inplace=True, ignore_index=True)\n",
    "    for n in range(sections):\n",
    "        for i in range(counter, num_players):\n",
    "            if i < math.floor(num_players*((n+1)/sections)):\n",
    "                df.at[i, 'Predicted Section'] = int(n+1)\n",
    "                last_i = i\n",
    "        counter = last_i+1\n",
    "\n",
    "    return df"
   ]
  },
  {
   "cell_type": "code",
   "execution_count": 78,
   "metadata": {},
   "outputs": [],
   "source": [
    "def ADP_add_sections(df, sections=4):\n",
    "    num_players = len(df)\n",
    "    counter = 0\n",
    "    df.sort_values('New Rank', ascending=True, inplace=True, ignore_index=True)\n",
    "    for n in range(sections):\n",
    "        for i in range(counter, num_players):\n",
    "            if i < math.floor(num_players*((n+1)/sections)):\n",
    "                df.at[i, 'ADP Section'] = (n+1)\n",
    "                last_i = i\n",
    "        counter = last_i+1\n",
    "    return df"
   ]
  },
  {
   "cell_type": "code",
   "execution_count": 79,
   "metadata": {},
   "outputs": [],
   "source": [
    "def prediction_results(df, sections=4):\n",
    "    split = sections//2\n",
    "    temp1 = df[(df['Target Section'] <=split) & (df['Predicted Section'] >split)] #predicted bad, does good\n",
    "    temp2 = df[(df['Target Section'] >split) & (df['Predicted Section'] <=split)] #predicted good, does bad\n",
    "    temp3 = df[(df['Target Section'] <=split) & (df['Predicted Section'] <=split)] #predicted good, does good\n",
    "    temp4 = df[(df['Target Section'] <=split)] # did good\n",
    "    global model_missed_predictions, model_missed_tv, model_top_ratio, model_value_found, model_total_value  \n",
    "    model_missed_predictions = pd.concat([temp1, temp2])\n",
    "    model_missed_tv = abs(model_missed_predictions['Target FV']).sum()\n",
    "    model_top_ratio = len(temp3)/len(temp4)\n",
    "    model_value_found =  abs(temp3['Target FV']).sum()\n",
    "    model_total_value = model_value_found-model_missed_tv\n",
    "    model_correct_predictions = len(df)-len(model_missed_predictions)\n",
    "    print(\"Top Performer Ratio Predicted:\", model_top_ratio)\n",
    "    print(\"Number of missed predictions:\", len(model_missed_predictions))\n",
    "    print(\"Target Value Missed:\", model_missed_tv)\n",
    "    print(\"Value found:\", model_value_found)\n",
    "    print(\"Total value:\", model_total_value)"
   ]
  },
  {
   "cell_type": "markdown",
   "metadata": {},
   "source": [
    "#### Configure Elastic Net results"
   ]
  },
  {
   "cell_type": "code",
   "execution_count": 80,
   "metadata": {},
   "outputs": [],
   "source": [
    "names = data[['playerid', 'Name']].drop_duplicates(subset=['playerid'])"
   ]
  },
  {
   "cell_type": "code",
   "execution_count": 81,
   "metadata": {},
   "outputs": [
    {
     "data": {
      "text/html": [
       "<div>\n",
       "<style scoped>\n",
       "    .dataframe tbody tr th:only-of-type {\n",
       "        vertical-align: middle;\n",
       "    }\n",
       "\n",
       "    .dataframe tbody tr th {\n",
       "        vertical-align: top;\n",
       "    }\n",
       "\n",
       "    .dataframe thead th {\n",
       "        text-align: right;\n",
       "    }\n",
       "</style>\n",
       "<table border=\"1\" class=\"dataframe\">\n",
       "  <thead>\n",
       "    <tr style=\"text-align: right;\">\n",
       "      <th></th>\n",
       "      <th>playerid</th>\n",
       "      <th>Name</th>\n",
       "      <th>Target Season</th>\n",
       "      <th>Target FV</th>\n",
       "      <th>Predicted FV</th>\n",
       "      <th>Difference</th>\n",
       "    </tr>\n",
       "  </thead>\n",
       "  <tbody>\n",
       "    <tr>\n",
       "      <th>0</th>\n",
       "      <td>10155</td>\n",
       "      <td>Mike Trout</td>\n",
       "      <td>2018</td>\n",
       "      <td>8.953784</td>\n",
       "      <td>6.811213</td>\n",
       "      <td>2.142572</td>\n",
       "    </tr>\n",
       "    <tr>\n",
       "      <th>1</th>\n",
       "      <td>10155</td>\n",
       "      <td>Mike Trout</td>\n",
       "      <td>2017</td>\n",
       "      <td>8.746785</td>\n",
       "      <td>4.898371</td>\n",
       "      <td>3.848414</td>\n",
       "    </tr>\n",
       "    <tr>\n",
       "      <th>2</th>\n",
       "      <td>6184</td>\n",
       "      <td>J.D. Martinez</td>\n",
       "      <td>2018</td>\n",
       "      <td>10.084667</td>\n",
       "      <td>6.140453</td>\n",
       "      <td>3.944214</td>\n",
       "    </tr>\n",
       "    <tr>\n",
       "      <th>3</th>\n",
       "      <td>6184</td>\n",
       "      <td>J.D. Martinez</td>\n",
       "      <td>2017</td>\n",
       "      <td>8.776860</td>\n",
       "      <td>1.878603</td>\n",
       "      <td>6.898257</td>\n",
       "    </tr>\n",
       "    <tr>\n",
       "      <th>4</th>\n",
       "      <td>15640</td>\n",
       "      <td>Aaron Judge</td>\n",
       "      <td>2018</td>\n",
       "      <td>5.069503</td>\n",
       "      <td>6.034426</td>\n",
       "      <td>-0.964923</td>\n",
       "    </tr>\n",
       "  </tbody>\n",
       "</table>\n",
       "</div>"
      ],
      "text/plain": [
       "   playerid           Name  Target Season  Target FV  Predicted FV  Difference\n",
       "0     10155     Mike Trout           2018   8.953784      6.811213    2.142572\n",
       "1     10155     Mike Trout           2017   8.746785      4.898371    3.848414\n",
       "2      6184  J.D. Martinez           2018  10.084667      6.140453    3.944214\n",
       "3      6184  J.D. Martinez           2017   8.776860      1.878603    6.898257\n",
       "4     15640    Aaron Judge           2018   5.069503      6.034426   -0.964923"
      ]
     },
     "execution_count": 81,
     "metadata": {},
     "output_type": "execute_result"
    }
   ],
   "source": [
    "col_names = ['playerid', 'Target Season', 'Target FV', \n",
    "             'Predicted FV', 'Difference']\n",
    "             \n",
    "enet_output = pd.DataFrame({'playerid': test_ID,\n",
    "                            'Target Season': test_season+1,\n",
    "                            'Target FV': y_test, \n",
    "                            'Predicted FV': enet_preds, \n",
    "                            'Difference': (y_test - enet_preds)}, \n",
    "                           columns=col_names)\n",
    "\n",
    "enet_output = pd.merge(names,enet_output,on='playerid',how='inner')\n",
    "enet_output.head()"
   ]
  },
  {
   "cell_type": "code",
   "execution_count": 82,
   "metadata": {},
   "outputs": [],
   "source": [
    "results_2018 = enet_output[enet_output['Target Season'] == 2018].sort_values('Predicted FV', ascending=False).reset_index()\n",
    "results_2017 = enet_output[enet_output['Target Season'] == 2017].sort_values('Predicted FV', ascending=False).reset_index()"
   ]
  },
  {
   "cell_type": "markdown",
   "metadata": {},
   "source": [
    "#### Merge ADP and Model Results data"
   ]
  },
  {
   "cell_type": "code",
   "execution_count": 83,
   "metadata": {},
   "outputs": [],
   "source": [
    "ADP_data_merged = pd.merge(results_2018,ADP_data,on='Name',how='inner').drop(['index', 'playerid'], axis=1)"
   ]
  },
  {
   "cell_type": "markdown",
   "metadata": {},
   "source": [
    "#### Sort predictions into subgroups"
   ]
  },
  {
   "cell_type": "code",
   "execution_count": 85,
   "metadata": {},
   "outputs": [],
   "source": [
    "results_2018 = add_sections(ADP_data_merged, sections=4)\n",
    "# results_2017 = add_sections(results_2017, 4)\n",
    "ADP_data = ADP_add_sections(ADP_data_merged, sections=4)"
   ]
  },
  {
   "cell_type": "markdown",
   "metadata": {},
   "source": [
    "#### Explore results (2018 data only)"
   ]
  },
  {
   "cell_type": "code",
   "execution_count": 86,
   "metadata": {},
   "outputs": [
    {
     "name": "stdout",
     "output_type": "stream",
     "text": [
      "Top Performer Ratio Predicted: 0.6805555555555556\n",
      "Number of missed predictions: 46\n",
      "Target Value Missed: 87.75594546763607\n",
      "Value found: 182.4851816469716\n",
      "Total value: 94.72923617933553\n"
     ]
    }
   ],
   "source": [
    "# missed model predictions\n",
    "prediction_results(ADP_data_merged, sections=4)"
   ]
  },
  {
   "cell_type": "code",
   "execution_count": 87,
   "metadata": {},
   "outputs": [
    {
     "name": "stdout",
     "output_type": "stream",
     "text": [
      "Top performer ratio predicted: 0.7361111111111112\n",
      "Number of missed predictions: 38\n",
      "Target Value missed: 52.59411583176583\n",
      "Value found: 205.72716236622554\n",
      "Total value: 153.1330465344597\n"
     ]
    }
   ],
   "source": [
    "# ADP results\n",
    "temp1 = ADP_data_merged[(ADP_data_merged['Target Section'] <=2) & (ADP_data_merged['ADP Section'] >2)]\n",
    "temp2 = ADP_data_merged[(ADP_data_merged['Target Section'] >2) & (ADP_data_merged['ADP Section'] <=2)]\n",
    "temp3 = ADP_data_merged[(ADP_data_merged['Target Section'] <=2) & (ADP_data_merged['ADP Section'] <=2)]\n",
    "temp4 = ADP_data_merged[(ADP_data_merged['Target Section'] <=2)]\n",
    "ADP_missed_predictions = pd.concat([temp1, temp2])\n",
    "ADP_missed_tv = abs(ADP_missed_predictions['Target FV']).sum()\n",
    "ADP_top_ratio = len(temp3)/len(temp4)\n",
    "ADP_value_found =  abs(temp3['Target FV']).sum()\n",
    "ADP_total_value = ADP_value_found-ADP_missed_tv\n",
    "print(\"Top performer ratio predicted:\", ADP_top_ratio)\n",
    "print(\"Number of missed predictions:\", len(ADP_missed_predictions))\n",
    "print(\"Target Value missed:\", ADP_missed_tv)\n",
    "print(\"Value found:\", ADP_value_found)\n",
    "print(\"Total value:\", ADP_total_value)"
   ]
  },
  {
   "cell_type": "code",
   "execution_count": 88,
   "metadata": {},
   "outputs": [
    {
     "data": {
      "text/plain": [
       "145"
      ]
     },
     "execution_count": 88,
     "metadata": {},
     "output_type": "execute_result"
    }
   ],
   "source": [
    "len(ADP_data_merged)"
   ]
  },
  {
   "cell_type": "code",
   "execution_count": 89,
   "metadata": {},
   "outputs": [],
   "source": [
    "ADP_data_merged.to_csv('prediction results.csv', index=False)"
   ]
  },
  {
   "cell_type": "markdown",
   "metadata": {},
   "source": [
    "## Final Results"
   ]
  },
  {
   "cell_type": "code",
   "execution_count": 90,
   "metadata": {},
   "outputs": [
    {
     "data": {
      "text/html": [
       "<div>\n",
       "<style scoped>\n",
       "    .dataframe tbody tr th:only-of-type {\n",
       "        vertical-align: middle;\n",
       "    }\n",
       "\n",
       "    .dataframe tbody tr th {\n",
       "        vertical-align: top;\n",
       "    }\n",
       "\n",
       "    .dataframe thead th {\n",
       "        text-align: right;\n",
       "    }\n",
       "</style>\n",
       "<table border=\"1\" class=\"dataframe\">\n",
       "  <thead>\n",
       "    <tr style=\"text-align: right;\">\n",
       "      <th></th>\n",
       "      <th>ADP</th>\n",
       "      <th>Model</th>\n",
       "    </tr>\n",
       "  </thead>\n",
       "  <tbody>\n",
       "    <tr>\n",
       "      <th>Top Performer Ratio</th>\n",
       "      <td>0.736111</td>\n",
       "      <td>0.680556</td>\n",
       "    </tr>\n",
       "    <tr>\n",
       "      <th>Missed Predictions</th>\n",
       "      <td>38.000000</td>\n",
       "      <td>46.000000</td>\n",
       "    </tr>\n",
       "    <tr>\n",
       "      <th>Missed Target Value</th>\n",
       "      <td>52.594116</td>\n",
       "      <td>87.755945</td>\n",
       "    </tr>\n",
       "    <tr>\n",
       "      <th>Value Found</th>\n",
       "      <td>205.727162</td>\n",
       "      <td>182.485182</td>\n",
       "    </tr>\n",
       "    <tr>\n",
       "      <th>Total Value</th>\n",
       "      <td>153.133047</td>\n",
       "      <td>94.729236</td>\n",
       "    </tr>\n",
       "  </tbody>\n",
       "</table>\n",
       "</div>"
      ],
      "text/plain": [
       "                            ADP       Model\n",
       "Top Performer Ratio    0.736111    0.680556\n",
       "Missed Predictions    38.000000   46.000000\n",
       "Missed Target Value   52.594116   87.755945\n",
       "Value Found          205.727162  182.485182\n",
       "Total Value          153.133047   94.729236"
      ]
     },
     "execution_count": 90,
     "metadata": {},
     "output_type": "execute_result"
    }
   ],
   "source": [
    "# results data frame comparing ADP to model\n",
    "final_results = pd.DataFrame({\n",
    "    'Top Performer Ratio': [ADP_top_ratio, model_top_ratio],\n",
    "    'Missed Predictions': [len(ADP_missed_predictions), len(model_missed_predictions)],\n",
    "    'Missed Target Value': [ADP_missed_tv, model_missed_tv],\n",
    "    'Value Found': [ADP_value_found, model_value_found],\n",
    "    'Total Value': [ADP_total_value, model_total_value]},\n",
    "    index=['ADP', 'Model']\n",
    ")\n",
    "\n",
    "final_results.T"
   ]
  },
  {
   "cell_type": "markdown",
   "metadata": {},
   "source": [
    "For the primary scoring metric (TPR), the Elastic Net model performed <i>worse</i> than the ADP rankings. Digging deeper into the secondary evaluation metrics, we see that the model missed placing eight more players than the ADP rankings, missed a larger Target Value, and overall found less value. Since ADP rankings are essentially built upon the fantasy baseball community's collective predictions, these results suggest there are possibly factors/features that are not yet accounted for in the model."
   ]
  },
  {
   "cell_type": "markdown",
   "metadata": {},
   "source": [
    "## Potential Next Steps"
   ]
  },
  {
   "cell_type": "markdown",
   "metadata": {},
   "source": [
    "- <b>Find additional features to add</b>\n",
    "    - Career Stats\n",
    "    - Injury Proneness (# of injuries)\n",
    "    - Home Park (Team could be used as proxy)\n",
    "    - League (AL vs. NL)\n",
    "- <b>Investigate model's missed predictions</b>\n",
    "    - Could help understand where performance is suffering compared to ADP\n",
    "- <b>Change to classification model</b>\n",
    "    - Since end comparison relies on properly categorizing players, a classification model might be better suited\n",
    "    - Regression model could be useful when determining \"how much better\" a player is from the next\n",
    "- <b>Align training penalty to end goal</b>\n",
    "    - Results only care about top 50% right/wrong, so model should be optimized for correctly predicting FV for top performers and care less about correctly aligning FV on poor performers. "
   ]
  },
  {
   "cell_type": "code",
   "execution_count": null,
   "metadata": {},
   "outputs": [],
   "source": []
  }
 ],
 "metadata": {
  "kernelspec": {
   "display_name": "Python 3",
   "language": "python",
   "name": "python3"
  },
  "language_info": {
   "codemirror_mode": {
    "name": "ipython",
    "version": 3
   },
   "file_extension": ".py",
   "mimetype": "text/x-python",
   "name": "python",
   "nbconvert_exporter": "python",
   "pygments_lexer": "ipython3",
   "version": "3.7.1"
  }
 },
 "nbformat": 4,
 "nbformat_minor": 2
}
