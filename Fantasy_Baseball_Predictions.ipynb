{
 "cells": [
  {
   "cell_type": "code",
   "execution_count": 94,
   "metadata": {},
   "outputs": [],
   "source": [
    "import numpy as np\n",
    "import pandas as pd\n",
    "import numpy as np # linear algebra\n",
    "import pandas as pd # data processing, CSV file I/O (e.g. pd.read_csv)\n",
    "import seaborn as sns\n",
    "import math\n",
    "import matplotlib.pyplot as plt\n",
    "from matplotlib.pylab import rcParams\n",
    "\n",
    "from sklearn.preprocessing import MinMaxScaler, StandardScaler\n",
    "from sklearn.linear_model import ElasticNet, Lasso, LinearRegression\n",
    "from sklearn.ensemble import RandomForestRegressor\n",
    "from sklearn.svm import SVR\n",
    "from sklearn.model_selection import train_test_split, GridSearchCV\n",
    "from bayes_opt import BayesianOptimization\n",
    "from xgboost import XGBRegressor\n",
    "import lightgbm as lgb\n",
    "from sklearn.metrics import mean_squared_error, r2_score\n",
    "\n",
    "pd.options.display.max_rows = 20\n",
    "pd.options.display.min_rows = 20"
   ]
  },
  {
   "cell_type": "code",
   "execution_count": 2,
   "metadata": {},
   "outputs": [],
   "source": [
    "data = pd.read_csv('../datasets/baseball/FG_2010_2018_inning_6_load.csv')"
   ]
  },
  {
   "cell_type": "markdown",
   "metadata": {},
   "source": [
    "## Explore the Data"
   ]
  },
  {
   "cell_type": "code",
   "execution_count": 3,
   "metadata": {},
   "outputs": [
    {
     "data": {
      "text/html": [
       "<div>\n",
       "<style scoped>\n",
       "    .dataframe tbody tr th:only-of-type {\n",
       "        vertical-align: middle;\n",
       "    }\n",
       "\n",
       "    .dataframe tbody tr th {\n",
       "        vertical-align: top;\n",
       "    }\n",
       "\n",
       "    .dataframe thead th {\n",
       "        text-align: right;\n",
       "    }\n",
       "</style>\n",
       "<table border=\"1\" class=\"dataframe\">\n",
       "  <thead>\n",
       "    <tr style=\"text-align: right;\">\n",
       "      <th></th>\n",
       "      <th>Season</th>\n",
       "      <th>Name</th>\n",
       "      <th>Team</th>\n",
       "      <th>G</th>\n",
       "      <th>Age</th>\n",
       "      <th>PA</th>\n",
       "      <th>HR</th>\n",
       "      <th>R</th>\n",
       "      <th>RBI</th>\n",
       "      <th>SB</th>\n",
       "      <th>...</th>\n",
       "      <th>f_val_SB_rate</th>\n",
       "      <th>f_val_rate</th>\n",
       "      <th>ny_f_val_rate</th>\n",
       "      <th>HR_rate_std</th>\n",
       "      <th>R_rate_std</th>\n",
       "      <th>RBI_rate_std</th>\n",
       "      <th>SB_rate_std</th>\n",
       "      <th>AVG_std</th>\n",
       "      <th>f_val_std</th>\n",
       "      <th>ny_f_val_std</th>\n",
       "    </tr>\n",
       "  </thead>\n",
       "  <tbody>\n",
       "    <tr>\n",
       "      <th>0</th>\n",
       "      <td>2017</td>\n",
       "      <td>Mookie Betts</td>\n",
       "      <td>Red Sox</td>\n",
       "      <td>153</td>\n",
       "      <td>24</td>\n",
       "      <td>712</td>\n",
       "      <td>24</td>\n",
       "      <td>101</td>\n",
       "      <td>102</td>\n",
       "      <td>26</td>\n",
       "      <td>...</td>\n",
       "      <td>1.83</td>\n",
       "      <td>2.43</td>\n",
       "      <td>0.745460</td>\n",
       "      <td>0.077212</td>\n",
       "      <td>1.205684</td>\n",
       "      <td>1.226771</td>\n",
       "      <td>1.542399</td>\n",
       "      <td>-0.087713</td>\n",
       "      <td>3.964353</td>\n",
       "      <td>12.516023</td>\n",
       "    </tr>\n",
       "    <tr>\n",
       "      <th>1</th>\n",
       "      <td>2017</td>\n",
       "      <td>Christian Yelich</td>\n",
       "      <td>Marlins</td>\n",
       "      <td>156</td>\n",
       "      <td>25</td>\n",
       "      <td>695</td>\n",
       "      <td>18</td>\n",
       "      <td>100</td>\n",
       "      <td>81</td>\n",
       "      <td>16</td>\n",
       "      <td>...</td>\n",
       "      <td>0.71</td>\n",
       "      <td>0.77</td>\n",
       "      <td>0.816703</td>\n",
       "      <td>-0.543295</td>\n",
       "      <td>1.037601</td>\n",
       "      <td>0.094554</td>\n",
       "      <td>0.596226</td>\n",
       "      <td>0.534600</td>\n",
       "      <td>1.719685</td>\n",
       "      <td>10.721773</td>\n",
       "    </tr>\n",
       "  </tbody>\n",
       "</table>\n",
       "<p>2 rows × 55 columns</p>\n",
       "</div>"
      ],
      "text/plain": [
       "   Season              Name     Team    G  Age   PA  HR    R  RBI  SB  ...  \\\n",
       "0    2017      Mookie Betts  Red Sox  153   24  712  24  101  102  26  ...   \n",
       "1    2017  Christian Yelich  Marlins  156   25  695  18  100   81  16  ...   \n",
       "\n",
       "   f_val_SB_rate  f_val_rate  ny_f_val_rate  HR_rate_std  R_rate_std  \\\n",
       "0           1.83        2.43       0.745460     0.077212    1.205684   \n",
       "1           0.71        0.77       0.816703    -0.543295    1.037601   \n",
       "\n",
       "   RBI_rate_std  SB_rate_std   AVG_std  f_val_std  ny_f_val_std  \n",
       "0      1.226771     1.542399 -0.087713   3.964353     12.516023  \n",
       "1      0.094554     0.596226  0.534600   1.719685     10.721773  \n",
       "\n",
       "[2 rows x 55 columns]"
      ]
     },
     "execution_count": 3,
     "metadata": {},
     "output_type": "execute_result"
    }
   ],
   "source": [
    "data.head(2)"
   ]
  },
  {
   "cell_type": "code",
   "execution_count": 4,
   "metadata": {},
   "outputs": [
    {
     "data": {
      "text/html": [
       "<div>\n",
       "<style scoped>\n",
       "    .dataframe tbody tr th:only-of-type {\n",
       "        vertical-align: middle;\n",
       "    }\n",
       "\n",
       "    .dataframe tbody tr th {\n",
       "        vertical-align: top;\n",
       "    }\n",
       "\n",
       "    .dataframe thead th {\n",
       "        text-align: right;\n",
       "    }\n",
       "</style>\n",
       "<table border=\"1\" class=\"dataframe\">\n",
       "  <thead>\n",
       "    <tr style=\"text-align: right;\">\n",
       "      <th></th>\n",
       "      <th>Season</th>\n",
       "      <th>G</th>\n",
       "      <th>Age</th>\n",
       "      <th>PA</th>\n",
       "      <th>HR</th>\n",
       "      <th>R</th>\n",
       "      <th>RBI</th>\n",
       "      <th>SB</th>\n",
       "      <th>BB%</th>\n",
       "      <th>K%</th>\n",
       "      <th>...</th>\n",
       "      <th>f_val_SB_rate</th>\n",
       "      <th>f_val_rate</th>\n",
       "      <th>ny_f_val_rate</th>\n",
       "      <th>HR_rate_std</th>\n",
       "      <th>R_rate_std</th>\n",
       "      <th>RBI_rate_std</th>\n",
       "      <th>SB_rate_std</th>\n",
       "      <th>AVG_std</th>\n",
       "      <th>f_val_std</th>\n",
       "      <th>ny_f_val_std</th>\n",
       "    </tr>\n",
       "  </thead>\n",
       "  <tbody>\n",
       "    <tr>\n",
       "      <th>count</th>\n",
       "      <td>1154.000000</td>\n",
       "      <td>1154.000000</td>\n",
       "      <td>1154.000000</td>\n",
       "      <td>1154.000000</td>\n",
       "      <td>1154.000000</td>\n",
       "      <td>1154.000000</td>\n",
       "      <td>1154.000000</td>\n",
       "      <td>1154.000000</td>\n",
       "      <td>1154.000000</td>\n",
       "      <td>1154.000000</td>\n",
       "      <td>...</td>\n",
       "      <td>1154.000000</td>\n",
       "      <td>1154.000000</td>\n",
       "      <td>1154.000000</td>\n",
       "      <td>1154.000000</td>\n",
       "      <td>1154.000000</td>\n",
       "      <td>1154.000000</td>\n",
       "      <td>1154.000000</td>\n",
       "      <td>1154.000000</td>\n",
       "      <td>1154.000000</td>\n",
       "      <td>1154.000000</td>\n",
       "    </tr>\n",
       "    <tr>\n",
       "      <th>mean</th>\n",
       "      <td>2013.550260</td>\n",
       "      <td>141.068458</td>\n",
       "      <td>28.214038</td>\n",
       "      <td>579.262565</td>\n",
       "      <td>18.353553</td>\n",
       "      <td>72.337955</td>\n",
       "      <td>69.570191</td>\n",
       "      <td>10.006932</td>\n",
       "      <td>0.085828</td>\n",
       "      <td>0.183038</td>\n",
       "      <td>...</td>\n",
       "      <td>0.049159</td>\n",
       "      <td>0.195347</td>\n",
       "      <td>0.029685</td>\n",
       "      <td>0.106438</td>\n",
       "      <td>0.175737</td>\n",
       "      <td>0.127342</td>\n",
       "      <td>0.044009</td>\n",
       "      <td>0.127762</td>\n",
       "      <td>0.581287</td>\n",
       "      <td>0.260231</td>\n",
       "    </tr>\n",
       "    <tr>\n",
       "      <th>std</th>\n",
       "      <td>2.314325</td>\n",
       "      <td>16.168980</td>\n",
       "      <td>3.662962</td>\n",
       "      <td>86.555025</td>\n",
       "      <td>9.940838</td>\n",
       "      <td>18.773729</td>\n",
       "      <td>22.253659</td>\n",
       "      <td>11.004136</td>\n",
       "      <td>0.030436</td>\n",
       "      <td>0.056472</td>\n",
       "      <td>...</td>\n",
       "      <td>1.147934</td>\n",
       "      <td>1.342655</td>\n",
       "      <td>0.521885</td>\n",
       "      <td>1.015281</td>\n",
       "      <td>0.980659</td>\n",
       "      <td>1.006717</td>\n",
       "      <td>1.014020</td>\n",
       "      <td>0.971037</td>\n",
       "      <td>3.076915</td>\n",
       "      <td>3.240759</td>\n",
       "    </tr>\n",
       "    <tr>\n",
       "      <th>min</th>\n",
       "      <td>2010.000000</td>\n",
       "      <td>93.000000</td>\n",
       "      <td>19.000000</td>\n",
       "      <td>400.000000</td>\n",
       "      <td>0.000000</td>\n",
       "      <td>26.000000</td>\n",
       "      <td>17.000000</td>\n",
       "      <td>0.000000</td>\n",
       "      <td>0.021000</td>\n",
       "      <td>0.058000</td>\n",
       "      <td>...</td>\n",
       "      <td>-1.000000</td>\n",
       "      <td>-2.620000</td>\n",
       "      <td>-1.000000</td>\n",
       "      <td>-2.080068</td>\n",
       "      <td>-2.711601</td>\n",
       "      <td>-2.717538</td>\n",
       "      <td>-0.969940</td>\n",
       "      <td>-3.869888</td>\n",
       "      <td>-7.862697</td>\n",
       "      <td>-7.862697</td>\n",
       "    </tr>\n",
       "    <tr>\n",
       "      <th>25%</th>\n",
       "      <td>2012.000000</td>\n",
       "      <td>130.000000</td>\n",
       "      <td>26.000000</td>\n",
       "      <td>511.000000</td>\n",
       "      <td>11.000000</td>\n",
       "      <td>58.000000</td>\n",
       "      <td>52.000000</td>\n",
       "      <td>2.000000</td>\n",
       "      <td>0.063000</td>\n",
       "      <td>0.142000</td>\n",
       "      <td>...</td>\n",
       "      <td>-0.770000</td>\n",
       "      <td>-0.727500</td>\n",
       "      <td>-0.366880</td>\n",
       "      <td>-0.695430</td>\n",
       "      <td>-0.534081</td>\n",
       "      <td>-0.627220</td>\n",
       "      <td>-0.666457</td>\n",
       "      <td>-0.535968</td>\n",
       "      <td>-1.690974</td>\n",
       "      <td>-2.160351</td>\n",
       "    </tr>\n",
       "    <tr>\n",
       "      <th>50%</th>\n",
       "      <td>2014.000000</td>\n",
       "      <td>145.000000</td>\n",
       "      <td>28.000000</td>\n",
       "      <td>587.500000</td>\n",
       "      <td>17.000000</td>\n",
       "      <td>71.500000</td>\n",
       "      <td>68.000000</td>\n",
       "      <td>6.000000</td>\n",
       "      <td>0.083000</td>\n",
       "      <td>0.179000</td>\n",
       "      <td>...</td>\n",
       "      <td>-0.340000</td>\n",
       "      <td>-0.015000</td>\n",
       "      <td>-0.005117</td>\n",
       "      <td>0.062385</td>\n",
       "      <td>0.141844</td>\n",
       "      <td>0.120951</td>\n",
       "      <td>-0.299616</td>\n",
       "      <td>0.133874</td>\n",
       "      <td>0.417967</td>\n",
       "      <td>0.045613</td>\n",
       "    </tr>\n",
       "    <tr>\n",
       "      <th>75%</th>\n",
       "      <td>2016.000000</td>\n",
       "      <td>155.000000</td>\n",
       "      <td>31.000000</td>\n",
       "      <td>652.000000</td>\n",
       "      <td>25.000000</td>\n",
       "      <td>85.000000</td>\n",
       "      <td>85.000000</td>\n",
       "      <td>14.000000</td>\n",
       "      <td>0.105000</td>\n",
       "      <td>0.219000</td>\n",
       "      <td>...</td>\n",
       "      <td>0.527500</td>\n",
       "      <td>0.957500</td>\n",
       "      <td>0.366121</td>\n",
       "      <td>0.822500</td>\n",
       "      <td>0.817740</td>\n",
       "      <td>0.809049</td>\n",
       "      <td>0.457565</td>\n",
       "      <td>0.772735</td>\n",
       "      <td>2.528986</td>\n",
       "      <td>2.423202</td>\n",
       "    </tr>\n",
       "    <tr>\n",
       "      <th>max</th>\n",
       "      <td>2017.000000</td>\n",
       "      <td>162.000000</td>\n",
       "      <td>40.000000</td>\n",
       "      <td>754.000000</td>\n",
       "      <td>59.000000</td>\n",
       "      <td>137.000000</td>\n",
       "      <td>139.000000</td>\n",
       "      <td>68.000000</td>\n",
       "      <td>0.206000</td>\n",
       "      <td>0.372000</td>\n",
       "      <td>...</td>\n",
       "      <td>7.140000</td>\n",
       "      <td>6.980000</td>\n",
       "      <td>1.888168</td>\n",
       "      <td>3.665980</td>\n",
       "      <td>3.934791</td>\n",
       "      <td>3.489644</td>\n",
       "      <td>6.189380</td>\n",
       "      <td>3.507457</td>\n",
       "      <td>11.463261</td>\n",
       "      <td>12.516023</td>\n",
       "    </tr>\n",
       "  </tbody>\n",
       "</table>\n",
       "<p>8 rows × 53 columns</p>\n",
       "</div>"
      ],
      "text/plain": [
       "            Season            G          Age           PA           HR  \\\n",
       "count  1154.000000  1154.000000  1154.000000  1154.000000  1154.000000   \n",
       "mean   2013.550260   141.068458    28.214038   579.262565    18.353553   \n",
       "std       2.314325    16.168980     3.662962    86.555025     9.940838   \n",
       "min    2010.000000    93.000000    19.000000   400.000000     0.000000   \n",
       "25%    2012.000000   130.000000    26.000000   511.000000    11.000000   \n",
       "50%    2014.000000   145.000000    28.000000   587.500000    17.000000   \n",
       "75%    2016.000000   155.000000    31.000000   652.000000    25.000000   \n",
       "max    2017.000000   162.000000    40.000000   754.000000    59.000000   \n",
       "\n",
       "                 R          RBI           SB          BB%           K%  ...  \\\n",
       "count  1154.000000  1154.000000  1154.000000  1154.000000  1154.000000  ...   \n",
       "mean     72.337955    69.570191    10.006932     0.085828     0.183038  ...   \n",
       "std      18.773729    22.253659    11.004136     0.030436     0.056472  ...   \n",
       "min      26.000000    17.000000     0.000000     0.021000     0.058000  ...   \n",
       "25%      58.000000    52.000000     2.000000     0.063000     0.142000  ...   \n",
       "50%      71.500000    68.000000     6.000000     0.083000     0.179000  ...   \n",
       "75%      85.000000    85.000000    14.000000     0.105000     0.219000  ...   \n",
       "max     137.000000   139.000000    68.000000     0.206000     0.372000  ...   \n",
       "\n",
       "       f_val_SB_rate   f_val_rate  ny_f_val_rate  HR_rate_std   R_rate_std  \\\n",
       "count    1154.000000  1154.000000    1154.000000  1154.000000  1154.000000   \n",
       "mean        0.049159     0.195347       0.029685     0.106438     0.175737   \n",
       "std         1.147934     1.342655       0.521885     1.015281     0.980659   \n",
       "min        -1.000000    -2.620000      -1.000000    -2.080068    -2.711601   \n",
       "25%        -0.770000    -0.727500      -0.366880    -0.695430    -0.534081   \n",
       "50%        -0.340000    -0.015000      -0.005117     0.062385     0.141844   \n",
       "75%         0.527500     0.957500       0.366121     0.822500     0.817740   \n",
       "max         7.140000     6.980000       1.888168     3.665980     3.934791   \n",
       "\n",
       "       RBI_rate_std  SB_rate_std      AVG_std    f_val_std  ny_f_val_std  \n",
       "count   1154.000000  1154.000000  1154.000000  1154.000000   1154.000000  \n",
       "mean       0.127342     0.044009     0.127762     0.581287      0.260231  \n",
       "std        1.006717     1.014020     0.971037     3.076915      3.240759  \n",
       "min       -2.717538    -0.969940    -3.869888    -7.862697     -7.862697  \n",
       "25%       -0.627220    -0.666457    -0.535968    -1.690974     -2.160351  \n",
       "50%        0.120951    -0.299616     0.133874     0.417967      0.045613  \n",
       "75%        0.809049     0.457565     0.772735     2.528986      2.423202  \n",
       "max        3.489644     6.189380     3.507457    11.463261     12.516023  \n",
       "\n",
       "[8 rows x 53 columns]"
      ]
     },
     "execution_count": 4,
     "metadata": {},
     "output_type": "execute_result"
    }
   ],
   "source": [
    "data.describe()"
   ]
  },
  {
   "cell_type": "code",
   "execution_count": 5,
   "metadata": {},
   "outputs": [
    {
     "data": {
      "text/plain": [
       "Index(['Season', 'Name', 'Team', 'G', 'Age', 'PA', 'HR', 'R', 'RBI', 'SB',\n",
       "       'BB%', 'K%', 'ISO', 'BABIP', 'AVG', 'OBP', 'SLG', 'wOBA', 'wRC+', 'EV',\n",
       "       'BsR', 'Off', 'O-Swing%', 'Z-Swing%', 'O-Contact%', 'Z-Contact%',\n",
       "       'GB/FB', 'LD%', 'GB%', 'HR/FB', 'playerid', 'f_val_HR', 'f_val_R',\n",
       "       'f_val_RBI', 'f_val_SB', 'f_val_BA', 'f_val', 'ny_f_val', 'HR_rate',\n",
       "       'R_rate', 'RBI_rate', 'SB_rate', 'f_val_HR_rate', 'f_val_R_rate',\n",
       "       'f_val_RBI_rate', 'f_val_SB_rate', 'f_val_rate', 'ny_f_val_rate',\n",
       "       'HR_rate_std', 'R_rate_std', 'RBI_rate_std', 'SB_rate_std', 'AVG_std',\n",
       "       'f_val_std', 'ny_f_val_std'],\n",
       "      dtype='object')"
      ]
     },
     "execution_count": 5,
     "metadata": {},
     "output_type": "execute_result"
    }
   ],
   "source": [
    "data.columns"
   ]
  },
  {
   "cell_type": "markdown",
   "metadata": {},
   "source": [
    "## Create data structures for use in models"
   ]
  },
  {
   "cell_type": "code",
   "execution_count": 6,
   "metadata": {},
   "outputs": [],
   "source": [
    "# define columns that won't be used in predictive modeling\n",
    "drop_cols = ['Name', 'Team', 'f_val_HR', 'f_val_R','f_val_RBI','f_val_SB','f_val_BA', \n",
    "             'f_val', 'ny_f_val', 'HR', 'R', 'RBI', 'SB', 'f_val_HR_rate', 'f_val_R_rate', \n",
    "             'f_val_RBI_rate', 'f_val_SB_rate', 'f_val_rate', 'ny_f_val_rate', 'HR_rate_std', \n",
    "             'R_rate_std', 'RBI_rate_std','SB_rate_std', 'AVG_std', 'f_val_std']\n",
    "\n",
    "# create DataFrame for use in data visualization\n",
    "data2 = data.drop(drop_cols, axis=1)"
   ]
  },
  {
   "cell_type": "code",
   "execution_count": 7,
   "metadata": {},
   "outputs": [],
   "source": [
    "# drop column EV due to missing entries (shows in in-depth data exploration notebook)\n",
    "data2 = data2.drop('EV', axis=1)"
   ]
  },
  {
   "cell_type": "code",
   "execution_count": 8,
   "metadata": {},
   "outputs": [],
   "source": [
    "# dropping columns using methodology from in-depth data exploration notebook\n",
    "drop_cols2 = ['G', 'Age', 'BB%', 'K%', 'BABIP', 'BsR', 'O-Swing%', \n",
    "           'Z-Swing%', 'O-Contact%', 'Z-Contact%', 'GB/FB', 'LD%', \n",
    "           'GB%', 'SB_rate', 'ISO', 'OBP', 'wOBA', 'wRC+', 'SLG', 'HR/FB']\n",
    "\n",
    "data3 = data2.drop(drop_cols2, axis=1)"
   ]
  },
  {
   "cell_type": "code",
   "execution_count": 9,
   "metadata": {},
   "outputs": [],
   "source": [
    "# test on 2 most recent years of data (index 300 is cut off)\n",
    "# used for all models except Elastic Net\n",
    "df_train = data3[300:]\n",
    "df_test = data3[:300]\n",
    "\n",
    "# use to retain more features for Elastic Net\n",
    "df_train_enet = data2[300:]\n",
    "df_test_enet = data2[:300]"
   ]
  },
  {
   "cell_type": "code",
   "execution_count": 10,
   "metadata": {},
   "outputs": [],
   "source": [
    "# remove target from X\n",
    "X_train = df_train.drop('ny_f_val_std', axis=1)\n",
    "X_test = df_test.drop('ny_f_val_std', axis=1)\n",
    "\n",
    "# use for Elastic Net\n",
    "X_train_enet = df_train_enet.drop('ny_f_val_std', axis=1)\n",
    "X_test_enet = df_test_enet.drop('ny_f_val_std', axis=1)\n",
    "\n",
    "# create target y\n",
    "y_train = df_train['ny_f_val_std']\n",
    "y_test = df_test['ny_f_val_std']"
   ]
  },
  {
   "cell_type": "code",
   "execution_count": 11,
   "metadata": {},
   "outputs": [],
   "source": [
    "# hold onto season column\n",
    "train_season = X_train['Season']\n",
    "test_season = X_test['Season']\n",
    "\n",
    "#hold onto playerid column\n",
    "train_ID = X_train['playerid']\n",
    "test_ID = X_test['playerid']\n",
    "\n",
    "#Now drop the  'playerid' and 'Season' columns since they are unnecessary for the prediction process\n",
    "X_train.drop([\"playerid\", \"Season\"], axis=1, inplace = True)\n",
    "X_test.drop([\"playerid\", \"Season\"], axis=1, inplace = True)\n",
    "X_train_enet.drop([\"playerid\", \"Season\"], axis=1, inplace = True)\n",
    "X_test_enet.drop([\"playerid\", \"Season\"], axis=1, inplace = True)"
   ]
  },
  {
   "cell_type": "code",
   "execution_count": 12,
   "metadata": {},
   "outputs": [
    {
     "data": {
      "text/html": [
       "<div>\n",
       "<style scoped>\n",
       "    .dataframe tbody tr th:only-of-type {\n",
       "        vertical-align: middle;\n",
       "    }\n",
       "\n",
       "    .dataframe tbody tr th {\n",
       "        vertical-align: top;\n",
       "    }\n",
       "\n",
       "    .dataframe thead th {\n",
       "        text-align: right;\n",
       "    }\n",
       "</style>\n",
       "<table border=\"1\" class=\"dataframe\">\n",
       "  <thead>\n",
       "    <tr style=\"text-align: right;\">\n",
       "      <th></th>\n",
       "      <th>PA</th>\n",
       "      <th>AVG</th>\n",
       "      <th>Off</th>\n",
       "      <th>HR_rate</th>\n",
       "      <th>R_rate</th>\n",
       "      <th>RBI_rate</th>\n",
       "    </tr>\n",
       "  </thead>\n",
       "  <tbody>\n",
       "    <tr>\n",
       "      <th>300</th>\n",
       "      <td>654</td>\n",
       "      <td>0.291</td>\n",
       "      <td>23.1</td>\n",
       "      <td>0.124138</td>\n",
       "      <td>0.634483</td>\n",
       "      <td>0.531034</td>\n",
       "    </tr>\n",
       "  </tbody>\n",
       "</table>\n",
       "</div>"
      ],
      "text/plain": [
       "      PA    AVG   Off   HR_rate    R_rate  RBI_rate\n",
       "300  654  0.291  23.1  0.124138  0.634483  0.531034"
      ]
     },
     "execution_count": 12,
     "metadata": {},
     "output_type": "execute_result"
    }
   ],
   "source": [
    "X_train.head(1)"
   ]
  },
  {
   "cell_type": "code",
   "execution_count": 13,
   "metadata": {},
   "outputs": [
    {
     "data": {
      "text/plain": [
       "300    8.210223\n",
       "301    7.567880\n",
       "302    6.856675\n",
       "303    6.657771\n",
       "304    6.631371\n",
       "Name: ny_f_val_std, dtype: float64"
      ]
     },
     "execution_count": 13,
     "metadata": {},
     "output_type": "execute_result"
    }
   ],
   "source": [
    "y_train.head()"
   ]
  },
  {
   "cell_type": "markdown",
   "metadata": {},
   "source": [
    "### Scale the data"
   ]
  },
  {
   "cell_type": "code",
   "execution_count": 14,
   "metadata": {},
   "outputs": [],
   "source": [
    "# retain column names before changing data structure\n",
    "X_train_cols = X_train.columns\n",
    "X_train_enet_cols = X_train_enet.columns\n",
    "\n",
    "# Create normalized inputs for LinearRegression, XGBoost, and LGBoost\n",
    "norm_scaler = MinMaxScaler()\n",
    "X_train_normal = norm_scaler.fit_transform(X_train)\n",
    "X_test_normal = norm_scaler.transform(X_test)\n",
    "\n",
    "# create standardized inputs for ENet\n",
    "stand_scaler = StandardScaler()\n",
    "X_train_standard = stand_scaler.fit_transform(X_train_enet)\n",
    "X_test_standard = stand_scaler.transform(X_test_enet)"
   ]
  },
  {
   "cell_type": "markdown",
   "metadata": {},
   "source": [
    "## Modeling"
   ]
  },
  {
   "cell_type": "markdown",
   "metadata": {},
   "source": [
    "#### Baseline Model"
   ]
  },
  {
   "cell_type": "code",
   "execution_count": 15,
   "metadata": {},
   "outputs": [
    {
     "name": "stdout",
     "output_type": "stream",
     "text": [
      "Lin MSE: 8.633967983991392\n",
      "R2: 0.2378720755819861\n"
     ]
    }
   ],
   "source": [
    "lin_model = LinearRegression()\n",
    "\n",
    "lin_model.fit(X_train_normal, y_train)\n",
    "lin_preds = lin_model.predict(X_test_normal)\n",
    "\n",
    "lin_resids = (y_test - lin_preds)\n",
    "\n",
    "lin_MSE = mean_squared_error(y_test, lin_preds)\n",
    "lin_r2 = r2_score(y_test, lin_preds)\n",
    "\n",
    "print('Lin MSE:', lin_MSE)\n",
    "print('R2:', lin_r2)"
   ]
  },
  {
   "cell_type": "code",
   "execution_count": 16,
   "metadata": {},
   "outputs": [
    {
     "data": {
      "image/png": "[encoded data removed]",
      "text/plain": [
       "<Figure size 1008x360 with 2 Axes>"
      ]
     },
     "metadata": {
      "needs_background": "light"
     },
     "output_type": "display_data"
    }
   ],
   "source": [
    "figure, axes = plt.subplots(ncols=2, figsize=(14,5))\n",
    "\n",
    "sns.scatterplot(x=lin_preds, y=lin_resids, ax=axes[0])\n",
    "axes[0].set_title('Residual Plot')\n",
    "axes[0].set(xlabel='Predictions', ylabel='Residuals')\n",
    "sns.scatterplot(x=lin_preds, y=y_test, ax=axes[1])\n",
    "axes[1].set_title('Predications v. Actuals')\n",
    "axes[1].set(xlabel='Predictions', ylabel='Actuals')\n",
    "\n",
    "plt.setp(axes, yticks=[])\n",
    "plt.tight_layout()"
   ]
  },
  {
   "cell_type": "code",
   "execution_count": 17,
   "metadata": {},
   "outputs": [],
   "source": [
    "# # can use to see coefficients of features\n",
    "# lin_coef_dict = {}\n",
    "# for coef, feat in zip(lin_model.coef_,X_train_cols):\n",
    "#     lin_coef_dict[feat] = coef\n",
    "# lin_coef_dict"
   ]
  },
  {
   "cell_type": "markdown",
   "metadata": {},
   "source": [
    "#### Random Forest Model"
   ]
  },
  {
   "cell_type": "code",
   "execution_count": 100,
   "metadata": {},
   "outputs": [
    {
     "data": {
      "text/plain": [
       "{'max_depth': 3, 'min_samples_split': 14, 'n_estimators': 142}"
      ]
     },
     "execution_count": 100,
     "metadata": {},
     "output_type": "execute_result"
    }
   ],
   "source": [
    "#run once to find optimal params (takes awhile)\n",
    "rf_model = RandomForestRegressor(random_state=35, criterion='mse')\n",
    "\n",
    "params = {\n",
    "        'n_estimators': range(135,150,1),\n",
    "        'min_samples_split': range(6,15,1),\n",
    "        'max_depth': [2, 3, 4]\n",
    "        }\n",
    "\n",
    "# use GridSearchCV for finding optimal hyperparams\n",
    "search_rf = GridSearchCV(estimator=rf_model, param_grid=params,scoring='neg_mean_squared_error',n_jobs=1,refit=True,cv=5)\n",
    "\n",
    "search_rf.fit(X_train, y_train)\n",
    "search_rf.best_params_"
   ]
  },
  {
   "cell_type": "code",
   "execution_count": 97,
   "metadata": {},
   "outputs": [
    {
     "data": {
      "text/plain": [
       "RandomForestRegressor(max_depth=3, min_samples_split=6, n_estimators=140,\n",
       "                      random_state=35)"
      ]
     },
     "execution_count": 97,
     "metadata": {},
     "output_type": "execute_result"
    }
   ],
   "source": [
    "rf_model = search_rf.best_estimator_\n",
    "rf_model.fit(X_train_normal, y_train)"
   ]
  },
  {
   "cell_type": "code",
   "execution_count": 98,
   "metadata": {},
   "outputs": [
    {
     "name": "stdout",
     "output_type": "stream",
     "text": [
      "MSE: 8.644776477815055\n",
      "R2: 0.23691800035502342\n"
     ]
    }
   ],
   "source": [
    "rf_preds = rf_model.predict(X_test_normal)\n",
    "\n",
    "rf_resids = (y_test - rf_preds)\n",
    "\n",
    "rf_MSE = mean_squared_error(y_test, rf_preds)\n",
    "rf_r2 = r2_score(y_test, rf_preds)\n",
    "print('MSE:', rf_MSE)\n",
    "print('R2:', rf_r2)"
   ]
  },
  {
   "cell_type": "markdown",
   "metadata": {},
   "source": [
    "#### XGB Model"
   ]
  },
  {
   "cell_type": "code",
   "execution_count": 18,
   "metadata": {},
   "outputs": [
    {
     "data": {
      "text/plain": [
       "{'colsample_bytree': 0.6,\n",
       " 'gamma': 5,\n",
       " 'max_depth': 4,\n",
       " 'min_child_weight': 15,\n",
       " 'n_estimators': 50,\n",
       " 'subsample': 0.4}"
      ]
     },
     "execution_count": 18,
     "metadata": {},
     "output_type": "execute_result"
    }
   ],
   "source": [
    "#run once to find optimal params (takes awhile)\n",
    "xgb_reg = XGBRegressor(learning_rate=0.05, random_state=35, objective='reg:squarederror')\n",
    "\n",
    "params = {\n",
    "        'n_estimators': [25, 50, 100],\n",
    "        'min_child_weight': [5, 10, 15],\n",
    "        'gamma': [1.5, 2, 5],\n",
    "        'subsample': [0.4, 0.6],\n",
    "        'colsample_bytree': [0.6, 0.8],\n",
    "        'max_depth': [3, 4]\n",
    "        }\n",
    "\n",
    "# use GridSearchCV for finding optimal hyperparams\n",
    "search_xgb = GridSearchCV(estimator=xgb_reg, param_grid=params,scoring='neg_mean_squared_error',n_jobs=1,refit=True,cv=5)\n",
    "\n",
    "search_xgb.fit(X_train, y_train)\n",
    "search_xgb.best_params_"
   ]
  },
  {
   "cell_type": "code",
   "execution_count": 19,
   "metadata": {},
   "outputs": [
    {
     "data": {
      "text/plain": [
       "XGBRegressor(colsample_bytree=0.6, gamma=5, learning_rate=0.05, max_depth=4,\n",
       "             min_child_weight=15, n_estimators=50, objective='reg:squarederror',\n",
       "             random_state=35, subsample=0.4)"
      ]
     },
     "execution_count": 19,
     "metadata": {},
     "output_type": "execute_result"
    }
   ],
   "source": [
    "xgb_reg = search_xgb.best_estimator_\n",
    "xgb_reg.fit(X_train_normal, y_train)"
   ]
  },
  {
   "cell_type": "code",
   "execution_count": 20,
   "metadata": {},
   "outputs": [
    {
     "name": "stdout",
     "output_type": "stream",
     "text": [
      "MSE: 8.850458333303697\n",
      "R2: 0.21876228262423603\n"
     ]
    }
   ],
   "source": [
    "xgb_preds = xgb_reg.predict(X_test_normal)\n",
    "\n",
    "xgb_resids = (y_test - xgb_preds)\n",
    "\n",
    "xgb_MSE = mean_squared_error(y_test, xgb_preds)\n",
    "xgb_r2 = r2_score(y_test, xgb_preds)\n",
    "print('MSE:', xgb_MSE)\n",
    "print('R2:', xgb_r2)"
   ]
  },
  {
   "cell_type": "code",
   "execution_count": 21,
   "metadata": {},
   "outputs": [
    {
     "data": {
      "image/png": "[encoded data removed]",
      "text/plain": [
       "<Figure size 1008x360 with 2 Axes>"
      ]
     },
     "metadata": {
      "needs_background": "light"
     },
     "output_type": "display_data"
    }
   ],
   "source": [
    "figure, axes = plt.subplots(ncols=2, figsize=(14,5))\n",
    "\n",
    "sns.scatterplot(x=xgb_preds, y=xgb_resids, ax=axes[0])\n",
    "axes[0].set_title('XGB Residual Plot')\n",
    "axes[0].set(xlabel='Predictions', ylabel='Residuals')\n",
    "sns.scatterplot(x=xgb_preds, y=y_test, ax=axes[1])\n",
    "axes[1].set_title('XGB Predications v. Actuals')\n",
    "axes[1].set(xlabel='Predictions', ylabel='Actuals')\n",
    "\n",
    "plt.setp(axes, yticks=[])\n",
    "plt.tight_layout()"
   ]
  },
  {
   "cell_type": "markdown",
   "metadata": {},
   "source": [
    "#### Elastic Net Model"
   ]
  },
  {
   "cell_type": "code",
   "execution_count": 22,
   "metadata": {},
   "outputs": [],
   "source": [
    "# use standardized inputs for ENet\n",
    "\n",
    "# use GridSearchCV for finding optimal hyperparams\n",
    "search = GridSearchCV(ElasticNet(max_iter=5000, random_state=35, tol=0.1), param_grid={'alpha':np.logspace(-5, 2, 8), 'l1_ratio':[.2, .4, .6, .8,]},\n",
    "                      scoring='neg_mean_squared_error',n_jobs=1,refit=True,cv=10, verbose=1)"
   ]
  },
  {
   "cell_type": "code",
   "execution_count": 23,
   "metadata": {},
   "outputs": [
    {
     "name": "stdout",
     "output_type": "stream",
     "text": [
      "Fitting 10 folds for each of 32 candidates, totalling 320 fits\n"
     ]
    },
    {
     "name": "stderr",
     "output_type": "stream",
     "text": [
      "[Parallel(n_jobs=1)]: Using backend SequentialBackend with 1 concurrent workers.\n",
      "C:\\Users\\nkraj\\Anaconda3\\lib\\site-packages\\sklearn\\linear_model\\_coordinate_descent.py:531: ConvergenceWarning: Objective did not converge. You might want to increase the number of iterations. Duality gap: 2474.2810317800227, tolerance: 787.224653112479\n",
      "  positive)\n",
      "C:\\Users\\nkraj\\Anaconda3\\lib\\site-packages\\sklearn\\linear_model\\_coordinate_descent.py:531: ConvergenceWarning: Objective did not converge. You might want to increase the number of iterations. Duality gap: 2407.772012977907, tolerance: 736.7074974665759\n",
      "  positive)\n",
      "C:\\Users\\nkraj\\Anaconda3\\lib\\site-packages\\sklearn\\linear_model\\_coordinate_descent.py:531: ConvergenceWarning: Objective did not converge. You might want to increase the number of iterations. Duality gap: 2635.2845103386744, tolerance: 848.3672255175487\n",
      "  positive)\n",
      "C:\\Users\\nkraj\\Anaconda3\\lib\\site-packages\\sklearn\\linear_model\\_coordinate_descent.py:531: ConvergenceWarning: Objective did not converge. You might want to increase the number of iterations. Duality gap: 2389.618388839309, tolerance: 738.0167662912975\n",
      "  positive)\n",
      "C:\\Users\\nkraj\\Anaconda3\\lib\\site-packages\\sklearn\\linear_model\\_coordinate_descent.py:531: ConvergenceWarning: Objective did not converge. You might want to increase the number of iterations. Duality gap: 2517.4887641867044, tolerance: 811.3858413915266\n",
      "  positive)\n",
      "C:\\Users\\nkraj\\Anaconda3\\lib\\site-packages\\sklearn\\linear_model\\_coordinate_descent.py:531: ConvergenceWarning: Objective did not converge. You might want to increase the number of iterations. Duality gap: 2555.5570150359213, tolerance: 777.8127401784743\n",
      "  positive)\n",
      "C:\\Users\\nkraj\\Anaconda3\\lib\\site-packages\\sklearn\\linear_model\\_coordinate_descent.py:531: ConvergenceWarning: Objective did not converge. You might want to increase the number of iterations. Duality gap: 2387.6994026268108, tolerance: 752.2295733836527\n",
      "  positive)\n",
      "C:\\Users\\nkraj\\Anaconda3\\lib\\site-packages\\sklearn\\linear_model\\_coordinate_descent.py:531: ConvergenceWarning: Objective did not converge. You might want to increase the number of iterations. Duality gap: 2595.9743829121003, tolerance: 850.5810782880094\n",
      "  positive)\n",
      "C:\\Users\\nkraj\\Anaconda3\\lib\\site-packages\\sklearn\\linear_model\\_coordinate_descent.py:531: ConvergenceWarning: Objective did not converge. You might want to increase the number of iterations. Duality gap: 2358.9639749818675, tolerance: 723.1999893716807\n",
      "  positive)\n",
      "C:\\Users\\nkraj\\Anaconda3\\lib\\site-packages\\sklearn\\linear_model\\_coordinate_descent.py:531: ConvergenceWarning: Objective did not converge. You might want to increase the number of iterations. Duality gap: 2435.2432445608615, tolerance: 794.9225416057308\n",
      "  positive)\n",
      "C:\\Users\\nkraj\\Anaconda3\\lib\\site-packages\\sklearn\\linear_model\\_coordinate_descent.py:531: ConvergenceWarning: Objective did not converge. You might want to increase the number of iterations. Duality gap: 2432.1704814565774, tolerance: 787.224653112479\n",
      "  positive)\n",
      "C:\\Users\\nkraj\\Anaconda3\\lib\\site-packages\\sklearn\\linear_model\\_coordinate_descent.py:531: ConvergenceWarning: Objective did not converge. You might want to increase the number of iterations. Duality gap: 2376.481433692674, tolerance: 736.7074974665759\n",
      "  positive)\n",
      "C:\\Users\\nkraj\\Anaconda3\\lib\\site-packages\\sklearn\\linear_model\\_coordinate_descent.py:531: ConvergenceWarning: Objective did not converge. You might want to increase the number of iterations. Duality gap: 2606.823619791394, tolerance: 848.3672255175487\n",
      "  positive)\n",
      "C:\\Users\\nkraj\\Anaconda3\\lib\\site-packages\\sklearn\\linear_model\\_coordinate_descent.py:531: ConvergenceWarning: Objective did not converge. You might want to increase the number of iterations. Duality gap: 2363.749382378478, tolerance: 738.0167662912975\n",
      "  positive)\n",
      "C:\\Users\\nkraj\\Anaconda3\\lib\\site-packages\\sklearn\\linear_model\\_coordinate_descent.py:531: ConvergenceWarning: Objective did not converge. You might want to increase the number of iterations. Duality gap: 2453.702071040656, tolerance: 811.3858413915266\n",
      "  positive)\n",
      "C:\\Users\\nkraj\\Anaconda3\\lib\\site-packages\\sklearn\\linear_model\\_coordinate_descent.py:531: ConvergenceWarning: Objective did not converge. You might want to increase the number of iterations. Duality gap: 2530.514303062546, tolerance: 777.8127401784743\n",
      "  positive)\n",
      "C:\\Users\\nkraj\\Anaconda3\\lib\\site-packages\\sklearn\\linear_model\\_coordinate_descent.py:531: ConvergenceWarning: Objective did not converge. You might want to increase the number of iterations. Duality gap: 2360.165164505819, tolerance: 752.2295733836527\n",
      "  positive)\n",
      "C:\\Users\\nkraj\\Anaconda3\\lib\\site-packages\\sklearn\\linear_model\\_coordinate_descent.py:531: ConvergenceWarning: Objective did not converge. You might want to increase the number of iterations. Duality gap: 2559.417971835776, tolerance: 850.5810782880094\n",
      "  positive)\n",
      "C:\\Users\\nkraj\\Anaconda3\\lib\\site-packages\\sklearn\\linear_model\\_coordinate_descent.py:531: ConvergenceWarning: Objective did not converge. You might want to increase the number of iterations. Duality gap: 2335.9736195817895, tolerance: 723.1999893716807\n",
      "  positive)\n",
      "C:\\Users\\nkraj\\Anaconda3\\lib\\site-packages\\sklearn\\linear_model\\_coordinate_descent.py:531: ConvergenceWarning: Objective did not converge. You might want to increase the number of iterations. Duality gap: 2382.8341036477614, tolerance: 794.9225416057308\n",
      "  positive)\n",
      "C:\\Users\\nkraj\\Anaconda3\\lib\\site-packages\\sklearn\\linear_model\\_coordinate_descent.py:531: ConvergenceWarning: Objective did not converge. You might want to increase the number of iterations. Duality gap: 2392.8110795477005, tolerance: 787.224653112479\n",
      "  positive)\n",
      "C:\\Users\\nkraj\\Anaconda3\\lib\\site-packages\\sklearn\\linear_model\\_coordinate_descent.py:531: ConvergenceWarning: Objective did not converge. You might want to increase the number of iterations. Duality gap: 2344.8911843641845, tolerance: 736.7074974665759\n",
      "  positive)\n",
      "C:\\Users\\nkraj\\Anaconda3\\lib\\site-packages\\sklearn\\linear_model\\_coordinate_descent.py:531: ConvergenceWarning: Objective did not converge. You might want to increase the number of iterations. Duality gap: 2578.8604971399627, tolerance: 848.3672255175487\n",
      "  positive)\n",
      "C:\\Users\\nkraj\\Anaconda3\\lib\\site-packages\\sklearn\\linear_model\\_coordinate_descent.py:531: ConvergenceWarning: Objective did not converge. You might want to increase the number of iterations. Duality gap: 2338.636570487705, tolerance: 738.0167662912975\n",
      "  positive)\n",
      "C:\\Users\\nkraj\\Anaconda3\\lib\\site-packages\\sklearn\\linear_model\\_coordinate_descent.py:531: ConvergenceWarning: Objective did not converge. You might want to increase the number of iterations. Duality gap: 2393.1904428413336, tolerance: 811.3858413915266\n",
      "  positive)\n",
      "C:\\Users\\nkraj\\Anaconda3\\lib\\site-packages\\sklearn\\linear_model\\_coordinate_descent.py:531: ConvergenceWarning: Objective did not converge. You might want to increase the number of iterations. Duality gap: 2506.5309450866434, tolerance: 777.8127401784743\n",
      "  positive)\n",
      "C:\\Users\\nkraj\\Anaconda3\\lib\\site-packages\\sklearn\\linear_model\\_coordinate_descent.py:531: ConvergenceWarning: Objective did not converge. You might want to increase the number of iterations. Duality gap: 2333.1201031915643, tolerance: 752.2295733836527\n",
      "  positive)\n",
      "C:\\Users\\nkraj\\Anaconda3\\lib\\site-packages\\sklearn\\linear_model\\_coordinate_descent.py:531: ConvergenceWarning: Objective did not converge. You might want to increase the number of iterations. Duality gap: 2523.716124120293, tolerance: 850.5810782880094\n",
      "  positive)\n",
      "C:\\Users\\nkraj\\Anaconda3\\lib\\site-packages\\sklearn\\linear_model\\_coordinate_descent.py:531: ConvergenceWarning: Objective did not converge. You might want to increase the number of iterations. Duality gap: 2313.7014051948013, tolerance: 723.1999893716807\n",
      "  positive)\n",
      "C:\\Users\\nkraj\\Anaconda3\\lib\\site-packages\\sklearn\\linear_model\\_coordinate_descent.py:531: ConvergenceWarning: Objective did not converge. You might want to increase the number of iterations. Duality gap: 2333.439304929136, tolerance: 794.9225416057308\n",
      "  positive)\n",
      "C:\\Users\\nkraj\\Anaconda3\\lib\\site-packages\\sklearn\\linear_model\\_coordinate_descent.py:531: ConvergenceWarning: Objective did not converge. You might want to increase the number of iterations. Duality gap: 2355.9908578219765, tolerance: 787.224653112479\n",
      "  positive)\n",
      "C:\\Users\\nkraj\\Anaconda3\\lib\\site-packages\\sklearn\\linear_model\\_coordinate_descent.py:531: ConvergenceWarning: Objective did not converge. You might want to increase the number of iterations. Duality gap: 2312.9778280644064, tolerance: 736.7074974665759\n",
      "  positive)\n",
      "C:\\Users\\nkraj\\Anaconda3\\lib\\site-packages\\sklearn\\linear_model\\_coordinate_descent.py:531: ConvergenceWarning: Objective did not converge. You might want to increase the number of iterations. Duality gap: 2551.385322721717, tolerance: 848.3672255175487\n",
      "  positive)\n",
      "C:\\Users\\nkraj\\Anaconda3\\lib\\site-packages\\sklearn\\linear_model\\_coordinate_descent.py:531: ConvergenceWarning: Objective did not converge. You might want to increase the number of iterations. Duality gap: 2314.2541634685344, tolerance: 738.0167662912975\n",
      "  positive)\n"
     ]
    },
    {
     "name": "stderr",
     "output_type": "stream",
     "text": [
      "C:\\Users\\nkraj\\Anaconda3\\lib\\site-packages\\sklearn\\linear_model\\_coordinate_descent.py:531: ConvergenceWarning: Objective did not converge. You might want to increase the number of iterations. Duality gap: 2335.708962088316, tolerance: 811.3858413915266\n",
      "  positive)\n",
      "C:\\Users\\nkraj\\Anaconda3\\lib\\site-packages\\sklearn\\linear_model\\_coordinate_descent.py:531: ConvergenceWarning: Objective did not converge. You might want to increase the number of iterations. Duality gap: 2483.553954374998, tolerance: 777.8127401784743\n",
      "  positive)\n",
      "C:\\Users\\nkraj\\Anaconda3\\lib\\site-packages\\sklearn\\linear_model\\_coordinate_descent.py:531: ConvergenceWarning: Objective did not converge. You might want to increase the number of iterations. Duality gap: 2306.5468110481193, tolerance: 752.2295733836527\n",
      "  positive)\n",
      "C:\\Users\\nkraj\\Anaconda3\\lib\\site-packages\\sklearn\\linear_model\\_coordinate_descent.py:531: ConvergenceWarning: Objective did not converge. You might want to increase the number of iterations. Duality gap: 2488.8427804813387, tolerance: 850.5810782880094\n",
      "  positive)\n",
      "C:\\Users\\nkraj\\Anaconda3\\lib\\site-packages\\sklearn\\linear_model\\_coordinate_descent.py:531: ConvergenceWarning: Objective did not converge. You might want to increase the number of iterations. Duality gap: 2292.1180855271728, tolerance: 723.1999893716807\n",
      "  positive)\n",
      "C:\\Users\\nkraj\\Anaconda3\\lib\\site-packages\\sklearn\\linear_model\\_coordinate_descent.py:531: ConvergenceWarning: Objective did not converge. You might want to increase the number of iterations. Duality gap: 2286.8331788436913, tolerance: 794.9225416057308\n",
      "  positive)\n",
      "C:\\Users\\nkraj\\Anaconda3\\lib\\site-packages\\sklearn\\linear_model\\_coordinate_descent.py:531: ConvergenceWarning: Objective did not converge. You might want to increase the number of iterations. Duality gap: 1126.1397950848138, tolerance: 787.224653112479\n",
      "  positive)\n",
      "C:\\Users\\nkraj\\Anaconda3\\lib\\site-packages\\sklearn\\linear_model\\_coordinate_descent.py:531: ConvergenceWarning: Objective did not converge. You might want to increase the number of iterations. Duality gap: 2053.4878033995046, tolerance: 736.7074974665759\n",
      "  positive)\n",
      "C:\\Users\\nkraj\\Anaconda3\\lib\\site-packages\\sklearn\\linear_model\\_coordinate_descent.py:531: ConvergenceWarning: Objective did not converge. You might want to increase the number of iterations. Duality gap: 2207.973656538005, tolerance: 848.3672255175487\n",
      "  positive)\n",
      "C:\\Users\\nkraj\\Anaconda3\\lib\\site-packages\\sklearn\\linear_model\\_coordinate_descent.py:531: ConvergenceWarning: Objective did not converge. You might want to increase the number of iterations. Duality gap: 1941.0833481116333, tolerance: 738.0167662912975\n",
      "  positive)\n",
      "C:\\Users\\nkraj\\Anaconda3\\lib\\site-packages\\sklearn\\linear_model\\_coordinate_descent.py:531: ConvergenceWarning: Objective did not converge. You might want to increase the number of iterations. Duality gap: 1146.6881192737574, tolerance: 811.3858413915266\n",
      "  positive)\n",
      "C:\\Users\\nkraj\\Anaconda3\\lib\\site-packages\\sklearn\\linear_model\\_coordinate_descent.py:531: ConvergenceWarning: Objective did not converge. You might want to increase the number of iterations. Duality gap: 2049.7811105141795, tolerance: 777.8127401784743\n",
      "  positive)\n",
      "C:\\Users\\nkraj\\Anaconda3\\lib\\site-packages\\sklearn\\linear_model\\_coordinate_descent.py:531: ConvergenceWarning: Objective did not converge. You might want to increase the number of iterations. Duality gap: 1972.368069138555, tolerance: 752.2295733836527\n",
      "  positive)\n",
      "C:\\Users\\nkraj\\Anaconda3\\lib\\site-packages\\sklearn\\linear_model\\_coordinate_descent.py:531: ConvergenceWarning: Objective did not converge. You might want to increase the number of iterations. Duality gap: 1995.0873136167315, tolerance: 850.5810782880094\n",
      "  positive)\n",
      "C:\\Users\\nkraj\\Anaconda3\\lib\\site-packages\\sklearn\\linear_model\\_coordinate_descent.py:531: ConvergenceWarning: Objective did not converge. You might want to increase the number of iterations. Duality gap: 1962.2947184874056, tolerance: 723.1999893716807\n",
      "  positive)\n",
      "C:\\Users\\nkraj\\Anaconda3\\lib\\site-packages\\sklearn\\linear_model\\_coordinate_descent.py:531: ConvergenceWarning: Objective did not converge. You might want to increase the number of iterations. Duality gap: 1096.3915103802344, tolerance: 794.9225416057308\n",
      "  positive)\n",
      "C:\\Users\\nkraj\\Anaconda3\\lib\\site-packages\\sklearn\\linear_model\\_coordinate_descent.py:531: ConvergenceWarning: Objective did not converge. You might want to increase the number of iterations. Duality gap: 800.9198264970642, tolerance: 787.224653112479\n",
      "  positive)\n",
      "C:\\Users\\nkraj\\Anaconda3\\lib\\site-packages\\sklearn\\linear_model\\_coordinate_descent.py:531: ConvergenceWarning: Objective did not converge. You might want to increase the number of iterations. Duality gap: 1692.0109290073062, tolerance: 736.7074974665759\n",
      "  positive)\n",
      "C:\\Users\\nkraj\\Anaconda3\\lib\\site-packages\\sklearn\\linear_model\\_coordinate_descent.py:531: ConvergenceWarning: Objective did not converge. You might want to increase the number of iterations. Duality gap: 1847.6435045561577, tolerance: 848.3672255175487\n",
      "  positive)\n",
      "C:\\Users\\nkraj\\Anaconda3\\lib\\site-packages\\sklearn\\linear_model\\_coordinate_descent.py:531: ConvergenceWarning: Objective did not converge. You might want to increase the number of iterations. Duality gap: 1613.1133973606497, tolerance: 738.0167662912975\n",
      "  positive)\n",
      "C:\\Users\\nkraj\\Anaconda3\\lib\\site-packages\\sklearn\\linear_model\\_coordinate_descent.py:531: ConvergenceWarning: Objective did not converge. You might want to increase the number of iterations. Duality gap: 1752.3885745859611, tolerance: 777.8127401784743\n",
      "  positive)\n",
      "C:\\Users\\nkraj\\Anaconda3\\lib\\site-packages\\sklearn\\linear_model\\_coordinate_descent.py:531: ConvergenceWarning: Objective did not converge. You might want to increase the number of iterations. Duality gap: 1647.7834346905897, tolerance: 752.2295733836527\n",
      "  positive)\n",
      "C:\\Users\\nkraj\\Anaconda3\\lib\\site-packages\\sklearn\\linear_model\\_coordinate_descent.py:531: ConvergenceWarning: Objective did not converge. You might want to increase the number of iterations. Duality gap: 1528.2037481834263, tolerance: 850.5810782880094\n",
      "  positive)\n",
      "C:\\Users\\nkraj\\Anaconda3\\lib\\site-packages\\sklearn\\linear_model\\_coordinate_descent.py:531: ConvergenceWarning: Objective did not converge. You might want to increase the number of iterations. Duality gap: 1683.6535661619864, tolerance: 723.1999893716807\n",
      "  positive)\n",
      "C:\\Users\\nkraj\\Anaconda3\\lib\\site-packages\\sklearn\\linear_model\\_coordinate_descent.py:531: ConvergenceWarning: Objective did not converge. You might want to increase the number of iterations. Duality gap: 1349.4445942059906, tolerance: 736.7074974665759\n",
      "  positive)\n",
      "C:\\Users\\nkraj\\Anaconda3\\lib\\site-packages\\sklearn\\linear_model\\_coordinate_descent.py:531: ConvergenceWarning: Objective did not converge. You might want to increase the number of iterations. Duality gap: 1562.8408394489823, tolerance: 848.3672255175487\n",
      "  positive)\n",
      "C:\\Users\\nkraj\\Anaconda3\\lib\\site-packages\\sklearn\\linear_model\\_coordinate_descent.py:531: ConvergenceWarning: Objective did not converge. You might want to increase the number of iterations. Duality gap: 1382.4872902015966, tolerance: 738.0167662912975\n",
      "  positive)\n",
      "C:\\Users\\nkraj\\Anaconda3\\lib\\site-packages\\sklearn\\linear_model\\_coordinate_descent.py:531: ConvergenceWarning: Objective did not converge. You might want to increase the number of iterations. Duality gap: 1572.4774691404252, tolerance: 777.8127401784743\n",
      "  positive)\n",
      "C:\\Users\\nkraj\\Anaconda3\\lib\\site-packages\\sklearn\\linear_model\\_coordinate_descent.py:531: ConvergenceWarning: Objective did not converge. You might want to increase the number of iterations. Duality gap: 1354.1891762064815, tolerance: 752.2295733836527\n",
      "  positive)\n",
      "C:\\Users\\nkraj\\Anaconda3\\lib\\site-packages\\sklearn\\linear_model\\_coordinate_descent.py:531: ConvergenceWarning: Objective did not converge. You might want to increase the number of iterations. Duality gap: 1183.8624787944323, tolerance: 850.5810782880094\n",
      "  positive)\n",
      "C:\\Users\\nkraj\\Anaconda3\\lib\\site-packages\\sklearn\\linear_model\\_coordinate_descent.py:531: ConvergenceWarning: Objective did not converge. You might want to increase the number of iterations. Duality gap: 1489.0649962369375, tolerance: 723.1999893716807\n",
      "  positive)\n"
     ]
    },
    {
     "name": "stderr",
     "output_type": "stream",
     "text": [
      "C:\\Users\\nkraj\\Anaconda3\\lib\\site-packages\\sklearn\\linear_model\\_coordinate_descent.py:531: ConvergenceWarning: Objective did not converge. You might want to increase the number of iterations. Duality gap: 1018.9015359125528, tolerance: 736.7074974665759\n",
      "  positive)\n",
      "C:\\Users\\nkraj\\Anaconda3\\lib\\site-packages\\sklearn\\linear_model\\_coordinate_descent.py:531: ConvergenceWarning: Objective did not converge. You might want to increase the number of iterations. Duality gap: 1336.8303829174044, tolerance: 848.3672255175487\n",
      "  positive)\n",
      "C:\\Users\\nkraj\\Anaconda3\\lib\\site-packages\\sklearn\\linear_model\\_coordinate_descent.py:531: ConvergenceWarning: Objective did not converge. You might want to increase the number of iterations. Duality gap: 1217.3859868922154, tolerance: 738.0167662912975\n",
      "  positive)\n",
      "C:\\Users\\nkraj\\Anaconda3\\lib\\site-packages\\sklearn\\linear_model\\_coordinate_descent.py:531: ConvergenceWarning: Objective did not converge. You might want to increase the number of iterations. Duality gap: 1458.3769306362628, tolerance: 777.8127401784743\n",
      "  positive)\n",
      "C:\\Users\\nkraj\\Anaconda3\\lib\\site-packages\\sklearn\\linear_model\\_coordinate_descent.py:531: ConvergenceWarning: Objective did not converge. You might want to increase the number of iterations. Duality gap: 1113.3765312276187, tolerance: 752.2295733836527\n",
      "  positive)\n",
      "C:\\Users\\nkraj\\Anaconda3\\lib\\site-packages\\sklearn\\linear_model\\_coordinate_descent.py:531: ConvergenceWarning: Objective did not converge. You might want to increase the number of iterations. Duality gap: 925.9496075670863, tolerance: 850.5810782880094\n",
      "  positive)\n",
      "C:\\Users\\nkraj\\Anaconda3\\lib\\site-packages\\sklearn\\linear_model\\_coordinate_descent.py:531: ConvergenceWarning: Objective did not converge. You might want to increase the number of iterations. Duality gap: 1347.2968802881212, tolerance: 723.1999893716807\n",
      "  positive)\n",
      "[Parallel(n_jobs=1)]: Done 320 out of 320 | elapsed:    5.2s finished\n"
     ]
    },
    {
     "data": {
      "text/plain": [
       "GridSearchCV(cv=10,\n",
       "             estimator=ElasticNet(max_iter=5000, random_state=35, tol=0.1),\n",
       "             n_jobs=1,\n",
       "             param_grid={'alpha': array([1.e-05, 1.e-04, 1.e-03, 1.e-02, 1.e-01, 1.e+00, 1.e+01, 1.e+02]),\n",
       "                         'l1_ratio': [0.2, 0.4, 0.6, 0.8]},\n",
       "             scoring='neg_mean_squared_error', verbose=1)"
      ]
     },
     "execution_count": 23,
     "metadata": {},
     "output_type": "execute_result"
    }
   ],
   "source": [
    "search.fit(X_train_standard, y_train)"
   ]
  },
  {
   "cell_type": "code",
   "execution_count": 24,
   "metadata": {},
   "outputs": [
    {
     "name": "stdout",
     "output_type": "stream",
     "text": [
      "ENet MSE: 8.028231538659586\n",
      "ENet R2: 0.29134096273573007\n"
     ]
    }
   ],
   "source": [
    "enet_model = search.best_estimator_\n",
    "\n",
    "# use best enet model and save predictions\n",
    "enet_preds=enet_model.predict(X_test_standard)\n",
    "\n",
    "enet_resids = (y_test - enet_preds)\n",
    "\n",
    "enet_MSE = mean_squared_error(y_test, enet_preds)\n",
    "enet_r2 = r2_score(y_test, enet_preds)\n",
    "print('ENet MSE:', enet_MSE)\n",
    "print('ENet R2:', enet_r2)"
   ]
  },
  {
   "cell_type": "code",
   "execution_count": 25,
   "metadata": {},
   "outputs": [
    {
     "data": {
      "image/png": "[encoded data removed]",
      "text/plain": [
       "<Figure size 1008x360 with 2 Axes>"
      ]
     },
     "metadata": {
      "needs_background": "light"
     },
     "output_type": "display_data"
    }
   ],
   "source": [
    "figure, axes = plt.subplots(ncols=2, figsize=(14,5))\n",
    "\n",
    "sns.scatterplot(x=enet_preds, y=enet_resids, ax=axes[0])\n",
    "axes[0].set_title('ENet Residual Plot')\n",
    "axes[0].set(xlabel='Predictions', ylabel='Residuals')\n",
    "sns.scatterplot(x=enet_preds, y=y_test, ax=axes[1])\n",
    "axes[1].set_title('ENet Predications v. Actuals')\n",
    "axes[1].set(xlabel='Predictions', ylabel='Actuals')\n",
    "\n",
    "plt.setp(axes, yticks=[])\n",
    "plt.tight_layout()"
   ]
  },
  {
   "cell_type": "markdown",
   "metadata": {},
   "source": [
    "#### LightGB Model"
   ]
  },
  {
   "cell_type": "code",
   "execution_count": 32,
   "metadata": {},
   "outputs": [],
   "source": [
    "# Tune hyperparamters using Bayesian Hyperparamter Optimization\n",
    "def bayes_parameter_opt_lgb(X, y, init_round=20, opt_round=30, n_folds=5, random_seed=6, \n",
    "                            n_estimators=1000, learning_rate=0.05, output_process=False):\n",
    "  \n",
    "  train_data = lgb.Dataset(data=X, label=y)\n",
    "\n",
    "  def lgb_eval(num_leaves, feature_fraction, bagging_fraction, max_depth,\n",
    "               lambda_l1, lambda_l2, min_split_gain, min_child_weight):\n",
    "    \n",
    "    params = {\n",
    "        'objective':'regression',\n",
    "        'learning_rate':learning_rate, \n",
    "        'metric':'rmse'\n",
    "        }\n",
    "    params[\"num_leaves\"] = int(round(num_leaves))\n",
    "    params['feature_fraction'] = max(min(feature_fraction, 1), 0)\n",
    "    params['bagging_fraction'] = max(min(bagging_fraction, 1), 0)\n",
    "    params['max_depth'] = int(round(max_depth))\n",
    "    params['lambda_l1'] = max(lambda_l1, 0)\n",
    "    params['lambda_l2'] = max(lambda_l2, 0)\n",
    "    params['min_split_gain'] = min_split_gain\n",
    "    params['min_child_weight'] = min_child_weight\n",
    "\n",
    "    cv_result = lgb.cv(params, train_data, num_boost_round=1000, nfold=3, seed=random_seed,\n",
    "                           stratified=False, verbose_eval =200, metrics=['rmse'])\n",
    "\n",
    "    return min(cv_result['rmse-mean'])\n",
    "\n",
    "    # setting range of the parameters\n",
    "  lgbBO = BayesianOptimization(lgb_eval, {'num_leaves': (24, 45),\n",
    "                                          'feature_fraction': (0.1, 0.9),\n",
    "                                          'bagging_fraction': (0.5, 1),\n",
    "                                          'max_depth': (5, 8.99),\n",
    "                                          'lambda_l1': (0, 5),\n",
    "                                          'lambda_l2': (0, 3),\n",
    "                                          'min_split_gain': (0.001, 0.1),\n",
    "                                          'min_child_weight': (5, 25)}, random_state=0)\n",
    "  # optimize\n",
    "  lgbBO.maximize(init_points=init_round, n_iter=opt_round)\n",
    "    \n",
    "  # output optimization process\n",
    "  if output_process==True: lgbBO.points_to_csv(\"bayes_opt_result.csv\")\n",
    "    \n",
    "  # return\n",
    "  return lgbBO"
   ]
  },
  {
   "cell_type": "code",
   "execution_count": 33,
   "metadata": {},
   "outputs": [
    {
     "name": "stdout",
     "output_type": "stream",
     "text": [
      "|   iter    |  target   | baggin... | featur... | lambda_l1 | lambda_l2 | max_depth | min_ch... | min_sp... | num_le... |\n",
      "-------------------------------------------------------------------------------------------------------------------------\n",
      "[200]\tcv_agg's rmse: 2.94337 + 0.0823205\n",
      "[400]\tcv_agg's rmse: 3.05621 + 0.0885269\n",
      "[600]\tcv_agg's rmse: 3.06328 + 0.0838544\n",
      "[800]\tcv_agg's rmse: 3.06328 + 0.0838544\n",
      "[1000]\tcv_agg's rmse: 3.06328 + 0.0838544\n",
      "| \u001b[0m 1       \u001b[0m | \u001b[0m 2.792   \u001b[0m | \u001b[0m 0.7744  \u001b[0m | \u001b[0m 0.6722  \u001b[0m | \u001b[0m 3.014   \u001b[0m | \u001b[0m 1.635   \u001b[0m | \u001b[0m 6.69    \u001b[0m | \u001b[0m 17.92   \u001b[0m | \u001b[0m 0.04432 \u001b[0m | \u001b[0m 42.73   \u001b[0m |\n",
      "[200]\tcv_agg's rmse: 2.89844 + 0.0971212\n",
      "[400]\tcv_agg's rmse: 3.01028 + 0.077886\n",
      "[600]\tcv_agg's rmse: 3.07719 + 0.0816531\n",
      "[800]\tcv_agg's rmse: 3.10878 + 0.0789332\n",
      "[1000]\tcv_agg's rmse: 3.11434 + 0.071111\n",
      "| \u001b[0m 2       \u001b[0m | \u001b[0m 2.767   \u001b[0m | \u001b[0m 0.9818  \u001b[0m | \u001b[0m 0.4068  \u001b[0m | \u001b[0m 3.959   \u001b[0m | \u001b[0m 1.587   \u001b[0m | \u001b[0m 7.266   \u001b[0m | \u001b[0m 23.51   \u001b[0m | \u001b[0m 0.008033\u001b[0m | \u001b[0m 25.83   \u001b[0m |\n",
      "[200]\tcv_agg's rmse: 2.9605 + 0.0791433\n",
      "[400]\tcv_agg's rmse: 3.0372 + 0.0796182\n",
      "[600]\tcv_agg's rmse: 3.0372 + 0.0796182\n",
      "[800]\tcv_agg's rmse: 3.0372 + 0.0796182\n",
      "[1000]\tcv_agg's rmse: 3.0372 + 0.0796182\n",
      "| \u001b[0m 3       \u001b[0m | \u001b[0m 2.788   \u001b[0m | \u001b[0m 0.5101  \u001b[0m | \u001b[0m 0.7661  \u001b[0m | \u001b[0m 3.891   \u001b[0m | \u001b[0m 2.61    \u001b[0m | \u001b[0m 8.905   \u001b[0m | \u001b[0m 20.98   \u001b[0m | \u001b[0m 0.04669 \u001b[0m | \u001b[0m 40.39   \u001b[0m |\n",
      "[200]\tcv_agg's rmse: 2.95674 + 0.088506\n",
      "[400]\tcv_agg's rmse: 3.06251 + 0.116344\n",
      "[600]\tcv_agg's rmse: 3.12953 + 0.115688\n",
      "[800]\tcv_agg's rmse: 3.17697 + 0.112123\n",
      "[1000]\tcv_agg's rmse: 3.20118 + 0.103536\n",
      "| \u001b[95m 4       \u001b[0m | \u001b[95m 2.797   \u001b[0m | \u001b[95m 0.5591  \u001b[0m | \u001b[95m 0.6119  \u001b[0m | \u001b[95m 0.7168  \u001b[0m | \u001b[95m 2.834   \u001b[0m | \u001b[95m 7.082   \u001b[0m | \u001b[95m 13.29   \u001b[0m | \u001b[95m 0.02719 \u001b[0m | \u001b[95m 40.26   \u001b[0m |\n",
      "[200]\tcv_agg's rmse: 2.92262 + 0.0932251\n",
      "[400]\tcv_agg's rmse: 3.0179 + 0.105707\n",
      "[600]\tcv_agg's rmse: 3.07907 + 0.104596\n",
      "[800]\tcv_agg's rmse: 3.12309 + 0.103069\n",
      "[1000]\tcv_agg's rmse: 3.12926 + 0.0986391\n",
      "| \u001b[0m 5       \u001b[0m | \u001b[0m 2.775   \u001b[0m | \u001b[0m 0.7281  \u001b[0m | \u001b[0m 0.5547  \u001b[0m | \u001b[0m 0.09395 \u001b[0m | \u001b[0m 1.853   \u001b[0m | \u001b[0m 7.442   \u001b[0m | \u001b[0m 17.34   \u001b[0m | \u001b[0m 0.09443 \u001b[0m | \u001b[0m 38.32   \u001b[0m |\n",
      "[200]\tcv_agg's rmse: 2.97024 + 0.0841557\n",
      "[400]\tcv_agg's rmse: 3.06904 + 0.0889234\n",
      "[600]\tcv_agg's rmse: 3.0862 + 0.0797482\n",
      "[800]\tcv_agg's rmse: 3.0862 + 0.0797482\n",
      "[1000]\tcv_agg's rmse: 3.0862 + 0.0797482\n",
      "| \u001b[95m 6       \u001b[0m | \u001b[95m 2.797   \u001b[0m | \u001b[95m 0.8072  \u001b[0m | \u001b[95m 0.7539  \u001b[0m | \u001b[95m 3.548   \u001b[0m | \u001b[95m 2.241   \u001b[0m | \u001b[95m 8.096   \u001b[0m | \u001b[95m 19.07   \u001b[0m | \u001b[95m 0.01252 \u001b[0m | \u001b[95m 31.01   \u001b[0m |\n",
      "[200]\tcv_agg's rmse: 2.95194 + 0.0840052\n",
      "[400]\tcv_agg's rmse: 3.02818 + 0.0843349\n",
      "[600]\tcv_agg's rmse: 3.02818 + 0.0843349\n",
      "[800]\tcv_agg's rmse: 3.02818 + 0.0843349\n",
      "[1000]\tcv_agg's rmse: 3.02818 + 0.0843349\n",
      "| \u001b[0m 7       \u001b[0m | \u001b[0m 2.789   \u001b[0m | \u001b[0m 0.8829  \u001b[0m | \u001b[0m 0.6215  \u001b[0m | \u001b[0m 3.512   \u001b[0m | \u001b[0m 1.874   \u001b[0m | \u001b[0m 7.816   \u001b[0m | \u001b[0m 21.22   \u001b[0m | \u001b[0m 0.07113 \u001b[0m | \u001b[0m 41.75   \u001b[0m |\n",
      "[200]\tcv_agg's rmse: 2.94074 + 0.0776309\n",
      "[400]\tcv_agg's rmse: 3.05494 + 0.0908282\n",
      "[600]\tcv_agg's rmse: 3.11587 + 0.0904249\n",
      "[800]\tcv_agg's rmse: 3.15571 + 0.0880385\n",
      "[1000]\tcv_agg's rmse: 3.15571 + 0.0880385\n",
      "| \u001b[0m 8       \u001b[0m | \u001b[0m 2.793   \u001b[0m | \u001b[0m 0.5927  \u001b[0m | \u001b[0m 0.665   \u001b[0m | \u001b[0m 2.091   \u001b[0m | \u001b[0m 2.663   \u001b[0m | \u001b[0m 6.75    \u001b[0m | \u001b[0m 13.87   \u001b[0m | \u001b[0m 0.009034\u001b[0m | \u001b[0m 42.24   \u001b[0m |\n",
      "[200]\tcv_agg's rmse: 2.9578 + 0.0792752\n",
      "[400]\tcv_agg's rmse: 3.05987 + 0.104486\n",
      "[600]\tcv_agg's rmse: 3.11961 + 0.107529\n",
      "[800]\tcv_agg's rmse: 3.16759 + 0.109754\n",
      "[1000]\tcv_agg's rmse: 3.20142 + 0.106265\n",
      "| \u001b[0m 9       \u001b[0m | \u001b[0m 2.795   \u001b[0m | \u001b[0m 0.5     \u001b[0m | \u001b[0m 0.6345  \u001b[0m | \u001b[0m 0.5674  \u001b[0m | \u001b[0m 3.0     \u001b[0m | \u001b[0m 6.985   \u001b[0m | \u001b[0m 10.35   \u001b[0m | \u001b[0m 0.001   \u001b[0m | \u001b[0m 40.75   \u001b[0m |\n",
      "[200]\tcv_agg's rmse: 2.95608 + 0.0795624\n",
      "[400]\tcv_agg's rmse: 3.04669 + 0.087444\n",
      "[600]\tcv_agg's rmse: 3.05415 + 0.0773677\n",
      "[800]\tcv_agg's rmse: 3.05415 + 0.0773677\n",
      "[1000]\tcv_agg's rmse: 3.05415 + 0.0773677\n",
      "| \u001b[0m 10      \u001b[0m | \u001b[0m 2.792   \u001b[0m | \u001b[0m 0.681   \u001b[0m | \u001b[0m 0.9     \u001b[0m | \u001b[0m 5.0     \u001b[0m | \u001b[0m 3.0     \u001b[0m | \u001b[0m 8.99    \u001b[0m | \u001b[0m 15.91   \u001b[0m | \u001b[0m 0.001   \u001b[0m | \u001b[0m 31.03   \u001b[0m |\n",
      "[200]\tcv_agg's rmse: 2.9332 + 0.083522\n",
      "[400]\tcv_agg's rmse: 3.00692 + 0.0817106\n",
      "[600]\tcv_agg's rmse: 3.00692 + 0.0817106\n",
      "[800]\tcv_agg's rmse: 3.00692 + 0.0817106\n",
      "[1000]\tcv_agg's rmse: 3.00692 + 0.0817106\n",
      "| \u001b[0m 11      \u001b[0m | \u001b[0m 2.783   \u001b[0m | \u001b[0m 0.5     \u001b[0m | \u001b[0m 0.7148  \u001b[0m | \u001b[0m 3.406   \u001b[0m | \u001b[0m 3.0     \u001b[0m | \u001b[0m 6.539   \u001b[0m | \u001b[0m 11.42   \u001b[0m | \u001b[0m 0.07608 \u001b[0m | \u001b[0m 38.23   \u001b[0m |\n",
      "[200]\tcv_agg's rmse: 2.96109 + 0.0961672\n",
      "[400]\tcv_agg's rmse: 3.08507 + 0.0992891\n",
      "[600]\tcv_agg's rmse: 3.15662 + 0.110956\n",
      "[800]\tcv_agg's rmse: 3.19381 + 0.104134\n",
      "[1000]\tcv_agg's rmse: 3.20226 + 0.0927473\n",
      "| \u001b[0m 12      \u001b[0m | \u001b[0m 2.788   \u001b[0m | \u001b[0m 1.0     \u001b[0m | \u001b[0m 0.1     \u001b[0m | \u001b[0m 0.0     \u001b[0m | \u001b[0m 3.0     \u001b[0m | \u001b[0m 8.99    \u001b[0m | \u001b[0m 12.23   \u001b[0m | \u001b[0m 0.09785 \u001b[0m | \u001b[0m 42.0    \u001b[0m |\n",
      "[200]\tcv_agg's rmse: 2.90098 + 0.078808\n",
      "[400]\tcv_agg's rmse: 3.01747 + 0.093932\n",
      "[600]\tcv_agg's rmse: 3.07897 + 0.0926504\n",
      "[800]\tcv_agg's rmse: 3.13563 + 0.0983567\n",
      "[1000]\tcv_agg's rmse: 3.17074 + 0.10145\n",
      "| \u001b[0m 13      \u001b[0m | \u001b[0m 2.784   \u001b[0m | \u001b[0m 0.5     \u001b[0m | \u001b[0m 0.9     \u001b[0m | \u001b[0m 0.0     \u001b[0m | \u001b[0m 3.0     \u001b[0m | \u001b[0m 5.0     \u001b[0m | \u001b[0m 12.32   \u001b[0m | \u001b[0m 0.001   \u001b[0m | \u001b[0m 41.23   \u001b[0m |\n",
      "[200]\tcv_agg's rmse: 2.97338 + 0.101083\n",
      "[400]\tcv_agg's rmse: 3.08041 + 0.113994\n",
      "[600]\tcv_agg's rmse: 3.14289 + 0.117406\n",
      "[800]\tcv_agg's rmse: 3.18697 + 0.117366\n",
      "[1000]\tcv_agg's rmse: 3.21196 + 0.115086\n",
      "| \u001b[0m 14      \u001b[0m | \u001b[0m 2.794   \u001b[0m | \u001b[0m 0.5     \u001b[0m | \u001b[0m 0.9     \u001b[0m | \u001b[0m 1.283   \u001b[0m | \u001b[0m 1.759   \u001b[0m | \u001b[0m 7.728   \u001b[0m | \u001b[0m 12.02   \u001b[0m | \u001b[0m 0.001   \u001b[0m | \u001b[0m 40.54   \u001b[0m |\n",
      "[200]\tcv_agg's rmse: 2.95608 + 0.0795624\n",
      "[400]\tcv_agg's rmse: 3.04669 + 0.087444\n",
      "[600]\tcv_agg's rmse: 3.05415 + 0.0773677\n",
      "[800]\tcv_agg's rmse: 3.05415 + 0.0773677\n",
      "[1000]\tcv_agg's rmse: 3.05415 + 0.0773677\n",
      "| \u001b[0m 15      \u001b[0m | \u001b[0m 2.792   \u001b[0m | \u001b[0m 0.9867  \u001b[0m | \u001b[0m 0.7886  \u001b[0m | \u001b[0m 5.0     \u001b[0m | \u001b[0m 3.0     \u001b[0m | \u001b[0m 8.99    \u001b[0m | \u001b[0m 19.03   \u001b[0m | \u001b[0m 0.001   \u001b[0m | \u001b[0m 32.32   \u001b[0m |\n",
      "=========================================================================================================================\n"
     ]
    }
   ],
   "source": [
    "opt_params = bayes_parameter_opt_lgb(X_train_normal, y_train, init_round=5, opt_round=10, n_folds=5, random_seed=35)"
   ]
  },
  {
   "cell_type": "code",
   "execution_count": 34,
   "metadata": {},
   "outputs": [
    {
     "data": {
      "text/plain": [
       "{'bagging_fraction': 0.8071874312473927,\n",
       " 'feature_fraction': 0.7539323273793664,\n",
       " 'lambda_l1': 3.547503176919834,\n",
       " 'lambda_l2': 2.2411369400750387,\n",
       " 'max_depth': 8.095918426268778,\n",
       " 'min_child_weight': 19.07382997774554,\n",
       " 'min_split_gain': 0.01252398236526759,\n",
       " 'num_leaves': 31.01141375588943}"
      ]
     },
     "execution_count": 34,
     "metadata": {},
     "output_type": "execute_result"
    }
   ],
   "source": [
    "params = opt_params.max['params']\n",
    "params"
   ]
  },
  {
   "cell_type": "code",
   "execution_count": 35,
   "metadata": {},
   "outputs": [],
   "source": [
    "# set params for model based on optimal params\n",
    "params = {\n",
    "    \"objective\" : \"regression\",\n",
    "    \"metric\" : \"rmse\",\n",
    "    \"bagging_frequency\" : 5,\n",
    "    \"bagging_seed\" : 2018,\n",
    "    \"verbosity\" : -1,\n",
    "    'bagging_fraction': 0.8,\n",
    "    'feature_fraction': 0.8,\n",
    "    'lambda_l1': 3.5,\n",
    "    'lambda_l2': 2.2,\n",
    "    'max_depth': 8,\n",
    "    'min_child_weight': 19,\n",
    "    'min_split_gain': 0.0,\n",
    "    'num_leaves': 31\n",
    "\n",
    "}"
   ]
  },
  {
   "cell_type": "code",
   "execution_count": 36,
   "metadata": {},
   "outputs": [],
   "source": [
    "lgb_model = lgb.LGBMRegressor(**params)"
   ]
  },
  {
   "cell_type": "code",
   "execution_count": 37,
   "metadata": {},
   "outputs": [
    {
     "name": "stdout",
     "output_type": "stream",
     "text": [
      "LGB MSE: 9.748544045801163\n",
      "LGB R2: 0.13948746931889977\n"
     ]
    }
   ],
   "source": [
    "lgb_model.fit(X_train_normal, y_train)\n",
    "lgb_preds = lgb_model.predict(X_test_normal)\n",
    "\n",
    "lgb_resids = (y_test - lgb_preds)\n",
    "\n",
    "lgb_MSE = mean_squared_error(y_test, lgb_preds)\n",
    "lgb_r2 = r2_score(y_test, lgb_preds)\n",
    "print('LGB MSE:', lgb_MSE)\n",
    "print('LGB R2:', lgb_r2)"
   ]
  },
  {
   "cell_type": "code",
   "execution_count": 38,
   "metadata": {},
   "outputs": [
    {
     "data": {
      "image/png": "[encoded data removed]",
      "text/plain": [
       "<Figure size 1008x360 with 2 Axes>"
      ]
     },
     "metadata": {
      "needs_background": "light"
     },
     "output_type": "display_data"
    }
   ],
   "source": [
    "figure, axes = plt.subplots(ncols=2, figsize=(14,5))\n",
    "\n",
    "sns.scatterplot(x=lgb_preds, y=lgb_resids, ax=axes[0])\n",
    "axes[0].set_title('LGB Residual Plot')\n",
    "axes[0].set(xlabel='Predictions', ylabel='Residuals')\n",
    "sns.scatterplot(x=lgb_preds, y=y_test, ax=axes[1])\n",
    "axes[1].set_title('LGB Predications v. Actuals')\n",
    "axes[1].set(xlabel='Predictions', ylabel='Actuals')\n",
    "\n",
    "plt.setp(axes, yticks=[])\n",
    "plt.tight_layout()"
   ]
  },
  {
   "cell_type": "markdown",
   "metadata": {},
   "source": [
    "#### SVM Model"
   ]
  },
  {
   "cell_type": "code",
   "execution_count": 39,
   "metadata": {},
   "outputs": [
    {
     "name": "stdout",
     "output_type": "stream",
     "text": [
      "Fitting 5 folds for each of 40 candidates, totalling 200 fits\n",
      "[CV] C=0.1, gamma=1, kernel=linear ...................................\n",
      "[CV] ...... C=0.1, gamma=1, kernel=linear, score=-9.395, total=   0.0s\n",
      "[CV] C=0.1, gamma=1, kernel=linear ...................................\n",
      "[CV] ...... C=0.1, gamma=1, kernel=linear, score=-7.516, total=   0.0s\n",
      "[CV] C=0.1, gamma=1, kernel=linear ...................................\n",
      "[CV] ...... C=0.1, gamma=1, kernel=linear, score=-6.260, total=   0.0s\n",
      "[CV] C=0.1, gamma=1, kernel=linear ...................................\n",
      "[CV] ...... C=0.1, gamma=1, kernel=linear, score=-6.816, total=   0.0s\n",
      "[CV] C=0.1, gamma=1, kernel=linear ...................................\n",
      "[CV] ...... C=0.1, gamma=1, kernel=linear, score=-9.790, total=   0.0s\n",
      "[CV] C=0.1, gamma=1, kernel=rbf ......................................\n",
      "[CV] ......... C=0.1, gamma=1, kernel=rbf, score=-9.300, total=   0.0s\n",
      "[CV] C=0.1, gamma=1, kernel=rbf ......................................\n",
      "[CV] ......... C=0.1, gamma=1, kernel=rbf, score=-7.538, total=   0.0s\n",
      "[CV] C=0.1, gamma=1, kernel=rbf ......................................\n",
      "[CV] ......... C=0.1, gamma=1, kernel=rbf, score=-6.113, total=   0.0s\n",
      "[CV] C=0.1, gamma=1, kernel=rbf ......................................\n",
      "[CV] ......... C=0.1, gamma=1, kernel=rbf, score=-6.733, total=   0.0s\n",
      "[CV] C=0.1, gamma=1, kernel=rbf ......................................\n",
      "[CV] ......... C=0.1, gamma=1, kernel=rbf, score=-9.757, total=   0.0s\n",
      "[CV] C=0.1, gamma=0.1, kernel=linear .................................\n",
      "[CV] .... C=0.1, gamma=0.1, kernel=linear, score=-9.395, total=   0.0s\n",
      "[CV] C=0.1, gamma=0.1, kernel=linear .................................\n",
      "[CV] .... C=0.1, gamma=0.1, kernel=linear, score=-7.516, total=   0.0s\n",
      "[CV] C=0.1, gamma=0.1, kernel=linear .................................\n",
      "[CV] .... C=0.1, gamma=0.1, kernel=linear, score=-6.260, total=   0.0s\n",
      "[CV] C=0.1, gamma=0.1, kernel=linear .................................\n",
      "[CV] .... C=0.1, gamma=0.1, kernel=linear, score=-6.816, total=   0.0s\n",
      "[CV] C=0.1, gamma=0.1, kernel=linear .................................\n",
      "[CV] .... C=0.1, gamma=0.1, kernel=linear, score=-9.790, total=   0.0s\n",
      "[CV] C=0.1, gamma=0.1, kernel=rbf ....................................\n",
      "[CV] ...... C=0.1, gamma=0.1, kernel=rbf, score=-11.474, total=   0.0s\n",
      "[CV] C=0.1, gamma=0.1, kernel=rbf ....................................\n"
     ]
    },
    {
     "name": "stderr",
     "output_type": "stream",
     "text": [
      "[Parallel(n_jobs=1)]: Using backend SequentialBackend with 1 concurrent workers.\n",
      "[Parallel(n_jobs=1)]: Done   1 out of   1 | elapsed:    0.0s remaining:    0.0s\n",
      "[Parallel(n_jobs=1)]: Done   2 out of   2 | elapsed:    0.0s remaining:    0.0s\n"
     ]
    },
    {
     "name": "stdout",
     "output_type": "stream",
     "text": [
      "[CV] ....... C=0.1, gamma=0.1, kernel=rbf, score=-8.584, total=   0.0s\n",
      "[CV] C=0.1, gamma=0.1, kernel=rbf ....................................\n",
      "[CV] ....... C=0.1, gamma=0.1, kernel=rbf, score=-7.407, total=   0.0s\n",
      "[CV] C=0.1, gamma=0.1, kernel=rbf ....................................\n",
      "[CV] ....... C=0.1, gamma=0.1, kernel=rbf, score=-7.335, total=   0.0s\n",
      "[CV] C=0.1, gamma=0.1, kernel=rbf ....................................\n",
      "[CV] ...... C=0.1, gamma=0.1, kernel=rbf, score=-11.462, total=   0.0s\n",
      "[CV] C=0.1, gamma=0.01, kernel=linear ................................\n",
      "[CV] ... C=0.1, gamma=0.01, kernel=linear, score=-9.395, total=   0.0s\n",
      "[CV] C=0.1, gamma=0.01, kernel=linear ................................\n",
      "[CV] ... C=0.1, gamma=0.01, kernel=linear, score=-7.516, total=   0.0s\n",
      "[CV] C=0.1, gamma=0.01, kernel=linear ................................\n",
      "[CV] ... C=0.1, gamma=0.01, kernel=linear, score=-6.260, total=   0.0s\n",
      "[CV] C=0.1, gamma=0.01, kernel=linear ................................\n",
      "[CV] ... C=0.1, gamma=0.01, kernel=linear, score=-6.816, total=   0.0s\n",
      "[CV] C=0.1, gamma=0.01, kernel=linear ................................\n",
      "[CV] ... C=0.1, gamma=0.01, kernel=linear, score=-9.790, total=   0.0s\n",
      "[CV] C=0.1, gamma=0.01, kernel=rbf ...................................\n",
      "[CV] ..... C=0.1, gamma=0.01, kernel=rbf, score=-12.776, total=   0.0s\n",
      "[CV] C=0.1, gamma=0.01, kernel=rbf ...................................\n",
      "[CV] ...... C=0.1, gamma=0.01, kernel=rbf, score=-9.404, total=   0.0s\n",
      "[CV] C=0.1, gamma=0.01, kernel=rbf ...................................\n",
      "[CV] ...... C=0.1, gamma=0.01, kernel=rbf, score=-8.354, total=   0.0s\n",
      "[CV] C=0.1, gamma=0.01, kernel=rbf ...................................\n",
      "[CV] ...... C=0.1, gamma=0.01, kernel=rbf, score=-8.011, total=   0.0s\n",
      "[CV] C=0.1, gamma=0.01, kernel=rbf ...................................\n",
      "[CV] ..... C=0.1, gamma=0.01, kernel=rbf, score=-12.661, total=   0.0s\n",
      "[CV] C=0.1, gamma=0.001, kernel=linear ...............................\n",
      "[CV] .. C=0.1, gamma=0.001, kernel=linear, score=-9.395, total=   0.0s\n",
      "[CV] C=0.1, gamma=0.001, kernel=linear ...............................\n",
      "[CV] .. C=0.1, gamma=0.001, kernel=linear, score=-7.516, total=   0.0s\n",
      "[CV] C=0.1, gamma=0.001, kernel=linear ...............................\n",
      "[CV] .. C=0.1, gamma=0.001, kernel=linear, score=-6.260, total=   0.0s\n",
      "[CV] C=0.1, gamma=0.001, kernel=linear ...............................\n",
      "[CV] .. C=0.1, gamma=0.001, kernel=linear, score=-6.816, total=   0.0s\n",
      "[CV] C=0.1, gamma=0.001, kernel=linear ...............................\n",
      "[CV] .. C=0.1, gamma=0.001, kernel=linear, score=-9.790, total=   0.0s\n",
      "[CV] C=0.1, gamma=0.001, kernel=rbf ..................................\n",
      "[CV] .... C=0.1, gamma=0.001, kernel=rbf, score=-12.917, total=   0.0s\n",
      "[CV] C=0.1, gamma=0.001, kernel=rbf ..................................\n",
      "[CV] ..... C=0.1, gamma=0.001, kernel=rbf, score=-9.545, total=   0.0s\n",
      "[CV] C=0.1, gamma=0.001, kernel=rbf ..................................\n",
      "[CV] ..... C=0.1, gamma=0.001, kernel=rbf, score=-8.495, total=   0.0s\n",
      "[CV] C=0.1, gamma=0.001, kernel=rbf ..................................\n",
      "[CV] ..... C=0.1, gamma=0.001, kernel=rbf, score=-8.119, total=   0.0s\n",
      "[CV] C=0.1, gamma=0.001, kernel=rbf ..................................\n",
      "[CV] .... C=0.1, gamma=0.001, kernel=rbf, score=-12.826, total=   0.0s\n",
      "[CV] C=0.1, gamma=0.0001, kernel=linear ..............................\n",
      "[CV] . C=0.1, gamma=0.0001, kernel=linear, score=-9.395, total=   0.0s\n",
      "[CV] C=0.1, gamma=0.0001, kernel=linear ..............................\n",
      "[CV] . C=0.1, gamma=0.0001, kernel=linear, score=-7.516, total=   0.0s\n",
      "[CV] C=0.1, gamma=0.0001, kernel=linear ..............................\n",
      "[CV] . C=0.1, gamma=0.0001, kernel=linear, score=-6.260, total=   0.0s\n",
      "[CV] C=0.1, gamma=0.0001, kernel=linear ..............................\n",
      "[CV] . C=0.1, gamma=0.0001, kernel=linear, score=-6.816, total=   0.0s\n",
      "[CV] C=0.1, gamma=0.0001, kernel=linear ..............................\n",
      "[CV] . C=0.1, gamma=0.0001, kernel=linear, score=-9.790, total=   0.0s\n",
      "[CV] C=0.1, gamma=0.0001, kernel=rbf .................................\n",
      "[CV] ... C=0.1, gamma=0.0001, kernel=rbf, score=-12.933, total=   0.0s\n",
      "[CV] C=0.1, gamma=0.0001, kernel=rbf .................................\n",
      "[CV] .... C=0.1, gamma=0.0001, kernel=rbf, score=-9.549, total=   0.0s\n",
      "[CV] C=0.1, gamma=0.0001, kernel=rbf .................................\n",
      "[CV] .... C=0.1, gamma=0.0001, kernel=rbf, score=-8.510, total=   0.0s\n",
      "[CV] C=0.1, gamma=0.0001, kernel=rbf .................................\n",
      "[CV] .... C=0.1, gamma=0.0001, kernel=rbf, score=-8.126, total=   0.0s\n",
      "[CV] C=0.1, gamma=0.0001, kernel=rbf .................................\n",
      "[CV] ... C=0.1, gamma=0.0001, kernel=rbf, score=-12.843, total=   0.0s\n",
      "[CV] C=1, gamma=1, kernel=linear .....................................\n",
      "[CV] ........ C=1, gamma=1, kernel=linear, score=-8.882, total=   0.0s\n",
      "[CV] C=1, gamma=1, kernel=linear .....................................\n",
      "[CV] ........ C=1, gamma=1, kernel=linear, score=-7.423, total=   0.0s\n",
      "[CV] C=1, gamma=1, kernel=linear .....................................\n",
      "[CV] ........ C=1, gamma=1, kernel=linear, score=-6.141, total=   0.0s\n",
      "[CV] C=1, gamma=1, kernel=linear .....................................\n",
      "[CV] ........ C=1, gamma=1, kernel=linear, score=-7.206, total=   0.0s\n",
      "[CV] C=1, gamma=1, kernel=linear .....................................\n",
      "[CV] ........ C=1, gamma=1, kernel=linear, score=-9.260, total=   0.0s\n",
      "[CV] C=1, gamma=1, kernel=rbf ........................................\n",
      "[CV] ........... C=1, gamma=1, kernel=rbf, score=-8.975, total=   0.0s\n",
      "[CV] C=1, gamma=1, kernel=rbf ........................................\n",
      "[CV] ........... C=1, gamma=1, kernel=rbf, score=-7.628, total=   0.0s\n",
      "[CV] C=1, gamma=1, kernel=rbf ........................................\n",
      "[CV] ........... C=1, gamma=1, kernel=rbf, score=-5.902, total=   0.0s\n",
      "[CV] C=1, gamma=1, kernel=rbf ........................................\n",
      "[CV] ........... C=1, gamma=1, kernel=rbf, score=-6.908, total=   0.0s\n",
      "[CV] C=1, gamma=1, kernel=rbf ........................................\n",
      "[CV] ........... C=1, gamma=1, kernel=rbf, score=-9.083, total=   0.0s\n",
      "[CV] C=1, gamma=0.1, kernel=linear ...................................\n",
      "[CV] ...... C=1, gamma=0.1, kernel=linear, score=-8.882, total=   0.0s\n",
      "[CV] C=1, gamma=0.1, kernel=linear ...................................\n",
      "[CV] ...... C=1, gamma=0.1, kernel=linear, score=-7.423, total=   0.0s\n",
      "[CV] C=1, gamma=0.1, kernel=linear ...................................\n",
      "[CV] ...... C=1, gamma=0.1, kernel=linear, score=-6.141, total=   0.0s\n",
      "[CV] C=1, gamma=0.1, kernel=linear ...................................\n",
      "[CV] ...... C=1, gamma=0.1, kernel=linear, score=-7.206, total=   0.0s\n",
      "[CV] C=1, gamma=0.1, kernel=linear ...................................\n",
      "[CV] ...... C=1, gamma=0.1, kernel=linear, score=-9.260, total=   0.0s\n",
      "[CV] C=1, gamma=0.1, kernel=rbf ......................................\n",
      "[CV] ......... C=1, gamma=0.1, kernel=rbf, score=-9.112, total=   0.0s\n",
      "[CV] C=1, gamma=0.1, kernel=rbf ......................................\n",
      "[CV] ......... C=1, gamma=0.1, kernel=rbf, score=-7.492, total=   0.0s\n",
      "[CV] C=1, gamma=0.1, kernel=rbf ......................................\n",
      "[CV] ......... C=1, gamma=0.1, kernel=rbf, score=-6.104, total=   0.0s\n",
      "[CV] C=1, gamma=0.1, kernel=rbf ......................................\n",
      "[CV] ......... C=1, gamma=0.1, kernel=rbf, score=-6.895, total=   0.0s\n",
      "[CV] C=1, gamma=0.1, kernel=rbf ......................................\n",
      "[CV] ......... C=1, gamma=0.1, kernel=rbf, score=-9.488, total=   0.0s\n",
      "[CV] C=1, gamma=0.01, kernel=linear ..................................\n",
      "[CV] ..... C=1, gamma=0.01, kernel=linear, score=-8.882, total=   0.0s\n",
      "[CV] C=1, gamma=0.01, kernel=linear ..................................\n",
      "[CV] ..... C=1, gamma=0.01, kernel=linear, score=-7.423, total=   0.0s\n",
      "[CV] C=1, gamma=0.01, kernel=linear ..................................\n",
      "[CV] ..... C=1, gamma=0.01, kernel=linear, score=-6.141, total=   0.0s\n",
      "[CV] C=1, gamma=0.01, kernel=linear ..................................\n",
      "[CV] ..... C=1, gamma=0.01, kernel=linear, score=-7.206, total=   0.0s\n",
      "[CV] C=1, gamma=0.01, kernel=linear ..................................\n",
      "[CV] ..... C=1, gamma=0.01, kernel=linear, score=-9.260, total=   0.0s\n",
      "[CV] C=1, gamma=0.01, kernel=rbf .....................................\n",
      "[CV] ....... C=1, gamma=0.01, kernel=rbf, score=-11.430, total=   0.0s\n",
      "[CV] C=1, gamma=0.01, kernel=rbf .....................................\n",
      "[CV] ........ C=1, gamma=0.01, kernel=rbf, score=-8.536, total=   0.0s\n",
      "[CV] C=1, gamma=0.01, kernel=rbf .....................................\n",
      "[CV] ........ C=1, gamma=0.01, kernel=rbf, score=-7.368, total=   0.0s\n",
      "[CV] C=1, gamma=0.01, kernel=rbf .....................................\n",
      "[CV] ........ C=1, gamma=0.01, kernel=rbf, score=-7.301, total=   0.0s\n",
      "[CV] C=1, gamma=0.01, kernel=rbf .....................................\n",
      "[CV] ....... C=1, gamma=0.01, kernel=rbf, score=-11.415, total=   0.0s\n",
      "[CV] C=1, gamma=0.001, kernel=linear .................................\n",
      "[CV] .... C=1, gamma=0.001, kernel=linear, score=-8.882, total=   0.0s\n",
      "[CV] C=1, gamma=0.001, kernel=linear .................................\n",
      "[CV] .... C=1, gamma=0.001, kernel=linear, score=-7.423, total=   0.0s\n",
      "[CV] C=1, gamma=0.001, kernel=linear .................................\n"
     ]
    },
    {
     "name": "stdout",
     "output_type": "stream",
     "text": [
      "[CV] .... C=1, gamma=0.001, kernel=linear, score=-6.141, total=   0.0s\n",
      "[CV] C=1, gamma=0.001, kernel=linear .................................\n",
      "[CV] .... C=1, gamma=0.001, kernel=linear, score=-7.206, total=   0.0s\n",
      "[CV] C=1, gamma=0.001, kernel=linear .................................\n",
      "[CV] .... C=1, gamma=0.001, kernel=linear, score=-9.260, total=   0.0s\n",
      "[CV] C=1, gamma=0.001, kernel=rbf ....................................\n",
      "[CV] ...... C=1, gamma=0.001, kernel=rbf, score=-12.776, total=   0.0s\n",
      "[CV] C=1, gamma=0.001, kernel=rbf ....................................\n",
      "[CV] ....... C=1, gamma=0.001, kernel=rbf, score=-9.403, total=   0.0s\n",
      "[CV] C=1, gamma=0.001, kernel=rbf ....................................\n",
      "[CV] ....... C=1, gamma=0.001, kernel=rbf, score=-8.353, total=   0.0s\n",
      "[CV] C=1, gamma=0.001, kernel=rbf ....................................\n",
      "[CV] ....... C=1, gamma=0.001, kernel=rbf, score=-8.010, total=   0.0s\n",
      "[CV] C=1, gamma=0.001, kernel=rbf ....................................\n",
      "[CV] ...... C=1, gamma=0.001, kernel=rbf, score=-12.660, total=   0.0s\n",
      "[CV] C=1, gamma=0.0001, kernel=linear ................................\n",
      "[CV] ... C=1, gamma=0.0001, kernel=linear, score=-8.882, total=   0.0s\n",
      "[CV] C=1, gamma=0.0001, kernel=linear ................................\n",
      "[CV] ... C=1, gamma=0.0001, kernel=linear, score=-7.423, total=   0.0s\n",
      "[CV] C=1, gamma=0.0001, kernel=linear ................................\n",
      "[CV] ... C=1, gamma=0.0001, kernel=linear, score=-6.141, total=   0.0s\n",
      "[CV] C=1, gamma=0.0001, kernel=linear ................................\n",
      "[CV] ... C=1, gamma=0.0001, kernel=linear, score=-7.206, total=   0.0s\n",
      "[CV] C=1, gamma=0.0001, kernel=linear ................................\n",
      "[CV] ... C=1, gamma=0.0001, kernel=linear, score=-9.260, total=   0.0s\n",
      "[CV] C=1, gamma=0.0001, kernel=rbf ...................................\n",
      "[CV] ..... C=1, gamma=0.0001, kernel=rbf, score=-12.917, total=   0.0s\n",
      "[CV] C=1, gamma=0.0001, kernel=rbf ...................................\n",
      "[CV] ...... C=1, gamma=0.0001, kernel=rbf, score=-9.545, total=   0.0s\n",
      "[CV] C=1, gamma=0.0001, kernel=rbf ...................................\n",
      "[CV] ...... C=1, gamma=0.0001, kernel=rbf, score=-8.495, total=   0.0s\n",
      "[CV] C=1, gamma=0.0001, kernel=rbf ...................................\n",
      "[CV] ...... C=1, gamma=0.0001, kernel=rbf, score=-8.119, total=   0.0s\n",
      "[CV] C=1, gamma=0.0001, kernel=rbf ...................................\n",
      "[CV] ..... C=1, gamma=0.0001, kernel=rbf, score=-12.826, total=   0.0s\n",
      "[CV] C=10, gamma=1, kernel=linear ....................................\n",
      "[CV] ....... C=10, gamma=1, kernel=linear, score=-8.879, total=   0.0s\n",
      "[CV] C=10, gamma=1, kernel=linear ....................................\n",
      "[CV] ....... C=10, gamma=1, kernel=linear, score=-7.427, total=   0.0s\n",
      "[CV] C=10, gamma=1, kernel=linear ....................................\n",
      "[CV] ....... C=10, gamma=1, kernel=linear, score=-6.160, total=   0.0s\n",
      "[CV] C=10, gamma=1, kernel=linear ....................................\n",
      "[CV] ....... C=10, gamma=1, kernel=linear, score=-7.323, total=   0.0s\n",
      "[CV] C=10, gamma=1, kernel=linear ....................................\n",
      "[CV] ....... C=10, gamma=1, kernel=linear, score=-9.251, total=   0.0s\n",
      "[CV] C=10, gamma=1, kernel=rbf .......................................\n",
      "[CV] .......... C=10, gamma=1, kernel=rbf, score=-9.084, total=   0.0s\n",
      "[CV] C=10, gamma=1, kernel=rbf .......................................\n",
      "[CV] .......... C=10, gamma=1, kernel=rbf, score=-7.780, total=   0.0s\n",
      "[CV] C=10, gamma=1, kernel=rbf .......................................\n",
      "[CV] .......... C=10, gamma=1, kernel=rbf, score=-5.986, total=   0.0s\n",
      "[CV] C=10, gamma=1, kernel=rbf .......................................\n",
      "[CV] .......... C=10, gamma=1, kernel=rbf, score=-6.985, total=   0.0s\n",
      "[CV] C=10, gamma=1, kernel=rbf .......................................\n",
      "[CV] .......... C=10, gamma=1, kernel=rbf, score=-9.075, total=   0.0s\n",
      "[CV] C=10, gamma=0.1, kernel=linear ..................................\n",
      "[CV] ..... C=10, gamma=0.1, kernel=linear, score=-8.879, total=   0.0s\n",
      "[CV] C=10, gamma=0.1, kernel=linear ..................................\n",
      "[CV] ..... C=10, gamma=0.1, kernel=linear, score=-7.427, total=   0.0s\n",
      "[CV] C=10, gamma=0.1, kernel=linear ..................................\n",
      "[CV] ..... C=10, gamma=0.1, kernel=linear, score=-6.160, total=   0.0s\n",
      "[CV] C=10, gamma=0.1, kernel=linear ..................................\n",
      "[CV] ..... C=10, gamma=0.1, kernel=linear, score=-7.323, total=   0.0s\n",
      "[CV] C=10, gamma=0.1, kernel=linear ..................................\n",
      "[CV] ..... C=10, gamma=0.1, kernel=linear, score=-9.251, total=   0.0s\n",
      "[CV] C=10, gamma=0.1, kernel=rbf .....................................\n",
      "[CV] ........ C=10, gamma=0.1, kernel=rbf, score=-8.900, total=   0.0s\n",
      "[CV] C=10, gamma=0.1, kernel=rbf .....................................\n",
      "[CV] ........ C=10, gamma=0.1, kernel=rbf, score=-7.529, total=   0.0s\n",
      "[CV] C=10, gamma=0.1, kernel=rbf .....................................\n",
      "[CV] ........ C=10, gamma=0.1, kernel=rbf, score=-6.033, total=   0.0s\n",
      "[CV] C=10, gamma=0.1, kernel=rbf .....................................\n",
      "[CV] ........ C=10, gamma=0.1, kernel=rbf, score=-7.085, total=   0.0s\n",
      "[CV] C=10, gamma=0.1, kernel=rbf .....................................\n",
      "[CV] ........ C=10, gamma=0.1, kernel=rbf, score=-9.095, total=   0.0s\n",
      "[CV] C=10, gamma=0.01, kernel=linear .................................\n",
      "[CV] .... C=10, gamma=0.01, kernel=linear, score=-8.879, total=   0.0s\n",
      "[CV] C=10, gamma=0.01, kernel=linear .................................\n",
      "[CV] .... C=10, gamma=0.01, kernel=linear, score=-7.427, total=   0.0s\n",
      "[CV] C=10, gamma=0.01, kernel=linear .................................\n",
      "[CV] .... C=10, gamma=0.01, kernel=linear, score=-6.160, total=   0.0s\n",
      "[CV] C=10, gamma=0.01, kernel=linear .................................\n",
      "[CV] .... C=10, gamma=0.01, kernel=linear, score=-7.323, total=   0.0s\n",
      "[CV] C=10, gamma=0.01, kernel=linear .................................\n",
      "[CV] .... C=10, gamma=0.01, kernel=linear, score=-9.251, total=   0.0s\n",
      "[CV] C=10, gamma=0.01, kernel=rbf ....................................\n",
      "[CV] ....... C=10, gamma=0.01, kernel=rbf, score=-9.109, total=   0.0s\n",
      "[CV] C=10, gamma=0.01, kernel=rbf ....................................\n",
      "[CV] ....... C=10, gamma=0.01, kernel=rbf, score=-7.460, total=   0.0s\n",
      "[CV] C=10, gamma=0.01, kernel=rbf ....................................\n",
      "[CV] ....... C=10, gamma=0.01, kernel=rbf, score=-6.130, total=   0.0s\n",
      "[CV] C=10, gamma=0.01, kernel=rbf ....................................\n",
      "[CV] ....... C=10, gamma=0.01, kernel=rbf, score=-6.932, total=   0.0s\n",
      "[CV] C=10, gamma=0.01, kernel=rbf ....................................\n",
      "[CV] ....... C=10, gamma=0.01, kernel=rbf, score=-9.473, total=   0.0s\n",
      "[CV] C=10, gamma=0.001, kernel=linear ................................\n",
      "[CV] ... C=10, gamma=0.001, kernel=linear, score=-8.879, total=   0.0s\n",
      "[CV] C=10, gamma=0.001, kernel=linear ................................\n",
      "[CV] ... C=10, gamma=0.001, kernel=linear, score=-7.427, total=   0.0s\n",
      "[CV] C=10, gamma=0.001, kernel=linear ................................\n",
      "[CV] ... C=10, gamma=0.001, kernel=linear, score=-6.160, total=   0.0s\n",
      "[CV] C=10, gamma=0.001, kernel=linear ................................\n",
      "[CV] ... C=10, gamma=0.001, kernel=linear, score=-7.323, total=   0.0s\n",
      "[CV] C=10, gamma=0.001, kernel=linear ................................\n",
      "[CV] ... C=10, gamma=0.001, kernel=linear, score=-9.251, total=   0.0s\n",
      "[CV] C=10, gamma=0.001, kernel=rbf ...................................\n",
      "[CV] ..... C=10, gamma=0.001, kernel=rbf, score=-11.424, total=   0.0s\n",
      "[CV] C=10, gamma=0.001, kernel=rbf ...................................\n",
      "[CV] ...... C=10, gamma=0.001, kernel=rbf, score=-8.530, total=   0.0s\n",
      "[CV] C=10, gamma=0.001, kernel=rbf ...................................\n",
      "[CV] ...... C=10, gamma=0.001, kernel=rbf, score=-7.365, total=   0.0s\n",
      "[CV] C=10, gamma=0.001, kernel=rbf ...................................\n",
      "[CV] ...... C=10, gamma=0.001, kernel=rbf, score=-7.298, total=   0.0s\n",
      "[CV] C=10, gamma=0.001, kernel=rbf ...................................\n",
      "[CV] ..... C=10, gamma=0.001, kernel=rbf, score=-11.407, total=   0.0s\n",
      "[CV] C=10, gamma=0.0001, kernel=linear ...............................\n",
      "[CV] .. C=10, gamma=0.0001, kernel=linear, score=-8.879, total=   0.0s\n",
      "[CV] C=10, gamma=0.0001, kernel=linear ...............................\n",
      "[CV] .. C=10, gamma=0.0001, kernel=linear, score=-7.427, total=   0.0s\n",
      "[CV] C=10, gamma=0.0001, kernel=linear ...............................\n",
      "[CV] .. C=10, gamma=0.0001, kernel=linear, score=-6.160, total=   0.0s\n",
      "[CV] C=10, gamma=0.0001, kernel=linear ...............................\n",
      "[CV] .. C=10, gamma=0.0001, kernel=linear, score=-7.323, total=   0.0s\n",
      "[CV] C=10, gamma=0.0001, kernel=linear ...............................\n",
      "[CV] .. C=10, gamma=0.0001, kernel=linear, score=-9.251, total=   0.0s\n",
      "[CV] C=10, gamma=0.0001, kernel=rbf ..................................\n",
      "[CV] .... C=10, gamma=0.0001, kernel=rbf, score=-12.776, total=   0.0s\n",
      "[CV] C=10, gamma=0.0001, kernel=rbf ..................................\n",
      "[CV] ..... C=10, gamma=0.0001, kernel=rbf, score=-9.402, total=   0.0s\n",
      "[CV] C=10, gamma=0.0001, kernel=rbf ..................................\n",
      "[CV] ..... C=10, gamma=0.0001, kernel=rbf, score=-8.353, total=   0.0s\n",
      "[CV] C=10, gamma=0.0001, kernel=rbf ..................................\n",
      "[CV] ..... C=10, gamma=0.0001, kernel=rbf, score=-8.010, total=   0.0s\n",
      "[CV] C=10, gamma=0.0001, kernel=rbf ..................................\n",
      "[CV] .... C=10, gamma=0.0001, kernel=rbf, score=-12.659, total=   0.0s\n",
      "[CV] C=100, gamma=1, kernel=linear ...................................\n",
      "[CV] ...... C=100, gamma=1, kernel=linear, score=-8.855, total=   0.0s\n",
      "[CV] C=100, gamma=1, kernel=linear ...................................\n",
      "[CV] ...... C=100, gamma=1, kernel=linear, score=-7.428, total=   0.0s\n",
      "[CV] C=100, gamma=1, kernel=linear ...................................\n"
     ]
    },
    {
     "name": "stdout",
     "output_type": "stream",
     "text": [
      "[CV] ...... C=100, gamma=1, kernel=linear, score=-6.165, total=   0.0s\n",
      "[CV] C=100, gamma=1, kernel=linear ...................................\n",
      "[CV] ...... C=100, gamma=1, kernel=linear, score=-7.335, total=   0.0s\n",
      "[CV] C=100, gamma=1, kernel=linear ...................................\n",
      "[CV] ...... C=100, gamma=1, kernel=linear, score=-9.284, total=   0.0s\n",
      "[CV] C=100, gamma=1, kernel=rbf ......................................\n",
      "[CV] ......... C=100, gamma=1, kernel=rbf, score=-9.725, total=   0.0s\n",
      "[CV] C=100, gamma=1, kernel=rbf ......................................\n",
      "[CV] ......... C=100, gamma=1, kernel=rbf, score=-8.223, total=   0.0s\n",
      "[CV] C=100, gamma=1, kernel=rbf ......................................\n",
      "[CV] ......... C=100, gamma=1, kernel=rbf, score=-6.389, total=   0.0s\n",
      "[CV] C=100, gamma=1, kernel=rbf ......................................\n",
      "[CV] ......... C=100, gamma=1, kernel=rbf, score=-7.452, total=   0.0s\n",
      "[CV] C=100, gamma=1, kernel=rbf ......................................\n",
      "[CV] ......... C=100, gamma=1, kernel=rbf, score=-9.736, total=   0.0s\n",
      "[CV] C=100, gamma=0.1, kernel=linear .................................\n",
      "[CV] .... C=100, gamma=0.1, kernel=linear, score=-8.855, total=   0.0s\n",
      "[CV] C=100, gamma=0.1, kernel=linear .................................\n",
      "[CV] .... C=100, gamma=0.1, kernel=linear, score=-7.428, total=   0.0s\n",
      "[CV] C=100, gamma=0.1, kernel=linear .................................\n",
      "[CV] .... C=100, gamma=0.1, kernel=linear, score=-6.165, total=   0.0s\n",
      "[CV] C=100, gamma=0.1, kernel=linear .................................\n",
      "[CV] .... C=100, gamma=0.1, kernel=linear, score=-7.335, total=   0.0s\n",
      "[CV] C=100, gamma=0.1, kernel=linear .................................\n",
      "[CV] .... C=100, gamma=0.1, kernel=linear, score=-9.284, total=   0.0s\n",
      "[CV] C=100, gamma=0.1, kernel=rbf ....................................\n",
      "[CV] ....... C=100, gamma=0.1, kernel=rbf, score=-9.035, total=   0.0s\n",
      "[CV] C=100, gamma=0.1, kernel=rbf ....................................\n",
      "[CV] ....... C=100, gamma=0.1, kernel=rbf, score=-7.640, total=   0.0s\n",
      "[CV] C=100, gamma=0.1, kernel=rbf ....................................\n",
      "[CV] ....... C=100, gamma=0.1, kernel=rbf, score=-6.017, total=   0.0s\n",
      "[CV] C=100, gamma=0.1, kernel=rbf ....................................\n",
      "[CV] ....... C=100, gamma=0.1, kernel=rbf, score=-7.032, total=   0.0s\n",
      "[CV] C=100, gamma=0.1, kernel=rbf ....................................\n",
      "[CV] ....... C=100, gamma=0.1, kernel=rbf, score=-8.961, total=   0.0s\n",
      "[CV] C=100, gamma=0.01, kernel=linear ................................\n",
      "[CV] ... C=100, gamma=0.01, kernel=linear, score=-8.855, total=   0.0s\n",
      "[CV] C=100, gamma=0.01, kernel=linear ................................\n",
      "[CV] ... C=100, gamma=0.01, kernel=linear, score=-7.428, total=   0.0s\n",
      "[CV] C=100, gamma=0.01, kernel=linear ................................\n",
      "[CV] ... C=100, gamma=0.01, kernel=linear, score=-6.165, total=   0.0s\n",
      "[CV] C=100, gamma=0.01, kernel=linear ................................\n",
      "[CV] ... C=100, gamma=0.01, kernel=linear, score=-7.335, total=   0.0s\n",
      "[CV] C=100, gamma=0.01, kernel=linear ................................\n",
      "[CV] ... C=100, gamma=0.01, kernel=linear, score=-9.284, total=   0.0s\n",
      "[CV] C=100, gamma=0.01, kernel=rbf ...................................\n",
      "[CV] ...... C=100, gamma=0.01, kernel=rbf, score=-8.916, total=   0.0s\n",
      "[CV] C=100, gamma=0.01, kernel=rbf ...................................\n",
      "[CV] ...... C=100, gamma=0.01, kernel=rbf, score=-7.421, total=   0.0s\n",
      "[CV] C=100, gamma=0.01, kernel=rbf ...................................\n",
      "[CV] ...... C=100, gamma=0.01, kernel=rbf, score=-6.124, total=   0.0s\n",
      "[CV] C=100, gamma=0.01, kernel=rbf ...................................\n",
      "[CV] ...... C=100, gamma=0.01, kernel=rbf, score=-7.213, total=   0.0s\n",
      "[CV] C=100, gamma=0.01, kernel=rbf ...................................\n",
      "[CV] ...... C=100, gamma=0.01, kernel=rbf, score=-9.205, total=   0.0s\n",
      "[CV] C=100, gamma=0.001, kernel=linear ...............................\n",
      "[CV] .. C=100, gamma=0.001, kernel=linear, score=-8.855, total=   0.0s\n",
      "[CV] C=100, gamma=0.001, kernel=linear ...............................\n",
      "[CV] .. C=100, gamma=0.001, kernel=linear, score=-7.428, total=   0.0s\n",
      "[CV] C=100, gamma=0.001, kernel=linear ...............................\n",
      "[CV] .. C=100, gamma=0.001, kernel=linear, score=-6.165, total=   0.0s\n",
      "[CV] C=100, gamma=0.001, kernel=linear ...............................\n",
      "[CV] .. C=100, gamma=0.001, kernel=linear, score=-7.335, total=   0.0s\n",
      "[CV] C=100, gamma=0.001, kernel=linear ...............................\n",
      "[CV] .. C=100, gamma=0.001, kernel=linear, score=-9.284, total=   0.0s\n",
      "[CV] C=100, gamma=0.001, kernel=rbf ..................................\n",
      "[CV] ..... C=100, gamma=0.001, kernel=rbf, score=-9.107, total=   0.0s\n",
      "[CV] C=100, gamma=0.001, kernel=rbf ..................................\n",
      "[CV] ..... C=100, gamma=0.001, kernel=rbf, score=-7.464, total=   0.0s\n",
      "[CV] C=100, gamma=0.001, kernel=rbf ..................................\n",
      "[CV] ..... C=100, gamma=0.001, kernel=rbf, score=-6.133, total=   0.0s\n",
      "[CV] C=100, gamma=0.001, kernel=rbf ..................................\n",
      "[CV] ..... C=100, gamma=0.001, kernel=rbf, score=-6.937, total=   0.0s\n",
      "[CV] C=100, gamma=0.001, kernel=rbf ..................................\n",
      "[CV] ..... C=100, gamma=0.001, kernel=rbf, score=-9.471, total=   0.0s\n",
      "[CV] C=100, gamma=0.0001, kernel=linear ..............................\n",
      "[CV] . C=100, gamma=0.0001, kernel=linear, score=-8.855, total=   0.0s\n",
      "[CV] C=100, gamma=0.0001, kernel=linear ..............................\n",
      "[CV] . C=100, gamma=0.0001, kernel=linear, score=-7.428, total=   0.0s\n",
      "[CV] C=100, gamma=0.0001, kernel=linear ..............................\n",
      "[CV] . C=100, gamma=0.0001, kernel=linear, score=-6.165, total=   0.0s\n",
      "[CV] C=100, gamma=0.0001, kernel=linear ..............................\n",
      "[CV] . C=100, gamma=0.0001, kernel=linear, score=-7.335, total=   0.0s\n",
      "[CV] C=100, gamma=0.0001, kernel=linear ..............................\n",
      "[CV] . C=100, gamma=0.0001, kernel=linear, score=-9.284, total=   0.0s\n",
      "[CV] C=100, gamma=0.0001, kernel=rbf .................................\n",
      "[CV] ... C=100, gamma=0.0001, kernel=rbf, score=-11.423, total=   0.0s\n",
      "[CV] C=100, gamma=0.0001, kernel=rbf .................................\n",
      "[CV] .... C=100, gamma=0.0001, kernel=rbf, score=-8.530, total=   0.0s\n",
      "[CV] C=100, gamma=0.0001, kernel=rbf .................................\n",
      "[CV] .... C=100, gamma=0.0001, kernel=rbf, score=-7.364, total=   0.0s\n",
      "[CV] C=100, gamma=0.0001, kernel=rbf .................................\n",
      "[CV] .... C=100, gamma=0.0001, kernel=rbf, score=-7.298, total=   0.0s\n",
      "[CV] C=100, gamma=0.0001, kernel=rbf .................................\n",
      "[CV] ... C=100, gamma=0.0001, kernel=rbf, score=-11.406, total=   0.0s\n"
     ]
    },
    {
     "name": "stderr",
     "output_type": "stream",
     "text": [
      "[Parallel(n_jobs=1)]: Done 200 out of 200 | elapsed:    2.9s finished\n"
     ]
    },
    {
     "data": {
      "text/plain": [
       "GridSearchCV(cv=5, estimator=SVR(), n_jobs=1,\n",
       "             param_grid={'C': [0.1, 1, 10, 100],\n",
       "                         'gamma': [1, 0.1, 0.01, 0.001, 0.0001],\n",
       "                         'kernel': ['linear', 'rbf']},\n",
       "             scoring='neg_mean_squared_error', verbose=3)"
      ]
     },
     "execution_count": 39,
     "metadata": {},
     "output_type": "execute_result"
    }
   ],
   "source": [
    "# use GridSearchCV for finding optimal hyperparams\n",
    "svm_params = {\n",
    "    'C': [0.1, 1, 10, 100],\n",
    "    'gamma': [1, 0.1, 0.01, 0.001, 0.0001],\n",
    "    'kernel': ['linear', 'rbf']\n",
    "}\n",
    "\n",
    "svm_search = GridSearchCV(SVR(), param_grid=svm_params,verbose=3,\n",
    "                      scoring='neg_mean_squared_error',n_jobs=1,cv=5)\n",
    "\n",
    "svm_search.fit(X_train_normal, y_train)"
   ]
  },
  {
   "cell_type": "code",
   "execution_count": 40,
   "metadata": {},
   "outputs": [
    {
     "name": "stdout",
     "output_type": "stream",
     "text": [
      "SVM MSE: 8.71049813476533\n",
      "SVM R2: 0.23111669206969088\n"
     ]
    }
   ],
   "source": [
    "svm_model = svm_search.best_estimator_\n",
    "\n",
    "svm_preds = svm_model.predict(X_test_normal)\n",
    "\n",
    "svm_resids = (y_test - svm_preds)\n",
    "\n",
    "svm_MSE = mean_squared_error(y_test, svm_preds)\n",
    "svm_r2 = r2_score(y_test, svm_preds)\n",
    "print('SVM MSE:', svm_MSE)\n",
    "print('SVM R2:', svm_r2)"
   ]
  },
  {
   "cell_type": "code",
   "execution_count": 41,
   "metadata": {},
   "outputs": [
    {
     "data": {
      "image/png": "[encoded data removed]",
      "text/plain": [
       "<Figure size 1008x360 with 2 Axes>"
      ]
     },
     "metadata": {
      "needs_background": "light"
     },
     "output_type": "display_data"
    }
   ],
   "source": [
    "figure, axes = plt.subplots(ncols=2, figsize=(14,5))\n",
    "\n",
    "sns.scatterplot(x=svm_preds, y=svm_resids, ax=axes[0])\n",
    "axes[0].set_title('SVM Residual Plot')\n",
    "axes[0].set(xlabel='Predictions', ylabel='Residuals')\n",
    "sns.scatterplot(x=svm_preds, y=y_test, ax=axes[1])\n",
    "axes[1].set_title('SVM Predications v. Actuals')\n",
    "axes[1].set(xlabel='Predictions', ylabel='Actuals')\n",
    "\n",
    "plt.setp(axes, yticks=[])\n",
    "plt.tight_layout()"
   ]
  },
  {
   "cell_type": "markdown",
   "metadata": {},
   "source": [
    "## Model Performance Comparison"
   ]
  },
  {
   "cell_type": "code",
   "execution_count": 99,
   "metadata": {},
   "outputs": [
    {
     "name": "stdout",
     "output_type": "stream",
     "text": [
      "Lin MSE: 8.634\n",
      "RF MSE: 8.645\n",
      "XGB MSE: 8.85\n",
      "ENet MSE: 8.028\n",
      "LGB MSE: 9.749\n",
      "SVM MSE: 8.71\n"
     ]
    }
   ],
   "source": [
    "print('Lin MSE:', round(lin_MSE,3))\n",
    "print('RF MSE:', round(rf_MSE,3))\n",
    "print('XGB MSE:', round(xgb_MSE, 3))\n",
    "print('ENet MSE:', round(enet_MSE, 3))\n",
    "print('LGB MSE:', round(lgb_MSE,3))\n",
    "print('SVM MSE:', round(svm_MSE,3))"
   ]
  },
  {
   "cell_type": "markdown",
   "metadata": {},
   "source": [
    "Best model is Elastic Net. Use this model and its predictions for further analysis."
   ]
  },
  {
   "cell_type": "markdown",
   "metadata": {},
   "source": [
    "## Compare Versus ADP"
   ]
  },
  {
   "cell_type": "markdown",
   "metadata": {},
   "source": [
    "In this section, I will be comparing the results of the Elastic Net model against the pre-season rankings as determined by ADP. The two ranking systems will be compared by placing each player into a group _x_ out of *n* groups based on their Predicted FV or ADP, whichever is applicable. The same will be done for Target FV. The groups will then be compared and scored accordingly:"
   ]
  },
  {
   "cell_type": "markdown",
   "metadata": {},
   "source": [
    "First, the number of correct predictions of players in the top 50% will be calculated:"
   ]
  },
  {
   "cell_type": "code",
   "execution_count": 58,
   "metadata": {},
   "outputs": [
    {
     "data": {
      "text/html": [
       "<style  type=\"text/css\" >\n",
       "</style><table id=\"T_bf523da4_eded_11ea_8b5b_645d864cfe59\" ><thead>    <tr>        <th class=\"col_heading level0 col0\" >Result</th>        <th class=\"col_heading level0 col1\" >Score</th>    </tr></thead><tbody>\n",
       "                <tr>\n",
       "                                <td id=\"T_bf523da4_eded_11ea_8b5b_645d864cfe59row0_col0\" class=\"data row0 col0\" >Matches Placement</td>\n",
       "                        <td id=\"T_bf523da4_eded_11ea_8b5b_645d864cfe59row0_col1\" class=\"data row0 col1\" >+1</td>\n",
       "            </tr>\n",
       "            <tr>\n",
       "                                <td id=\"T_bf523da4_eded_11ea_8b5b_645d864cfe59row1_col0\" class=\"data row1 col0\" >Does Not Match</td>\n",
       "                        <td id=\"T_bf523da4_eded_11ea_8b5b_645d864cfe59row1_col1\" class=\"data row1 col1\" >0</td>\n",
       "            </tr>\n",
       "    </tbody></table>"
      ],
      "text/plain": [
       "<pandas.io.formats.style.Styler at 0x23a3aeeb2e8>"
      ]
     },
     "execution_count": 58,
     "metadata": {},
     "output_type": "execute_result"
    }
   ],
   "source": [
    "scoring = pd.DataFrame(data=[['Matches Placement','+1'], ['Does Not Match', '0']], columns=['Result', 'Score'], index=None)\n",
    "scoring.style.hide_index()"
   ]
  },
  {
   "cell_type": "markdown",
   "metadata": {},
   "source": [
    "Then the ratio of correct predictions versus the total number of the top 50% of players will be calculated:"
   ]
  },
  {
   "cell_type": "markdown",
   "metadata": {},
   "source": [
    "$$\\text{Top Performer Ratio (TPR) = $\\frac{\\text{Correct Predictions}}{\\text{Top Half of Players}}$}$$"
   ]
  },
  {
   "cell_type": "markdown",
   "metadata": {},
   "source": [
    "#### Other Evaluation Metrics"
   ]
  },
  {
   "cell_type": "markdown",
   "metadata": {},
   "source": [
    "- <b>Missed Predictions</b>: The number of predictions that were incorrectly placed inside/outside of the top 50%\n",
    "- <b>Missed Target Value</b>: The total Target Value of the players that were incorrectly predicted outside of the top 50% \n",
    "- <b>Value Found</b>: The total Target Value of players that were correctly predicted inside the top 50%\n",
    "- <b>Total Value</b>: Value Found - Missed Target Value"
   ]
  },
  {
   "cell_type": "markdown",
   "metadata": {},
   "source": [
    "#### Read in ADP Data"
   ]
  },
  {
   "cell_type": "code",
   "execution_count": 44,
   "metadata": {},
   "outputs": [],
   "source": [
    "ADP_data = pd.read_csv('../datasets/baseball/ADP_2018.csv')"
   ]
  },
  {
   "cell_type": "code",
   "execution_count": 45,
   "metadata": {},
   "outputs": [
    {
     "data": {
      "text/html": [
       "<div>\n",
       "<style scoped>\n",
       "    .dataframe tbody tr th:only-of-type {\n",
       "        vertical-align: middle;\n",
       "    }\n",
       "\n",
       "    .dataframe tbody tr th {\n",
       "        vertical-align: top;\n",
       "    }\n",
       "\n",
       "    .dataframe thead th {\n",
       "        text-align: right;\n",
       "    }\n",
       "</style>\n",
       "<table border=\"1\" class=\"dataframe\">\n",
       "  <thead>\n",
       "    <tr style=\"text-align: right;\">\n",
       "      <th></th>\n",
       "      <th>RK</th>\n",
       "      <th>ID</th>\n",
       "      <th>NAME</th>\n",
       "      <th>ADP</th>\n",
       "      <th>New Rank</th>\n",
       "    </tr>\n",
       "  </thead>\n",
       "  <tbody>\n",
       "    <tr>\n",
       "      <th>0</th>\n",
       "      <td>1</td>\n",
       "      <td>10000600</td>\n",
       "      <td>Mike Trout</td>\n",
       "      <td>1</td>\n",
       "      <td>1</td>\n",
       "    </tr>\n",
       "    <tr>\n",
       "      <th>1</th>\n",
       "      <td>2</td>\n",
       "      <td>10000485</td>\n",
       "      <td>Jose Altuve</td>\n",
       "      <td>2</td>\n",
       "      <td>2</td>\n",
       "    </tr>\n",
       "    <tr>\n",
       "      <th>2</th>\n",
       "      <td>3</td>\n",
       "      <td>10000393</td>\n",
       "      <td>Nolan Arenado</td>\n",
       "      <td>3</td>\n",
       "      <td>3</td>\n",
       "    </tr>\n",
       "    <tr>\n",
       "      <th>3</th>\n",
       "      <td>4</td>\n",
       "      <td>10002094</td>\n",
       "      <td>Trea Turner</td>\n",
       "      <td>4</td>\n",
       "      <td>4</td>\n",
       "    </tr>\n",
       "    <tr>\n",
       "      <th>4</th>\n",
       "      <td>5</td>\n",
       "      <td>10000031</td>\n",
       "      <td>Paul Goldschmidt</td>\n",
       "      <td>5</td>\n",
       "      <td>5</td>\n",
       "    </tr>\n",
       "  </tbody>\n",
       "</table>\n",
       "</div>"
      ],
      "text/plain": [
       "   RK        ID              NAME  ADP  New Rank\n",
       "0   1  10000600        Mike Trout    1         1\n",
       "1   2  10000485       Jose Altuve    2         2\n",
       "2   3  10000393     Nolan Arenado    3         3\n",
       "3   4  10002094       Trea Turner    4         4\n",
       "4   5  10000031  Paul Goldschmidt    5         5"
      ]
     },
     "execution_count": 45,
     "metadata": {},
     "output_type": "execute_result"
    }
   ],
   "source": [
    "ADP_data.head()"
   ]
  },
  {
   "cell_type": "code",
   "execution_count": 46,
   "metadata": {},
   "outputs": [],
   "source": [
    "ADP_data.drop(['RK', 'ID'], inplace=True, axis=1)\n",
    "ADP_data.rename(columns={\"NAME\": \"Name\"}, inplace=True)"
   ]
  },
  {
   "cell_type": "markdown",
   "metadata": {},
   "source": [
    "#### Create useful functions"
   ]
  },
  {
   "cell_type": "markdown",
   "metadata": {},
   "source": [
    "Below I will define 2 functions for separating the model predictions and ADP predictions into subgroups. I will also create a function to identify \"missed\" predictions along with some alternative scoring metrics (explained later). "
   ]
  },
  {
   "cell_type": "code",
   "execution_count": 59,
   "metadata": {},
   "outputs": [],
   "source": [
    "def add_sections(df, sections=4):\n",
    "    num_players = len(df)\n",
    "\n",
    "    counter = 0\n",
    "    df.sort_values('Target FV', ascending=False, inplace=True, ignore_index=True)\n",
    "    for n in range(sections):\n",
    "        for i in range(counter, num_players):\n",
    "            if i < math.floor(num_players*((n+1)/sections)):\n",
    "                df.at[i, 'Target Section'] = int(n+1)\n",
    "                last_i = i\n",
    "        counter = last_i+1\n",
    "\n",
    "    counter = 0\n",
    "    df.sort_values('Predicted FV', ascending=False, inplace=True, ignore_index=True)\n",
    "    for n in range(sections):\n",
    "        for i in range(counter, num_players):\n",
    "            if i < math.floor(num_players*((n+1)/sections)):\n",
    "                df.at[i, 'Predicted Section'] = int(n+1)\n",
    "                last_i = i\n",
    "        counter = last_i+1\n",
    "\n",
    "    return df"
   ]
  },
  {
   "cell_type": "code",
   "execution_count": 60,
   "metadata": {},
   "outputs": [],
   "source": [
    "def ADP_add_sections(df, sections=4):\n",
    "    num_players = len(df)\n",
    "    counter = 0\n",
    "    df.sort_values('New Rank', ascending=True, inplace=True, ignore_index=True)\n",
    "    for n in range(sections):\n",
    "        for i in range(counter, num_players):\n",
    "            if i < math.floor(num_players*((n+1)/sections)):\n",
    "                df.at[i, 'ADP Section'] = (n+1)\n",
    "                last_i = i\n",
    "        counter = last_i+1\n",
    "    return df"
   ]
  },
  {
   "cell_type": "code",
   "execution_count": 89,
   "metadata": {},
   "outputs": [],
   "source": [
    "def missed_prediction_results(df, sections=4):\n",
    "    split = sections//2\n",
    "    temp1 = df[(df['Target Section'] <=split) & (df['Predicted Section'] >split)] #predicted bad, does good\n",
    "    temp2 = df[(df['Target Section'] >split) & (df['Predicted Section'] <=split)] #predicted good, does bad\n",
    "    temp3 = df[(df['Target Section'] <=split) & (df['Predicted Section'] <=split)] #predicted good, does good\n",
    "    temp4 = df[(df['Target Section'] <=split)] # did good\n",
    "    global model_missed_predictions, model_missed_tv, model_top_ratio, model_value_found, model_total_value  \n",
    "    model_missed_predictions = pd.concat([temp1, temp2])\n",
    "    model_missed_tv = abs(model_missed_predictions['Target FV']).sum()\n",
    "    model_top_ratio = len(temp3)/len(temp4)\n",
    "    model_value_found =  abs(temp3['Target FV']).sum()\n",
    "    model_total_value = model_value_found-model_missed_tv\n",
    "    model_correct_predictions = len(df)-len(model_missed_predictions)\n",
    "    print(\"Top Performer Ratio Predicted:\", model_top_ratio)\n",
    "    print(\"Number of missed predictions:\", len(model_missed_predictions))\n",
    "    print(\"Target Value Missed:\", model_missed_tv)\n",
    "    print(\"Value found:\", model_value_found)\n",
    "    print(\"Total value:\", model_total_value)"
   ]
  },
  {
   "cell_type": "markdown",
   "metadata": {},
   "source": [
    "#### Configure Elastic Net results"
   ]
  },
  {
   "cell_type": "code",
   "execution_count": 50,
   "metadata": {},
   "outputs": [],
   "source": [
    "names = data[['playerid', 'Name']].drop_duplicates(subset=['playerid'])"
   ]
  },
  {
   "cell_type": "code",
   "execution_count": 51,
   "metadata": {},
   "outputs": [
    {
     "data": {
      "text/html": [
       "<div>\n",
       "<style scoped>\n",
       "    .dataframe tbody tr th:only-of-type {\n",
       "        vertical-align: middle;\n",
       "    }\n",
       "\n",
       "    .dataframe tbody tr th {\n",
       "        vertical-align: top;\n",
       "    }\n",
       "\n",
       "    .dataframe thead th {\n",
       "        text-align: right;\n",
       "    }\n",
       "</style>\n",
       "<table border=\"1\" class=\"dataframe\">\n",
       "  <thead>\n",
       "    <tr style=\"text-align: right;\">\n",
       "      <th></th>\n",
       "      <th>playerid</th>\n",
       "      <th>Name</th>\n",
       "      <th>Target Season</th>\n",
       "      <th>Target FV</th>\n",
       "      <th>Predicted FV</th>\n",
       "      <th>Difference</th>\n",
       "    </tr>\n",
       "  </thead>\n",
       "  <tbody>\n",
       "    <tr>\n",
       "      <th>0</th>\n",
       "      <td>13611</td>\n",
       "      <td>Mookie Betts</td>\n",
       "      <td>2018</td>\n",
       "      <td>12.516023</td>\n",
       "      <td>3.009271</td>\n",
       "      <td>9.506753</td>\n",
       "    </tr>\n",
       "    <tr>\n",
       "      <th>1</th>\n",
       "      <td>13611</td>\n",
       "      <td>Mookie Betts</td>\n",
       "      <td>2017</td>\n",
       "      <td>3.964353</td>\n",
       "      <td>4.398515</td>\n",
       "      <td>-0.434162</td>\n",
       "    </tr>\n",
       "    <tr>\n",
       "      <th>2</th>\n",
       "      <td>11477</td>\n",
       "      <td>Christian Yelich</td>\n",
       "      <td>2018</td>\n",
       "      <td>10.721773</td>\n",
       "      <td>1.470063</td>\n",
       "      <td>9.251710</td>\n",
       "    </tr>\n",
       "    <tr>\n",
       "      <th>3</th>\n",
       "      <td>11477</td>\n",
       "      <td>Christian Yelich</td>\n",
       "      <td>2017</td>\n",
       "      <td>1.719685</td>\n",
       "      <td>1.404008</td>\n",
       "      <td>0.315677</td>\n",
       "    </tr>\n",
       "    <tr>\n",
       "      <th>4</th>\n",
       "      <td>6184</td>\n",
       "      <td>J.D. Martinez</td>\n",
       "      <td>2018</td>\n",
       "      <td>10.084667</td>\n",
       "      <td>5.703378</td>\n",
       "      <td>4.381289</td>\n",
       "    </tr>\n",
       "  </tbody>\n",
       "</table>\n",
       "</div>"
      ],
      "text/plain": [
       "   playerid              Name  Target Season  Target FV  Predicted FV  \\\n",
       "0     13611      Mookie Betts           2018  12.516023      3.009271   \n",
       "1     13611      Mookie Betts           2017   3.964353      4.398515   \n",
       "2     11477  Christian Yelich           2018  10.721773      1.470063   \n",
       "3     11477  Christian Yelich           2017   1.719685      1.404008   \n",
       "4      6184     J.D. Martinez           2018  10.084667      5.703378   \n",
       "\n",
       "   Difference  \n",
       "0    9.506753  \n",
       "1   -0.434162  \n",
       "2    9.251710  \n",
       "3    0.315677  \n",
       "4    4.381289  "
      ]
     },
     "execution_count": 51,
     "metadata": {},
     "output_type": "execute_result"
    }
   ],
   "source": [
    "col_names = ['playerid', 'Target Season', 'Target FV', \n",
    "             'Predicted FV', 'Difference']\n",
    "             \n",
    "enet_output = pd.DataFrame({'playerid': test_ID,\n",
    "                            'Target Season': test_season+1,\n",
    "                            'Target FV': y_test, \n",
    "                            'Predicted FV': enet_preds, \n",
    "                            'Difference': (y_test - enet_preds)}, \n",
    "                           columns=col_names)\n",
    "\n",
    "enet_output = pd.merge(names,enet_output,on='playerid',how='inner')\n",
    "enet_output.head()"
   ]
  },
  {
   "cell_type": "code",
   "execution_count": 52,
   "metadata": {},
   "outputs": [],
   "source": [
    "results_2018 = enet_output[enet_output['Target Season'] == 2018].sort_values('Predicted FV', ascending=False).reset_index()\n",
    "results_2017 = enet_output[enet_output['Target Season'] == 2017].sort_values('Predicted FV', ascending=False).reset_index()"
   ]
  },
  {
   "cell_type": "markdown",
   "metadata": {},
   "source": [
    "#### Sort predictions into subgroups"
   ]
  },
  {
   "cell_type": "code",
   "execution_count": 53,
   "metadata": {},
   "outputs": [],
   "source": [
    "results_2018 = add_sections(results_2018, 4)\n",
    "results_2017 = add_sections(results_2017, 4)\n",
    "ADP_data = ADP_add_sections(ADP_data, sections=4)"
   ]
  },
  {
   "cell_type": "markdown",
   "metadata": {},
   "source": [
    "#### More ADP data work"
   ]
  },
  {
   "cell_type": "code",
   "execution_count": 54,
   "metadata": {},
   "outputs": [],
   "source": [
    "ADP_data_merged = pd.merge(results_2018,ADP_data,on='Name',how='inner').drop(['index', 'playerid'], axis=1)"
   ]
  },
  {
   "cell_type": "markdown",
   "metadata": {},
   "source": [
    "#### Explore results (2018 data only)"
   ]
  },
  {
   "cell_type": "code",
   "execution_count": 90,
   "metadata": {},
   "outputs": [
    {
     "name": "stdout",
     "output_type": "stream",
     "text": [
      "Top Performer Ratio Predicted: 0.7105263157894737\n",
      "Number of missed predictions: 44\n",
      "Target Value Missed: 78.598856876\n",
      "Value found: 197.323192675\n",
      "Total value: 118.724335799\n"
     ]
    }
   ],
   "source": [
    "missed_prediction_results(results_2018, sections=4)"
   ]
  },
  {
   "cell_type": "code",
   "execution_count": 91,
   "metadata": {},
   "outputs": [
    {
     "name": "stdout",
     "output_type": "stream",
     "text": [
      "Top performer ratio predicted: 0.7702702702702703\n",
      "Number of missed predictions: 43\n",
      "Target Value missed: 66.006003214\n",
      "Value found: 211.13092306800002\n",
      "Total value: 145.124919854\n"
     ]
    }
   ],
   "source": [
    "# ADP results\n",
    "temp1 = ADP_data_merged[(ADP_data_merged['Target Section'] <=2) & (ADP_data_merged['ADP Section'] >2)]\n",
    "temp2 = ADP_data_merged[(ADP_data_merged['Target Section'] >2) & (ADP_data_merged['ADP Section'] <=2)]\n",
    "temp3 = ADP_data_merged[(ADP_data_merged['Target Section'] <=2) & (ADP_data_merged['ADP Section'] <=2)]\n",
    "temp4 = ADP_data_merged[(ADP_data_merged['Target Section'] <=2)]\n",
    "ADP_missed_predictions = pd.concat([temp1, temp2])\n",
    "ADP_missed_tv = abs(ADP_missed_predictions['Target FV']).sum()\n",
    "ADP_top_ratio = len(temp3)/len(temp4)\n",
    "ADP_value_found =  abs(temp3['Target FV']).sum()\n",
    "ADP_total_value = ADP_value_found-ADP_missed_tv\n",
    "print(\"Top performer ratio predicted:\", ADP_top_ratio)\n",
    "print(\"Number of missed predictions:\", len(ADP_missed_predictions))\n",
    "print(\"Target Value missed:\", ADP_missed_tv)\n",
    "print(\"Value found:\", ADP_value_found)\n",
    "print(\"Total value:\", ADP_total_value)"
   ]
  },
  {
   "cell_type": "markdown",
   "metadata": {},
   "source": [
    "## Final Results"
   ]
  },
  {
   "cell_type": "code",
   "execution_count": 93,
   "metadata": {},
   "outputs": [
    {
     "data": {
      "text/html": [
       "<div>\n",
       "<style scoped>\n",
       "    .dataframe tbody tr th:only-of-type {\n",
       "        vertical-align: middle;\n",
       "    }\n",
       "\n",
       "    .dataframe tbody tr th {\n",
       "        vertical-align: top;\n",
       "    }\n",
       "\n",
       "    .dataframe thead th {\n",
       "        text-align: right;\n",
       "    }\n",
       "</style>\n",
       "<table border=\"1\" class=\"dataframe\">\n",
       "  <thead>\n",
       "    <tr style=\"text-align: right;\">\n",
       "      <th></th>\n",
       "      <th>ADP</th>\n",
       "      <th>Model</th>\n",
       "    </tr>\n",
       "  </thead>\n",
       "  <tbody>\n",
       "    <tr>\n",
       "      <th>Top Performer Ratio</th>\n",
       "      <td>0.770270</td>\n",
       "      <td>0.710526</td>\n",
       "    </tr>\n",
       "    <tr>\n",
       "      <th>Missed Predictions</th>\n",
       "      <td>43.000000</td>\n",
       "      <td>44.000000</td>\n",
       "    </tr>\n",
       "    <tr>\n",
       "      <th>Missed Target Value</th>\n",
       "      <td>66.006003</td>\n",
       "      <td>78.598857</td>\n",
       "    </tr>\n",
       "    <tr>\n",
       "      <th>Value Found</th>\n",
       "      <td>211.130923</td>\n",
       "      <td>197.323193</td>\n",
       "    </tr>\n",
       "    <tr>\n",
       "      <th>Total Value</th>\n",
       "      <td>145.124920</td>\n",
       "      <td>118.724336</td>\n",
       "    </tr>\n",
       "  </tbody>\n",
       "</table>\n",
       "</div>"
      ],
      "text/plain": [
       "                            ADP       Model\n",
       "Top Performer Ratio    0.770270    0.710526\n",
       "Missed Predictions    43.000000   44.000000\n",
       "Missed Target Value   66.006003   78.598857\n",
       "Value Found          211.130923  197.323193\n",
       "Total Value          145.124920  118.724336"
      ]
     },
     "execution_count": 93,
     "metadata": {},
     "output_type": "execute_result"
    }
   ],
   "source": [
    "# results data frame comparing ADP to model\n",
    "final_results = pd.DataFrame({\n",
    "    'Top Performer Ratio': [ADP_top_ratio, model_top_ratio],\n",
    "    'Missed Predictions': [len(ADP_missed_predictions), len(model_missed_predictions)],\n",
    "    'Missed Target Value': [ADP_missed_tv, model_missed_tv],\n",
    "    'Value Found': [ADP_value_found, model_value_found],\n",
    "    'Total Value': [ADP_total_value, model_total_value]},\n",
    "    index=['ADP', 'Model']\n",
    ")\n",
    "\n",
    "final_results.T"
   ]
  },
  {
   "cell_type": "markdown",
   "metadata": {},
   "source": [
    "For the primary scoring metric (TPR), the Elastic Net model performed <i>worse</i> than the ADP rankings. Digging deeper into the secondary evaluation metrics, we see that the model missed placing one more player than the ADP rankings, missed a larger Target Value, and overall found less value. Since ADP rankings are essentially built upon the fantasy baseball community's collective predictions, these results suggest there are possibly factors/features that are not yet accounted for in the model."
   ]
  },
  {
   "cell_type": "markdown",
   "metadata": {},
   "source": [
    "## Potential Next Steps"
   ]
  },
  {
   "cell_type": "markdown",
   "metadata": {},
   "source": [
    "- <b>Find additional features to add</b>\n",
    "    - Career Stats\n",
    "    - Injury Proneness (# of injuries)\n",
    "    - Home Park (Team could be used as proxy)\n",
    "    - League (AL vs. NL)\n",
    "- <b>Investigate model's missed predictions</b>\n",
    "    - Could help understand where performance is suffering compared to ADP\n",
    "- <b>Change to classification model</b>\n",
    "    - Since end comparison relies on properly categorizing players, a classification model might be better suited\n",
    "    - Regression model could be useful when determining \"how much better\" a player is from the next\n",
    "- <b>Align training penalty to end goal</b>\n",
    "    - Results only care about top 50% right/wrong, so model should be optimized for correctly predicting FV for top performers and care less about correctly aligning FV on poor performers. "
   ]
  },
  {
   "cell_type": "code",
   "execution_count": null,
   "metadata": {},
   "outputs": [],
   "source": []
  }
 ],
 "metadata": {
  "kernelspec": {
   "display_name": "Python 3",
   "language": "python",
   "name": "python3"
  },
  "language_info": {
   "codemirror_mode": {
    "name": "ipython",
    "version": 3
   },
   "file_extension": ".py",
   "mimetype": "text/x-python",
   "name": "python",
   "nbconvert_exporter": "python",
   "pygments_lexer": "ipython3",
   "version": "3.7.1"
  }
 },
 "nbformat": 4,
 "nbformat_minor": 2
}
